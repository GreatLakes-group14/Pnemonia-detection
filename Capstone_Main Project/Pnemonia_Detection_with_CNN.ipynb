{
  "nbformat": 4,
  "nbformat_minor": 0,
  "metadata": {
    "colab": {
      "name": "Pnemonia_Detection with CNN.ipynb",
      "provenance": [],
      "collapsed_sections": []
    },
    "kernelspec": {
      "name": "python3",
      "display_name": "Python 3"
    },
    "accelerator": "GPU"
  },
  "cells": [
    {
      "cell_type": "markdown",
      "metadata": {
        "id": "AZ4TpKeziO9Y",
        "colab_type": "text"
      },
      "source": [
        "# Project team & objective\n",
        "\n"
      ]
    },
    {
      "cell_type": "markdown",
      "metadata": {
        "id": "YfyrSjxmvkw9",
        "colab_type": "text"
      },
      "source": [
        "**Project: Pneumonia detection in Chest X-rays using Computer Vision**\n",
        "\n",
        "**Team members**\n",
        "1.   Anurag Maithray \n",
        "2.   Gokuul V\n",
        "3.   Jishnu Venugopal  \n",
        "4.   Surabee Sharma\n",
        "5.   Tarun Babu\n",
        "\n",
        "***Objective***\n",
        "\n",
        "Project- To develop a machine learning model to identify, locate and classify Chest X-rays with Pneumonia\n",
        "\n",
        "The major objective of this notebook is to demonstrate the final model for the project, post various attempts. The notebook is divided into 5 sections. These include,\n",
        "\n",
        "1. Section 1    -   Setting up the work environment (Import libraries & dataset)\n",
        "2. Section 2    -   Incremental EDA and data preparation\n",
        "3. Section 3    -   Building the requisite model\n",
        "4. Section 4    -   Model fitting\n",
        "5. Section 5    -   Model evaluation and result"
      ]
    },
    {
      "cell_type": "markdown",
      "metadata": {
        "id": "ymycr5eniFNa",
        "colab_type": "text"
      },
      "source": [
        "# Section 1- Setting up the work environment (Import libraries & dataset)\n",
        "\n"
      ]
    },
    {
      "cell_type": "markdown",
      "metadata": {
        "id": "RmFxGx-ajP7x",
        "colab_type": "text"
      },
      "source": [
        "All necessary libraries for proceessing, model building and evaluation are installed and imported in this section."
      ]
    },
    {
      "cell_type": "code",
      "metadata": {
        "id": "jrQJMlerVEO7",
        "colab_type": "code",
        "colab": {
          "base_uri": "https://localhost:8080/",
          "height": 568
        },
        "outputId": "005b5681-b55f-4d3d-93c4-755da547bf33"
      },
      "source": [
        "!apt-get install openslide-tools"
      ],
      "execution_count": null,
      "outputs": [
        {
          "output_type": "stream",
          "text": [
            "Reading package lists... Done\n",
            "Building dependency tree       \n",
            "Reading state information... Done\n",
            "The following package was automatically installed and is no longer required:\n",
            "  libnvidia-common-440\n",
            "Use 'apt autoremove' to remove it.\n",
            "The following additional packages will be installed:\n",
            "  libopenslide0\n",
            "Suggested packages:\n",
            "  libtiff-tools\n",
            "The following NEW packages will be installed:\n",
            "  libopenslide0 openslide-tools\n",
            "0 upgraded, 2 newly installed, 0 to remove and 33 not upgraded.\n",
            "Need to get 92.5 kB of archives.\n",
            "After this operation, 268 kB of additional disk space will be used.\n",
            "Get:1 http://archive.ubuntu.com/ubuntu bionic/universe amd64 libopenslide0 amd64 3.4.1+dfsg-2 [79.8 kB]\n",
            "Get:2 http://archive.ubuntu.com/ubuntu bionic/universe amd64 openslide-tools amd64 3.4.1+dfsg-2 [12.7 kB]\n",
            "Fetched 92.5 kB in 1s (179 kB/s)\n",
            "Selecting previously unselected package libopenslide0.\n",
            "(Reading database ... 144379 files and directories currently installed.)\n",
            "Preparing to unpack .../libopenslide0_3.4.1+dfsg-2_amd64.deb ...\n",
            "Unpacking libopenslide0 (3.4.1+dfsg-2) ...\n",
            "Selecting previously unselected package openslide-tools.\n",
            "Preparing to unpack .../openslide-tools_3.4.1+dfsg-2_amd64.deb ...\n",
            "Unpacking openslide-tools (3.4.1+dfsg-2) ...\n",
            "Setting up libopenslide0 (3.4.1+dfsg-2) ...\n",
            "Setting up openslide-tools (3.4.1+dfsg-2) ...\n",
            "Processing triggers for libc-bin (2.27-3ubuntu1) ...\n",
            "/sbin/ldconfig.real: /usr/local/lib/python3.6/dist-packages/ideep4py/lib/libmkldnn.so.0 is not a symbolic link\n",
            "\n",
            "Processing triggers for man-db (2.8.3-2ubuntu0.1) ...\n"
          ],
          "name": "stdout"
        }
      ]
    },
    {
      "cell_type": "markdown",
      "metadata": {
        "id": "3SMI2cpchmtp",
        "colab_type": "text"
      },
      "source": [
        "Openslide library is used to read higher resolutions images in medicine especially in digital pathology. This particular library is utilized for handling radiology images."
      ]
    },
    {
      "cell_type": "code",
      "metadata": {
        "id": "OewkuM_NVjRy",
        "colab_type": "code",
        "colab": {
          "base_uri": "https://localhost:8080/",
          "height": 924
        },
        "outputId": "eaaab97c-f36b-4f5b-ec87-660f352f1dfa"
      },
      "source": [
        "!pip install d2l"
      ],
      "execution_count": null,
      "outputs": [
        {
          "output_type": "stream",
          "text": [
            "Collecting d2l\n",
            "  Downloading https://files.pythonhosted.org/packages/55/55/74bb95e0f11b46eabf64105ecbf348734f331f443233cd69359f1161894f/d2l-0.12.0-py3-none-any.whl\n",
            "Requirement already satisfied: pandas in /usr/local/lib/python3.6/dist-packages (from d2l) (1.0.5)\n",
            "Requirement already satisfied: jupyter in /usr/local/lib/python3.6/dist-packages (from d2l) (1.0.0)\n",
            "Requirement already satisfied: matplotlib in /usr/local/lib/python3.6/dist-packages (from d2l) (3.2.2)\n",
            "Requirement already satisfied: numpy in /usr/local/lib/python3.6/dist-packages (from d2l) (1.18.5)\n",
            "Requirement already satisfied: pytz>=2017.2 in /usr/local/lib/python3.6/dist-packages (from pandas->d2l) (2018.9)\n",
            "Requirement already satisfied: python-dateutil>=2.6.1 in /usr/local/lib/python3.6/dist-packages (from pandas->d2l) (2.8.1)\n",
            "Requirement already satisfied: notebook in /usr/local/lib/python3.6/dist-packages (from jupyter->d2l) (5.2.2)\n",
            "Requirement already satisfied: nbconvert in /usr/local/lib/python3.6/dist-packages (from jupyter->d2l) (5.6.1)\n",
            "Requirement already satisfied: ipykernel in /usr/local/lib/python3.6/dist-packages (from jupyter->d2l) (4.10.1)\n",
            "Requirement already satisfied: jupyter-console in /usr/local/lib/python3.6/dist-packages (from jupyter->d2l) (5.2.0)\n",
            "Requirement already satisfied: qtconsole in /usr/local/lib/python3.6/dist-packages (from jupyter->d2l) (4.7.5)\n",
            "Requirement already satisfied: ipywidgets in /usr/local/lib/python3.6/dist-packages (from jupyter->d2l) (7.5.1)\n",
            "Requirement already satisfied: pyparsing!=2.0.4,!=2.1.2,!=2.1.6,>=2.0.1 in /usr/local/lib/python3.6/dist-packages (from matplotlib->d2l) (2.4.7)\n",
            "Requirement already satisfied: cycler>=0.10 in /usr/local/lib/python3.6/dist-packages (from matplotlib->d2l) (0.10.0)\n",
            "Requirement already satisfied: kiwisolver>=1.0.1 in /usr/local/lib/python3.6/dist-packages (from matplotlib->d2l) (1.2.0)\n",
            "Requirement already satisfied: six>=1.5 in /usr/local/lib/python3.6/dist-packages (from python-dateutil>=2.6.1->pandas->d2l) (1.12.0)\n",
            "Requirement already satisfied: traitlets>=4.2.1 in /usr/local/lib/python3.6/dist-packages (from notebook->jupyter->d2l) (4.3.3)\n",
            "Requirement already satisfied: ipython-genutils in /usr/local/lib/python3.6/dist-packages (from notebook->jupyter->d2l) (0.2.0)\n",
            "Requirement already satisfied: terminado>=0.3.3; sys_platform != \"win32\" in /usr/local/lib/python3.6/dist-packages (from notebook->jupyter->d2l) (0.8.3)\n",
            "Requirement already satisfied: jupyter-client in /usr/local/lib/python3.6/dist-packages (from notebook->jupyter->d2l) (5.3.4)\n",
            "Requirement already satisfied: nbformat in /usr/local/lib/python3.6/dist-packages (from notebook->jupyter->d2l) (5.0.7)\n",
            "Requirement already satisfied: jupyter-core in /usr/local/lib/python3.6/dist-packages (from notebook->jupyter->d2l) (4.6.3)\n",
            "Requirement already satisfied: jinja2 in /usr/local/lib/python3.6/dist-packages (from notebook->jupyter->d2l) (2.11.2)\n",
            "Requirement already satisfied: tornado>=4 in /usr/local/lib/python3.6/dist-packages (from notebook->jupyter->d2l) (4.5.3)\n",
            "Requirement already satisfied: bleach in /usr/local/lib/python3.6/dist-packages (from nbconvert->jupyter->d2l) (3.1.5)\n",
            "Requirement already satisfied: pygments in /usr/local/lib/python3.6/dist-packages (from nbconvert->jupyter->d2l) (2.1.3)\n",
            "Requirement already satisfied: testpath in /usr/local/lib/python3.6/dist-packages (from nbconvert->jupyter->d2l) (0.4.4)\n",
            "Requirement already satisfied: entrypoints>=0.2.2 in /usr/local/lib/python3.6/dist-packages (from nbconvert->jupyter->d2l) (0.3)\n",
            "Requirement already satisfied: mistune<2,>=0.8.1 in /usr/local/lib/python3.6/dist-packages (from nbconvert->jupyter->d2l) (0.8.4)\n",
            "Requirement already satisfied: pandocfilters>=1.4.1 in /usr/local/lib/python3.6/dist-packages (from nbconvert->jupyter->d2l) (1.4.2)\n",
            "Requirement already satisfied: defusedxml in /usr/local/lib/python3.6/dist-packages (from nbconvert->jupyter->d2l) (0.6.0)\n",
            "Requirement already satisfied: ipython>=4.0.0 in /usr/local/lib/python3.6/dist-packages (from ipykernel->jupyter->d2l) (5.5.0)\n",
            "Requirement already satisfied: prompt-toolkit<2.0.0,>=1.0.0 in /usr/local/lib/python3.6/dist-packages (from jupyter-console->jupyter->d2l) (1.0.18)\n",
            "Requirement already satisfied: pyzmq>=17.1 in /usr/local/lib/python3.6/dist-packages (from qtconsole->jupyter->d2l) (19.0.1)\n",
            "Requirement already satisfied: qtpy in /usr/local/lib/python3.6/dist-packages (from qtconsole->jupyter->d2l) (1.9.0)\n",
            "Requirement already satisfied: widgetsnbextension~=3.5.0 in /usr/local/lib/python3.6/dist-packages (from ipywidgets->jupyter->d2l) (3.5.1)\n",
            "Requirement already satisfied: decorator in /usr/local/lib/python3.6/dist-packages (from traitlets>=4.2.1->notebook->jupyter->d2l) (4.4.2)\n",
            "Requirement already satisfied: ptyprocess; os_name != \"nt\" in /usr/local/lib/python3.6/dist-packages (from terminado>=0.3.3; sys_platform != \"win32\"->notebook->jupyter->d2l) (0.6.0)\n",
            "Requirement already satisfied: jsonschema!=2.5.0,>=2.4 in /usr/local/lib/python3.6/dist-packages (from nbformat->notebook->jupyter->d2l) (2.6.0)\n",
            "Requirement already satisfied: MarkupSafe>=0.23 in /usr/local/lib/python3.6/dist-packages (from jinja2->notebook->jupyter->d2l) (1.1.1)\n",
            "Requirement already satisfied: webencodings in /usr/local/lib/python3.6/dist-packages (from bleach->nbconvert->jupyter->d2l) (0.5.1)\n",
            "Requirement already satisfied: packaging in /usr/local/lib/python3.6/dist-packages (from bleach->nbconvert->jupyter->d2l) (20.4)\n",
            "Requirement already satisfied: pickleshare in /usr/local/lib/python3.6/dist-packages (from ipython>=4.0.0->ipykernel->jupyter->d2l) (0.7.5)\n",
            "Requirement already satisfied: setuptools>=18.5 in /usr/local/lib/python3.6/dist-packages (from ipython>=4.0.0->ipykernel->jupyter->d2l) (47.3.1)\n",
            "Requirement already satisfied: simplegeneric>0.8 in /usr/local/lib/python3.6/dist-packages (from ipython>=4.0.0->ipykernel->jupyter->d2l) (0.8.1)\n",
            "Requirement already satisfied: pexpect; sys_platform != \"win32\" in /usr/local/lib/python3.6/dist-packages (from ipython>=4.0.0->ipykernel->jupyter->d2l) (4.8.0)\n",
            "Requirement already satisfied: wcwidth in /usr/local/lib/python3.6/dist-packages (from prompt-toolkit<2.0.0,>=1.0.0->jupyter-console->jupyter->d2l) (0.2.5)\n",
            "Installing collected packages: d2l\n",
            "Successfully installed d2l-0.12.0\n"
          ],
          "name": "stdout"
        }
      ]
    },
    {
      "cell_type": "code",
      "metadata": {
        "id": "AeIVefi6VnMo",
        "colab_type": "code",
        "colab": {
          "base_uri": "https://localhost:8080/",
          "height": 301
        },
        "outputId": "841d24be-4bc7-4ce3-f38b-23b7d239eceb"
      },
      "source": [
        "!pip install mxnet"
      ],
      "execution_count": null,
      "outputs": [
        {
          "output_type": "stream",
          "text": [
            "Collecting mxnet\n",
            "\u001b[?25l  Downloading https://files.pythonhosted.org/packages/81/f5/d79b5b40735086ff1100c680703e0f3efc830fa455e268e9e96f3c857e93/mxnet-1.6.0-py2.py3-none-any.whl (68.7MB)\n",
            "\u001b[K     |████████████████████████████████| 68.7MB 82kB/s \n",
            "\u001b[?25hCollecting graphviz<0.9.0,>=0.8.1\n",
            "  Downloading https://files.pythonhosted.org/packages/53/39/4ab213673844e0c004bed8a0781a0721a3f6bb23eb8854ee75c236428892/graphviz-0.8.4-py2.py3-none-any.whl\n",
            "Requirement already satisfied: numpy<2.0.0,>1.16.0 in /usr/local/lib/python3.6/dist-packages (from mxnet) (1.18.5)\n",
            "Requirement already satisfied: requests<3,>=2.20.0 in /usr/local/lib/python3.6/dist-packages (from mxnet) (2.23.0)\n",
            "Requirement already satisfied: urllib3!=1.25.0,!=1.25.1,<1.26,>=1.21.1 in /usr/local/lib/python3.6/dist-packages (from requests<3,>=2.20.0->mxnet) (1.24.3)\n",
            "Requirement already satisfied: certifi>=2017.4.17 in /usr/local/lib/python3.6/dist-packages (from requests<3,>=2.20.0->mxnet) (2020.6.20)\n",
            "Requirement already satisfied: chardet<4,>=3.0.2 in /usr/local/lib/python3.6/dist-packages (from requests<3,>=2.20.0->mxnet) (3.0.4)\n",
            "Requirement already satisfied: idna<3,>=2.5 in /usr/local/lib/python3.6/dist-packages (from requests<3,>=2.20.0->mxnet) (2.9)\n",
            "Installing collected packages: graphviz, mxnet\n",
            "  Found existing installation: graphviz 0.10.1\n",
            "    Uninstalling graphviz-0.10.1:\n",
            "      Successfully uninstalled graphviz-0.10.1\n",
            "Successfully installed graphviz-0.8.4 mxnet-1.6.0\n"
          ],
          "name": "stdout"
        }
      ]
    },
    {
      "cell_type": "code",
      "metadata": {
        "id": "bhz4_UoHVq53",
        "colab_type": "code",
        "colab": {
          "base_uri": "https://localhost:8080/",
          "height": 106
        },
        "outputId": "aaa27b0e-f691-4718-b293-0166a55c81c7"
      },
      "source": [
        "pip install pydicom"
      ],
      "execution_count": null,
      "outputs": [
        {
          "output_type": "stream",
          "text": [
            "Collecting pydicom\n",
            "\u001b[?25l  Downloading https://files.pythonhosted.org/packages/d3/56/342e1f8ce5afe63bf65c23d0b2c1cd5a05600caad1c211c39725d3a4cc56/pydicom-2.0.0-py3-none-any.whl (35.4MB)\n",
            "\u001b[K     |████████████████████████████████| 35.5MB 26.6MB/s \n",
            "\u001b[?25hInstalling collected packages: pydicom\n",
            "Successfully installed pydicom-2.0.0\n"
          ],
          "name": "stdout"
        }
      ]
    },
    {
      "cell_type": "markdown",
      "metadata": {
        "id": "aNbv4-g9j5tL",
        "colab_type": "text"
      },
      "source": [
        "For handling DICOM based radiology images"
      ]
    },
    {
      "cell_type": "code",
      "metadata": {
        "id": "r3Bei39ZVtej",
        "colab_type": "code",
        "colab": {
          "base_uri": "https://localhost:8080/",
          "height": 1000
        },
        "outputId": "4e01fba1-8fd5-48ff-e6d4-cb0ab6ae9e4d"
      },
      "source": [
        "!apt-get install python3-openslide"
      ],
      "execution_count": null,
      "outputs": [
        {
          "output_type": "stream",
          "text": [
            "Reading package lists... Done\n",
            "Building dependency tree       \n",
            "Reading state information... Done\n",
            "The following package was automatically installed and is no longer required:\n",
            "  libnvidia-common-440\n",
            "Use 'apt autoremove' to remove it.\n",
            "The following additional packages will be installed:\n",
            "  javascript-common libjs-jquery python-asn1crypto python-blinker\n",
            "  python-cffi-backend python-click python-colorama python-cryptography\n",
            "  python-enum34 python-flask python-idna python-ipaddress python-itsdangerous\n",
            "  python-jinja2 python-markupsafe python-openslide-examples python-openssl\n",
            "  python-pkg-resources python-pyinotify python-simplejson python-six\n",
            "  python-werkzeug python3-olefile python3-pil\n",
            "Suggested packages:\n",
            "  apache2 | lighttpd | httpd python-blinker-doc python-cryptography-doc\n",
            "  python-cryptography-vectors python-enum34-doc python-flask-doc\n",
            "  python-jinja2-doc python-openssl-doc python-openssl-dbg python-setuptools\n",
            "  python-pyinotify-doc ipython python-genshi python-lxml python-greenlet\n",
            "  python-redis python-pylibmc | python-memcache python-termcolor\n",
            "  python-watchdog python-werkzeug-doc python-pil-doc python3-pil-dbg\n",
            "The following NEW packages will be installed:\n",
            "  javascript-common libjs-jquery python-asn1crypto python-blinker\n",
            "  python-cffi-backend python-click python-colorama python-cryptography\n",
            "  python-enum34 python-flask python-idna python-ipaddress python-itsdangerous\n",
            "  python-jinja2 python-markupsafe python-openslide-examples python-openssl\n",
            "  python-pkg-resources python-pyinotify python-simplejson python-six\n",
            "  python-werkzeug python3-olefile python3-openslide python3-pil\n",
            "0 upgraded, 25 newly installed, 0 to remove and 33 not upgraded.\n",
            "Need to get 1,861 kB of archives.\n",
            "After this operation, 9,283 kB of additional disk space will be used.\n",
            "Get:1 http://archive.ubuntu.com/ubuntu bionic/main amd64 javascript-common all 11 [6,066 B]\n",
            "Get:2 http://archive.ubuntu.com/ubuntu bionic/main amd64 libjs-jquery all 3.2.1-1 [152 kB]\n",
            "Get:3 http://archive.ubuntu.com/ubuntu bionic/main amd64 python-asn1crypto all 0.24.0-1 [72.7 kB]\n",
            "Get:4 http://archive.ubuntu.com/ubuntu bionic/main amd64 python-blinker all 1.4+dfsg1-0.1 [13.0 kB]\n",
            "Get:5 http://archive.ubuntu.com/ubuntu bionic/main amd64 python-cffi-backend amd64 1.11.5-1 [63.4 kB]\n",
            "Get:6 http://archive.ubuntu.com/ubuntu bionic/main amd64 python-colorama all 0.3.7-1 [22.6 kB]\n",
            "Get:7 http://archive.ubuntu.com/ubuntu bionic/main amd64 python-click all 6.7-3 [56.4 kB]\n",
            "Get:8 http://archive.ubuntu.com/ubuntu bionic/main amd64 python-enum34 all 1.1.6-2 [34.8 kB]\n",
            "Get:9 http://archive.ubuntu.com/ubuntu bionic/main amd64 python-idna all 2.6-1 [32.4 kB]\n",
            "Get:10 http://archive.ubuntu.com/ubuntu bionic/main amd64 python-ipaddress all 1.0.17-1 [18.2 kB]\n",
            "Get:11 http://archive.ubuntu.com/ubuntu bionic/main amd64 python-six all 1.11.0-2 [11.3 kB]\n",
            "Get:12 http://archive.ubuntu.com/ubuntu bionic-updates/main amd64 python-cryptography amd64 2.1.4-1ubuntu1.3 [221 kB]\n",
            "Get:13 http://archive.ubuntu.com/ubuntu bionic/main amd64 python-itsdangerous all 0.24+dfsg1-2 [11.9 kB]\n",
            "Get:14 http://archive.ubuntu.com/ubuntu bionic/main amd64 python-markupsafe amd64 1.0-1build1 [13.0 kB]\n",
            "Get:15 http://archive.ubuntu.com/ubuntu bionic-updates/main amd64 python-jinja2 all 2.10-1ubuntu0.18.04.1 [94.8 kB]\n",
            "Get:16 http://archive.ubuntu.com/ubuntu bionic/main amd64 python-werkzeug all 0.14.1+dfsg1-1 [174 kB]\n",
            "Get:17 http://archive.ubuntu.com/ubuntu bionic-updates/main amd64 python-flask all 0.12.2-3ubuntu0.1 [62.4 kB]\n",
            "Get:18 http://archive.ubuntu.com/ubuntu bionic-updates/main amd64 python3-pil amd64 5.1.0-1ubuntu0.2 [329 kB]\n",
            "Get:19 http://archive.ubuntu.com/ubuntu bionic/universe amd64 python3-openslide amd64 1.1.1-2ubuntu4 [16.1 kB]\n",
            "Get:20 http://archive.ubuntu.com/ubuntu bionic/universe amd64 python-openslide-examples all 1.1.1-2ubuntu4 [168 kB]\n",
            "Get:21 http://archive.ubuntu.com/ubuntu bionic/main amd64 python-openssl all 17.5.0-1ubuntu1 [41.3 kB]\n",
            "Get:22 http://archive.ubuntu.com/ubuntu bionic/main amd64 python-pkg-resources all 39.0.1-2 [128 kB]\n",
            "Get:23 http://archive.ubuntu.com/ubuntu bionic/main amd64 python-pyinotify all 0.9.6-1 [24.6 kB]\n",
            "Get:24 http://archive.ubuntu.com/ubuntu bionic/main amd64 python-simplejson amd64 3.13.2-1 [61.2 kB]\n",
            "Get:25 http://archive.ubuntu.com/ubuntu bionic/main amd64 python3-olefile all 0.45.1-1 [33.3 kB]\n",
            "Fetched 1,861 kB in 1s (2,031 kB/s)\n",
            "Selecting previously unselected package javascript-common.\n",
            "(Reading database ... 144394 files and directories currently installed.)\n",
            "Preparing to unpack .../00-javascript-common_11_all.deb ...\n",
            "Unpacking javascript-common (11) ...\n",
            "Selecting previously unselected package libjs-jquery.\n",
            "Preparing to unpack .../01-libjs-jquery_3.2.1-1_all.deb ...\n",
            "Unpacking libjs-jquery (3.2.1-1) ...\n",
            "Selecting previously unselected package python-asn1crypto.\n",
            "Preparing to unpack .../02-python-asn1crypto_0.24.0-1_all.deb ...\n",
            "Unpacking python-asn1crypto (0.24.0-1) ...\n",
            "Selecting previously unselected package python-blinker.\n",
            "Preparing to unpack .../03-python-blinker_1.4+dfsg1-0.1_all.deb ...\n",
            "Unpacking python-blinker (1.4+dfsg1-0.1) ...\n",
            "Selecting previously unselected package python-cffi-backend.\n",
            "Preparing to unpack .../04-python-cffi-backend_1.11.5-1_amd64.deb ...\n",
            "Unpacking python-cffi-backend (1.11.5-1) ...\n",
            "Selecting previously unselected package python-colorama.\n",
            "Preparing to unpack .../05-python-colorama_0.3.7-1_all.deb ...\n",
            "Unpacking python-colorama (0.3.7-1) ...\n",
            "Selecting previously unselected package python-click.\n",
            "Preparing to unpack .../06-python-click_6.7-3_all.deb ...\n",
            "Unpacking python-click (6.7-3) ...\n",
            "Selecting previously unselected package python-enum34.\n",
            "Preparing to unpack .../07-python-enum34_1.1.6-2_all.deb ...\n",
            "Unpacking python-enum34 (1.1.6-2) ...\n",
            "Selecting previously unselected package python-idna.\n",
            "Preparing to unpack .../08-python-idna_2.6-1_all.deb ...\n",
            "Unpacking python-idna (2.6-1) ...\n",
            "Selecting previously unselected package python-ipaddress.\n",
            "Preparing to unpack .../09-python-ipaddress_1.0.17-1_all.deb ...\n",
            "Unpacking python-ipaddress (1.0.17-1) ...\n",
            "Selecting previously unselected package python-six.\n",
            "Preparing to unpack .../10-python-six_1.11.0-2_all.deb ...\n",
            "Unpacking python-six (1.11.0-2) ...\n",
            "Selecting previously unselected package python-cryptography.\n",
            "Preparing to unpack .../11-python-cryptography_2.1.4-1ubuntu1.3_amd64.deb ...\n",
            "Unpacking python-cryptography (2.1.4-1ubuntu1.3) ...\n",
            "Selecting previously unselected package python-itsdangerous.\n",
            "Preparing to unpack .../12-python-itsdangerous_0.24+dfsg1-2_all.deb ...\n",
            "Unpacking python-itsdangerous (0.24+dfsg1-2) ...\n",
            "Selecting previously unselected package python-markupsafe.\n",
            "Preparing to unpack .../13-python-markupsafe_1.0-1build1_amd64.deb ...\n",
            "Unpacking python-markupsafe (1.0-1build1) ...\n",
            "Selecting previously unselected package python-jinja2.\n",
            "Preparing to unpack .../14-python-jinja2_2.10-1ubuntu0.18.04.1_all.deb ...\n",
            "Unpacking python-jinja2 (2.10-1ubuntu0.18.04.1) ...\n",
            "Selecting previously unselected package python-werkzeug.\n",
            "Preparing to unpack .../15-python-werkzeug_0.14.1+dfsg1-1_all.deb ...\n",
            "Unpacking python-werkzeug (0.14.1+dfsg1-1) ...\n",
            "Selecting previously unselected package python-flask.\n",
            "Preparing to unpack .../16-python-flask_0.12.2-3ubuntu0.1_all.deb ...\n",
            "Unpacking python-flask (0.12.2-3ubuntu0.1) ...\n",
            "Selecting previously unselected package python3-pil:amd64.\n",
            "Preparing to unpack .../17-python3-pil_5.1.0-1ubuntu0.2_amd64.deb ...\n",
            "Unpacking python3-pil:amd64 (5.1.0-1ubuntu0.2) ...\n",
            "Selecting previously unselected package python3-openslide.\n",
            "Preparing to unpack .../18-python3-openslide_1.1.1-2ubuntu4_amd64.deb ...\n",
            "Unpacking python3-openslide (1.1.1-2ubuntu4) ...\n",
            "Selecting previously unselected package python-openslide-examples.\n",
            "Preparing to unpack .../19-python-openslide-examples_1.1.1-2ubuntu4_all.deb ...\n",
            "Unpacking python-openslide-examples (1.1.1-2ubuntu4) ...\n",
            "Selecting previously unselected package python-openssl.\n",
            "Preparing to unpack .../20-python-openssl_17.5.0-1ubuntu1_all.deb ...\n",
            "Unpacking python-openssl (17.5.0-1ubuntu1) ...\n",
            "Selecting previously unselected package python-pkg-resources.\n",
            "Preparing to unpack .../21-python-pkg-resources_39.0.1-2_all.deb ...\n",
            "Unpacking python-pkg-resources (39.0.1-2) ...\n",
            "Selecting previously unselected package python-pyinotify.\n",
            "Preparing to unpack .../22-python-pyinotify_0.9.6-1_all.deb ...\n",
            "Unpacking python-pyinotify (0.9.6-1) ...\n",
            "Selecting previously unselected package python-simplejson.\n",
            "Preparing to unpack .../23-python-simplejson_3.13.2-1_amd64.deb ...\n",
            "Unpacking python-simplejson (3.13.2-1) ...\n",
            "Selecting previously unselected package python3-olefile.\n",
            "Preparing to unpack .../24-python3-olefile_0.45.1-1_all.deb ...\n",
            "Unpacking python3-olefile (0.45.1-1) ...\n",
            "Setting up python-idna (2.6-1) ...\n",
            "Setting up python-simplejson (3.13.2-1) ...\n",
            "Setting up libjs-jquery (3.2.1-1) ...\n",
            "Setting up python-asn1crypto (0.24.0-1) ...\n",
            "Setting up python3-pil:amd64 (5.1.0-1ubuntu0.2) ...\n",
            "Setting up python-blinker (1.4+dfsg1-0.1) ...\n",
            "Setting up python3-olefile (0.45.1-1) ...\n",
            "Setting up python-colorama (0.3.7-1) ...\n",
            "Setting up python-pkg-resources (39.0.1-2) ...\n",
            "Setting up python-markupsafe (1.0-1build1) ...\n",
            "Setting up python-werkzeug (0.14.1+dfsg1-1) ...\n",
            "Setting up python-pyinotify (0.9.6-1) ...\n",
            "Setting up python-cffi-backend (1.11.5-1) ...\n",
            "Setting up python3-openslide (1.1.1-2ubuntu4) ...\n",
            "Setting up python-six (1.11.0-2) ...\n",
            "Setting up python-enum34 (1.1.6-2) ...\n",
            "Setting up javascript-common (11) ...\n",
            "Setting up python-itsdangerous (0.24+dfsg1-2) ...\n",
            "Setting up python-ipaddress (1.0.17-1) ...\n",
            "Setting up python-jinja2 (2.10-1ubuntu0.18.04.1) ...\n",
            "Setting up python-click (6.7-3) ...\n",
            "Setting up python-cryptography (2.1.4-1ubuntu1.3) ...\n",
            "Setting up python-flask (0.12.2-3ubuntu0.1) ...\n",
            "Setting up python-openssl (17.5.0-1ubuntu1) ...\n",
            "Setting up python-openslide-examples (1.1.1-2ubuntu4) ...\n"
          ],
          "name": "stdout"
        }
      ]
    },
    {
      "cell_type": "code",
      "metadata": {
        "id": "NZXJVycmVxzd",
        "colab_type": "code",
        "colab": {
          "base_uri": "https://localhost:8080/",
          "height": 35
        },
        "outputId": "dfeceffc-a179-48f8-8de6-8c0bbe8ea774"
      },
      "source": [
        "!pip install openslide-python"
      ],
      "execution_count": null,
      "outputs": [
        {
          "output_type": "stream",
          "text": [
            "Requirement already satisfied: openslide-python in /usr/lib/python3/dist-packages (1.1.1)\n"
          ],
          "name": "stdout"
        }
      ]
    },
    {
      "cell_type": "code",
      "metadata": {
        "id": "DBBfaxCZV1L8",
        "colab_type": "code",
        "colab": {}
      },
      "source": [
        "#Importing necessary libraries\n",
        "import pylab\n",
        "import csv\n",
        "import random\n",
        "from skimage import measure\n",
        "from skimage.transform import resize\n",
        "\n",
        "import tensorflow as tf\n",
        "from tensorflow import keras\n",
        "import skimage.exposure\n",
        "\n",
        "\n",
        "import pandas as pd \n",
        "import numpy as np\n",
        "import matplotlib\n",
        "import matplotlib.pyplot as plt\n",
        "from tqdm import tqdm_notebook\n",
        "from matplotlib.patches import Rectangle\n",
        "import seaborn as sns\n",
        "import pydicom \n",
        "%matplotlib inline \n",
        "import os\n",
        "import glob\n",
        "import matplotlib.pyplot as plt\n",
        "import seaborn as sns\n",
        "import warnings\n",
        "import multiprocessing\n",
        "from skimage import morphology\n",
        "from skimage import feature\n",
        "from skimage import measure\n",
        "from skimage import util\n",
        "from skimage import transform\n",
        "from google.colab import drive\n",
        "from tensorflow.keras.losses import binary_crossentropy\n",
        "from tensorflow.keras.backend import log, epsilon\n",
        "warnings.filterwarnings('ignore')\n"
      ],
      "execution_count": null,
      "outputs": []
    },
    {
      "cell_type": "markdown",
      "metadata": {
        "id": "zVPK8JackNpv",
        "colab_type": "text"
      },
      "source": [
        "The project holding drive section is mounted for dataset access"
      ]
    },
    {
      "cell_type": "code",
      "metadata": {
        "id": "1Wl6pRZIV5Zo",
        "colab_type": "code",
        "colab": {
          "base_uri": "https://localhost:8080/",
          "height": 126
        },
        "outputId": "089a2a04-dc59-428d-a762-2f5c9f919cc1"
      },
      "source": [
        "#Mounting the drive\n",
        "drive.mount('/content/drive/')"
      ],
      "execution_count": null,
      "outputs": [
        {
          "output_type": "stream",
          "text": [
            "Go to this URL in a browser: https://accounts.google.com/o/oauth2/auth?client_id=947318989803-6bn6qk8qdgf4n4g3pfee6491hc0brc4i.apps.googleusercontent.com&redirect_uri=urn%3aietf%3awg%3aoauth%3a2.0%3aoob&response_type=code&scope=email%20https%3a%2f%2fwww.googleapis.com%2fauth%2fdocs.test%20https%3a%2f%2fwww.googleapis.com%2fauth%2fdrive%20https%3a%2f%2fwww.googleapis.com%2fauth%2fdrive.photos.readonly%20https%3a%2f%2fwww.googleapis.com%2fauth%2fpeopleapi.readonly\n",
            "\n",
            "Enter your authorization code:\n",
            "··········\n",
            "Mounted at /content/drive/\n"
          ],
          "name": "stdout"
        }
      ]
    },
    {
      "cell_type": "markdown",
      "metadata": {
        "id": "gKGb5gugkcH9",
        "colab_type": "text"
      },
      "source": [
        "The working directory is invoked and the dataset present in the director is loaded. The dataset is the stage 2 dataset relesased by the RSNA (Radiological Society of North America). There are 3 major training set related files.\n",
        "\n",
        "a) Training images with metadata\n",
        "\n",
        "b) Labels of the training images\n",
        "\n",
        "c) Class information"
      ]
    },
    {
      "cell_type": "code",
      "metadata": {
        "id": "9sEo76IGV-JO",
        "colab_type": "code",
        "colab": {}
      },
      "source": [
        "#Set the project path \n",
        "project_path = '/content/drive/My Drive/AIML/Datasets/'\n",
        "os.chdir(project_path)"
      ],
      "execution_count": null,
      "outputs": []
    },
    {
      "cell_type": "code",
      "metadata": {
        "id": "zChQPN0BWCZv",
        "colab_type": "code",
        "colab": {}
      },
      "source": [
        "#Loading the images\n",
        "images_path = (\"/content/drive/My Drive/AIML/Datasets/stage_2_train_images\")\n"
      ],
      "execution_count": null,
      "outputs": []
    },
    {
      "cell_type": "code",
      "metadata": {
        "id": "6Q6_KiFyWJoD",
        "colab_type": "code",
        "colab": {}
      },
      "source": [
        "class_info_df = pd.read_csv(project_path+'stage_2_detailed_class_info.csv')\n",
        "train_labels_df = pd.read_csv(project_path+'stage_2_train_labels.csv')"
      ],
      "execution_count": null,
      "outputs": []
    },
    {
      "cell_type": "code",
      "metadata": {
        "id": "lnTFJLyCLmv6",
        "colab_type": "code",
        "colab": {}
      },
      "source": [
        "folder = \"/content/drive/My Drive/AIML/Datasets/stage_2_train_images\"\n",
        "#folder = \"/content/drive/My Drive/AIML/Datasets/filtered_train_images\"\n",
        "filenames = os.listdir(folder)\n",
        "#random.shuffle(filenames)"
      ],
      "execution_count": null,
      "outputs": []
    },
    {
      "cell_type": "markdown",
      "metadata": {
        "id": "FtgyvwQRlfGy",
        "colab_type": "text"
      },
      "source": [
        "# Section 2 - Incremental EDA and data preparation"
      ]
    },
    {
      "cell_type": "markdown",
      "metadata": {
        "id": "LLo5v169rWb-",
        "colab_type": "text"
      },
      "source": [
        "Several attempts were made to use the entire dataset to train the model. The results of the same were specified in the report. The issue noticed was that the recall and precision for the prediction of Pneumonia was less than 0.5 making model of not great use since its efficiency is less than a radiologist.\n",
        "\n",
        "The major reason for the same was the imbalance in the dataset. \n",
        "\n",
        "a) Pneumonia images   -   6012 (Nos.)\n",
        "\n",
        "b) Non-Pneumonia images   -  20672 (Nos.)\n",
        "\n",
        "An attempt to imporve the precision and recall was made with balancing the dataset by dropping half of the images without Pneumonia, which is demonstrated in this section"
      ]
    },
    {
      "cell_type": "code",
      "metadata": {
        "id": "eXNejN7fWT63",
        "colab_type": "code",
        "colab": {}
      },
      "source": [
        "# empty dictionary\n",
        "pneumonia_locations = {}\n",
        "i=0\n",
        "# load table\n",
        "with open(os.path.join(\"/content/drive/My Drive/AIML/Datasets/stage_2_train_labels.csv\"), mode='r') as infile:\n",
        "    reader = csv.reader(infile)\n",
        "    # skip header\n",
        "    next(reader, None)\n",
        "\n",
        "    for rows in reader:\n",
        "        filename = rows[0]\n",
        "        location = rows[1:5]\n",
        "        pneumonia = rows[5]\n",
        "        # if row contains pneumonia add label to dictionary\n",
        "        # which contains a list of pneumonia locations per filename\n",
        "        if pneumonia == '1':\n",
        "           # convert string to float to int\n",
        "           location = [int(float(i)) for i in location]\n",
        "            # save pneumonia location in dictionary\n",
        "           if filename in pneumonia_locations:\n",
        "              pneumonia_locations[filename].append(location)\n",
        "           else:\n",
        "              pneumonia_locations[filename] = [location]\n",
        "        else:              \n",
        "          if (filename+'.dcm') in (filenames):\n",
        "            if i % 2 == 0:\n",
        "              filenames.remove(filename+'.dcm')\n",
        "            i=i+1\n",
        "\n"
      ],
      "execution_count": null,
      "outputs": []
    },
    {
      "cell_type": "code",
      "metadata": {
        "id": "TL5mZPs0fMFf",
        "colab_type": "code",
        "colab": {
          "base_uri": "https://localhost:8080/",
          "height": 52
        },
        "outputId": "fb0722cf-cd2e-4a83-85b7-64b8adec9055"
      },
      "source": [
        "print(len(pneumonia_locations))\n",
        "print(len(filenames))"
      ],
      "execution_count": null,
      "outputs": [
        {
          "output_type": "stream",
          "text": [
            "6012\n",
            "16348\n"
          ],
          "name": "stdout"
        }
      ]
    },
    {
      "cell_type": "code",
      "metadata": {
        "id": "RkdHrDrmWYZc",
        "colab_type": "code",
        "colab": {}
      },
      "source": [
        "# Resolution of the images\n",
        "\n",
        "IMAGE_HEIGHT = 1024\n",
        "IMAGE_WIDTH = 1024"
      ],
      "execution_count": null,
      "outputs": []
    },
    {
      "cell_type": "code",
      "metadata": {
        "id": "lvGowlN6WbdP",
        "colab_type": "code",
        "colab": {
          "base_uri": "https://localhost:8080/",
          "height": 88
        },
        "outputId": "92b128cc-b510-4fdf-e18a-44f753e322f0"
      },
      "source": [
        "# split into train and validation filenames\n",
        "n_valid_samples = 2560\n",
        "n_test_samples = 500\n",
        "train_filenames = filenames[n_valid_samples+n_test_samples:]\n",
        "valid_filenames = filenames[n_test_samples:n_valid_samples]\n",
        "test_filenames = filenames[:n_test_samples]\n",
        "#test_filenames = filenames[:10]\n",
        "print('n train samples', len(train_filenames))\n",
        "print('n valid samples', len(valid_filenames))\n",
        "print('n test samples', len(test_filenames))\n",
        "n_train_samples = len(filenames) - n_valid_samples - n_test_samples\n",
        "print(n_train_samples)"
      ],
      "execution_count": null,
      "outputs": [
        {
          "output_type": "stream",
          "text": [
            "n train samples 13288\n",
            "n valid samples 2060\n",
            "n test samples 500\n",
            "13288\n"
          ],
          "name": "stdout"
        }
      ]
    },
    {
      "cell_type": "code",
      "metadata": {
        "id": "Rp6LpkRoWgn2",
        "colab_type": "code",
        "colab": {
          "base_uri": "https://localhost:8080/",
          "height": 52
        },
        "outputId": "8e32f7b2-a26d-4fff-8235-0943a3ac622f"
      },
      "source": [
        "\n",
        "print('Total train images:',len(filenames))\n",
        "print('Images with pneumonia:', len(pneumonia_locations))"
      ],
      "execution_count": null,
      "outputs": [
        {
          "output_type": "stream",
          "text": [
            "Total train images: 16348\n",
            "Images with pneumonia: 6012\n"
          ],
          "name": "stdout"
        }
      ]
    },
    {
      "cell_type": "markdown",
      "metadata": {
        "id": "qa0ofDaytr5L",
        "colab_type": "text"
      },
      "source": [
        "50% of the non-pneumonia images are dropped.\n",
        "> Total non-pnemonia images- 20,672\n",
        "\n",
        "> Dropped non-pneumonia images- 10,336\n",
        "\n",
        "> Number of pneumonia images- 6,012\n",
        "\n",
        "> Total training set size- 16,348"
      ]
    },
    {
      "cell_type": "code",
      "metadata": {
        "id": "gfa9ytmoWkzd",
        "colab_type": "code",
        "colab": {
          "base_uri": "https://localhost:8080/",
          "height": 844
        },
        "outputId": "114bdc3a-8cd8-4b1b-962b-53d5205e87df"
      },
      "source": [
        "ns = [len(value) for value in pneumonia_locations.values()]\n",
        "# plt.figure()\n",
        "# plt.hist(ns)\n",
        "# plt.xlabel('Pneumonia per image')\n",
        "# plt.xticks(range(1, np.max(ns)+1))\n",
        "# plt.show()\n",
        "heatmap = np.zeros((1024, 1024))\n",
        "ws = []\n",
        "hs = []\n",
        "for values in pneumonia_locations.values():\n",
        "    for value in values:\n",
        "        x, y, w, h = value\n",
        "        heatmap[y:y+h, x:x+w] += 1\n",
        "        ws.append(w)\n",
        "        hs.append(h)\n",
        "plt.figure()\n",
        "plt.title('Pneumonia location heatmap')\n",
        "plt.imshow(heatmap)\n",
        "plt.figure()\n",
        "plt.title('Pneumonia height lengths')\n",
        "plt.hist(hs, bins=np.linspace(0,1000,50))\n",
        "plt.show()\n",
        "plt.figure()\n",
        "plt.title('Pneumonia width lengths')\n",
        "plt.hist(ws, bins=np.linspace(0,1000,50))\n",
        "plt.show()\n",
        "print('Minimum pneumonia height:', np.min(hs))\n",
        "print('Minimum pneumonia width: ', np.min(ws))"
      ],
      "execution_count": null,
      "outputs": [
        {
          "output_type": "display_data",
          "data": {
            "image/png": "[encoded data removed]",
            "text/plain": [
              "<Figure size 432x288 with 1 Axes>"
            ]
          },
          "metadata": {
            "tags": [],
            "needs_background": "light"
          }
        },
        {
          "output_type": "display_data",
          "data": {
            "image/png": "[encoded data removed]",
            "text/plain": [
              "<Figure size 432x288 with 1 Axes>"
            ]
          },
          "metadata": {
            "tags": [],
            "needs_background": "light"
          }
        },
        {
          "output_type": "display_data",
          "data": {
            "image/png": "[encoded data removed]",
            "text/plain": [
              "<Figure size 432x288 with 1 Axes>"
            ]
          },
          "metadata": {
            "tags": [],
            "needs_background": "light"
          }
        },
        {
          "output_type": "stream",
          "text": [
            "Minimum pneumonia height: 45\n",
            "Minimum pneumonia width:  40\n"
          ],
          "name": "stdout"
        }
      ]
    },
    {
      "cell_type": "markdown",
      "metadata": {
        "id": "yp1oLtt4unTF",
        "colab_type": "text"
      },
      "source": [
        "Visualization of the bounding box sizes. The distribution as per the earlier EDA."
      ]
    },
    {
      "cell_type": "markdown",
      "metadata": {
        "id": "y9LrDaoty8p1",
        "colab_type": "text"
      },
      "source": [
        "**Data preparation**\n",
        "\n",
        "To prepare the data for training with any algorithm it is essential to complete the following,\n",
        "*   Extract all requsite images\n",
        "*   Map the labels to the images \n",
        "*   Create masks using the bounding boxes and assign to the data file\n",
        "\n",
        "In addition, data augmentation is also pursued by using the following,\n",
        "\n",
        "\n",
        "*   Horizontal flipping of the data is completed for 50% of the images and masks\n",
        "*   Resizing from 1024 X 1024 to 256 X 256 to suit the input layer of the CNN is pursued.\n",
        "*   The images are also shuffled and clubbed into batches of size 32."
      ]
    },
    {
      "cell_type": "code",
      "metadata": {
        "id": "g7EjgEeCWoIc",
        "colab_type": "code",
        "colab": {}
      },
      "source": [
        "class generator(keras.utils.Sequence):\n",
        "\n",
        "    def __init__(self, folder, filenames, pneumonia_locations=None, batch_size=32, image_size=256, shuffle=True,\n",
        "                 augment=False, predict=False):\n",
        "        self.folder = folder\n",
        "        self.filenames = filenames\n",
        "        self.pneumonia_locations = pneumonia_locations\n",
        "        self.batch_size = batch_size\n",
        "        self.image_size = image_size\n",
        "        self.shuffle = shuffle\n",
        "        self.augment = augment\n",
        "        self.predict = predict\n",
        "        self.on_epoch_end()\n",
        "        \n",
        "    def __load__(self, filename):\n",
        "        # load dicom file as numpy array\n",
        "        img = pydicom.dcmread(os.path.join(self.folder, filename)).pixel_array\n",
        "        msk = np.zeros(img.shape)\n",
        "        filename = filename.split('.')[0]\n",
        "        # if image contains pneumonia\n",
        "        if filename in self.pneumonia_locations:\n",
        "            # loop through pneumonia\n",
        "            for location in self.pneumonia_locations[filename]:\n",
        "                # add 1's at the location of the pneumonia\n",
        "                x, y, w, h = location\n",
        "                msk[y:y + h, x:x + w] = 1\n",
        "        # resize both image and mask\n",
        "        img = resize(img, (self.image_size, self.image_size), mode='reflect')\n",
        "        msk = resize(msk, (self.image_size, self.image_size), mode='reflect') > 0.5\n",
        "        # if augment then horizontal flip half the time\n",
        "        if self.augment and random.random() > 0.5:\n",
        "            img = np.fliplr(img)\n",
        "            msk = np.fliplr(msk)\n",
        "        # add trailing channel dimension\n",
        "        img = np.expand_dims(img, -1)\n",
        "        msk = np.expand_dims(msk, -1)\n",
        "        return img, msk\n",
        "    \n",
        "    def __loadpredict__(self, filename):\n",
        "        img = pydicom.dcmread(os.path.join(self.folder, filename)).pixel_array\n",
        "        img = resize(img, (self.image_size, self.image_size), mode='reflect')\n",
        "        img = np.expand_dims(img, -1)\n",
        "        return img\n",
        "        \n",
        "    def __getitem__(self, index):\n",
        "        filenames = self.filenames[index * self.batch_size:(index + 1) * self.batch_size]\n",
        "        # predict mode: return images and filenames\n",
        "        if self.predict:\n",
        "            # load files\n",
        "            imgs = [self.__loadpredict__(filename) for filename in filenames]\n",
        "            # create numpy batch\n",
        "            imgs = np.array(imgs)\n",
        "            return imgs, filenames\n",
        "        # train mode: return images and masks\n",
        "        else:\n",
        "            # load files\n",
        "            items = [self.__load__(filename) for filename in filenames]\n",
        "            # unzip images and masks\n",
        "            imgs, msks = zip(*items)\n",
        "            # create numpy batch\n",
        "            imgs = np.array(imgs)\n",
        "            msks = np.array(msks)\n",
        "            return imgs, msks\n",
        "\n",
        "    def on_epoch_end(self):\n",
        "        if self.shuffle:\n",
        "            random.shuffle(self.filenames)\n",
        "\n",
        "    # ??????\n",
        "    def __len__(self):\n",
        "        if self.predict:\n",
        "            # return everything\n",
        "            return int(np.ceil(len(self.filenames) / self.batch_size))\n",
        "        else:\n",
        "            # return full batches only\n",
        "            return int(len(self.filenames) / self.batch_size)\n",
        "    # ??????"
      ],
      "execution_count": null,
      "outputs": []
    },
    {
      "cell_type": "markdown",
      "metadata": {
        "id": "nRSlFCffu0r7",
        "colab_type": "text"
      },
      "source": [
        "# Section 3- Building the requisite model"
      ]
    },
    {
      "cell_type": "markdown",
      "metadata": {
        "id": "f1ljbqSG52tW",
        "colab_type": "text"
      },
      "source": [
        "Pneumonia is detected using opacity with no major size or shape. This means that there is a need to augment and expand the opacity field. This call for a U-net architecture with CNN.\n",
        "\n",
        "Step 1- The resized 256 X 256 image is downsampled successively"
      ]
    },
    {
      "cell_type": "code",
      "metadata": {
        "id": "XB62ESIwWtXG",
        "colab_type": "code",
        "colab": {}
      },
      "source": [
        "def create_downsample(channels, inputs):\n",
        "    x = keras.layers.BatchNormalization(momentum=0.9)(inputs)\n",
        "    x = keras.layers.LeakyReLU(0)(x)\n",
        "    x = keras.layers.Conv2D(channels, 1, padding='same', use_bias=False)(x)\n",
        "    x = keras.layers.MaxPool2D(2)(x)\n",
        "    return x\n"
      ],
      "execution_count": null,
      "outputs": []
    },
    {
      "cell_type": "markdown",
      "metadata": {
        "id": "tYAp_jYD6c7m",
        "colab_type": "text"
      },
      "source": [
        "After the model was run as a pure NN, it was observed that the gradient was difffused in 3 epochs making it unviable for further training. Therefore a Resnet 52 block with the following code was added."
      ]
    },
    {
      "cell_type": "code",
      "metadata": {
        "id": "DQv_W3hEWtb1",
        "colab_type": "code",
        "colab": {}
      },
      "source": [
        "\n",
        "def create_resblock(channels, inputs):\n",
        "    x = keras.layers.BatchNormalization(momentum=0.9)(inputs)\n",
        "    x = keras.layers.LeakyReLU(0)(x)\n",
        "    x = keras.layers.Conv2D(channels, 3, padding='same', use_bias=False)(x)\n",
        "    x = keras.layers.BatchNormalization(momentum=0.9)(x)\n",
        "    x = keras.layers.LeakyReLU(0)(x)\n",
        "    x = keras.layers.Conv2D(channels, 3, padding='same', use_bias=False)(x)\n",
        "    return keras.layers.add([x, inputs])"
      ],
      "execution_count": null,
      "outputs": []
    },
    {
      "cell_type": "markdown",
      "metadata": {
        "id": "BcKE3cW27V_f",
        "colab_type": "text"
      },
      "source": [
        "CNN was then attached to ensure that the final output of the neural network was viable for classification. The final architecture is as follows:\n",
        "\n",
        "![alt text] (https://drive.google.com/file/d/1CeMo6ZUBQwKdEbs7aL3TzwTh8JsdlxfY/view?usp=sharing)"
      ]
    },
    {
      "cell_type": "code",
      "metadata": {
        "id": "ElowRQkJW--R",
        "colab_type": "code",
        "colab": {}
      },
      "source": [
        "#CNN\n",
        "\n",
        "def create_network_CNN(input_size, channels, n_blocks=2, depth=4):\n",
        "    # input\n",
        "    inputs = keras.Input(shape=(input_size, input_size, 1))\n",
        "    x = keras.layers.Conv2D(channels, 3, padding='same', use_bias=False)(inputs)\n",
        "    # residual blocks\n",
        "    for d in range(depth):\n",
        "        channels = channels * 2\n",
        "        x = create_downsample(channels, x)\n",
        "        for b in range(n_blocks):\n",
        "            x = create_resblock(channels, x)\n",
        "    # output\n",
        "    x = keras.layers.BatchNormalization(momentum=0.9)(x)\n",
        "    x = keras.layers.LeakyReLU(0)(x)\n",
        "    x = keras.layers.Conv2D(256, 1, activation=None)(x)\n",
        "    x = keras.layers.BatchNormalization(momentum=0.9)(x)\n",
        "    x = keras.layers.LeakyReLU(0)(x)\n",
        "    x = keras.layers.Conv2DTranspose(128, (8,8), (4,4), padding=\"same\", activation=None)(x)\n",
        "    x = keras.layers.BatchNormalization(momentum=0.9)(x)\n",
        "    x = keras.layers.LeakyReLU(0)(x)\n",
        "    x = keras.layers.Conv2D(1, 1, activation='sigmoid')(x)\n",
        "    outputs = keras.layers.UpSampling2D(2**(depth-2))(x)\n",
        "    model = keras.Model(inputs=inputs, outputs=outputs)\n",
        "    return model"
      ],
      "execution_count": null,
      "outputs": []
    },
    {
      "cell_type": "markdown",
      "metadata": {
        "id": "n_UlOF569GAa",
        "colab_type": "text"
      },
      "source": [
        "**Loss**\n",
        "\n",
        "As understood from the problem statement, there are two major tasks for the model to complete. They include, \n",
        "\n",
        "\n",
        "1. Detection of pneumonia presence- Bounding box regression problem \n",
        "2. Classification of the patient as target- Classification problem \n",
        "\n",
        "The evaluation of the pneumonia bounding box shall be based on the Intersection over Union (IoU) method. It is evaluated on the mean average precision at different intersection over union (IoU) thresholds. The IoU of a set of predicted bounding boxes and ground truth bounding boxes is calculated as: \n",
        "            \n",
        "            IoU(A,B)=A∩B / AUB. \n",
        " \n",
        "Average IoU is calculated to measure the efficiency of the overall prediction. However, test accuracy with precision and recall are measured for classification accuracy too.\n"
      ]
    },
    {
      "cell_type": "code",
      "metadata": {
        "id": "qK9G2mM_XEMo",
        "colab_type": "code",
        "colab": {}
      },
      "source": [
        "def iou_loss(y_true, y_pred):\n",
        "    y_true = tf.reshape(y_true, [-1])\n",
        "    y_pred = tf.reshape(y_pred, [-1])\n",
        "    intersection = tf.reduce_sum(y_true * y_pred)\n",
        "    score = (intersection + 1.) / (tf.reduce_sum(y_true) + tf.reduce_sum(y_pred) - intersection + 1.)\n",
        "    return 1 - score"
      ],
      "execution_count": null,
      "outputs": []
    },
    {
      "cell_type": "code",
      "metadata": {
        "id": "C2DuaqbRXEQL",
        "colab_type": "code",
        "colab": {}
      },
      "source": [
        "# combine bce loss and iou loss\n",
        "def iou_bce_loss(y_true, y_pred):\n",
        "    return 0.5 * keras.losses.binary_crossentropy(y_true, y_pred) + 0.5 * iou_loss(y_true, y_pred)"
      ],
      "execution_count": null,
      "outputs": []
    },
    {
      "cell_type": "code",
      "metadata": {
        "id": "fLOSQJAjXETu",
        "colab_type": "code",
        "colab": {}
      },
      "source": [
        "# mean iou as a metric\n",
        "def mean_iou(y_true, y_pred):\n",
        "    y_pred = tf.round(y_pred)\n",
        "    intersect = tf.reduce_sum(y_true * y_pred, axis=[1, 2, 3])\n",
        "    union = tf.reduce_sum(y_true, axis=[1, 2, 3]) + tf.reduce_sum(y_pred, axis=[1, 2, 3])\n",
        "    smooth = tf.ones(tf.shape(intersect))\n",
        "    return tf.reduce_mean((intersect + smooth) / (union - intersect + smooth))\n"
      ],
      "execution_count": null,
      "outputs": []
    },
    {
      "cell_type": "markdown",
      "metadata": {
        "id": "5265xndr9qN5",
        "colab_type": "text"
      },
      "source": [
        "**Tempering the learning rate**\n",
        "\n",
        "Learning is initiated with a learning rate of 0.001, then an algorithm to re-evaluate the learning rate following a cosine curve is implemented. However, since there is a high probability of missing the acutal local minimum and a small change in weight may increase the loss exponentially. \n",
        "\n",
        "Therefore cosine annealing which is stepped for every 20 epochs to avoid such instrances. This also helps when a different dataset is utilized making the model more generalizable.\n",
        "\n"
      ]
    },
    {
      "cell_type": "code",
      "metadata": {
        "id": "Tct8JHWnXEZr",
        "colab_type": "code",
        "colab": {}
      },
      "source": [
        "def cosine_annealing_CNN(x):\n",
        "    lr = 0.001\n",
        "    epochs = 20\n",
        "    return lr*(np.cos(np.pi*x/epochs)+1.)/2\n",
        "\n",
        "learning_rate_CNN = tf.keras.callbacks.LearningRateScheduler(cosine_annealing_CNN)"
      ],
      "execution_count": null,
      "outputs": []
    },
    {
      "cell_type": "markdown",
      "metadata": {
        "id": "CYeHOjMFGulH",
        "colab_type": "text"
      },
      "source": [
        "Training and vidation dataset are generated."
      ]
    },
    {
      "cell_type": "code",
      "metadata": {
        "id": "ZIAc49ruXEdN",
        "colab_type": "code",
        "colab": {}
      },
      "source": [
        "\n",
        "folder = \"/content/drive/My Drive/AIML/Datasets/stage_2_train_images\"\n",
        "\n",
        "train_gen = generator(folder, train_filenames, pneumonia_locations, batch_size=32, image_size=256, shuffle=True,\n",
        "                      augment=True, predict=False)\n",
        "valid_gen = generator(folder, valid_filenames, pneumonia_locations, batch_size=32, image_size=256, shuffle=False,\n",
        "                      predict=False)"
      ],
      "execution_count": null,
      "outputs": []
    },
    {
      "cell_type": "markdown",
      "metadata": {
        "id": "wfKA3_JwG3l4",
        "colab_type": "text"
      },
      "source": [
        "Model is now compiled with the loss and accuracy metrics defined earlier. In addition, different optimizers were utilized to experiment include, SGD, SGD with momentum and ADAM opitimizer was found to be more suitable.\n",
        "\n",
        "After compiling, a 84 layer CNN with resblock is created and this is further evaluated.\n"
      ]
    },
    {
      "cell_type": "code",
      "metadata": {
        "id": "EMjqlxUFXEgq",
        "colab_type": "code",
        "colab": {
          "base_uri": "https://localhost:8080/",
          "height": 1000
        },
        "outputId": "b3215d65-853a-4405-f5d3-69ec4e18ad6a"
      },
      "source": [
        "model_CNN = create_network_CNN(input_size=256, channels=32, n_blocks=2, depth=4)\n",
        "\n",
        "model_CNN.load_weights(\"/content/drive/My Drive/AIML/Datasets/last_checkpoint_ADAM_LR_SIG1.hdf5\")\n",
        "model_CNN.compile(optimizer='adam',\n",
        "              loss=iou_bce_loss,\n",
        "              metrics=['accuracy', mean_iou])\n",
        "\n",
        "print(model_CNN.summary())"
      ],
      "execution_count": null,
      "outputs": [
        {
          "output_type": "stream",
          "text": [
            "Model: \"model_1\"\n",
            "__________________________________________________________________________________________________\n",
            "Layer (type)                    Output Shape         Param #     Connected to                     \n",
            "==================================================================================================\n",
            "input_2 (InputLayer)            [(None, 256, 256, 1) 0                                            \n",
            "__________________________________________________________________________________________________\n",
            "conv2d_23 (Conv2D)              (None, 256, 256, 32) 288         input_2[0][0]                    \n",
            "__________________________________________________________________________________________________\n",
            "batch_normalization_23 (BatchNo (None, 256, 256, 32) 128         conv2d_23[0][0]                  \n",
            "__________________________________________________________________________________________________\n",
            "leaky_re_lu_23 (LeakyReLU)      (None, 256, 256, 32) 0           batch_normalization_23[0][0]     \n",
            "__________________________________________________________________________________________________\n",
            "conv2d_24 (Conv2D)              (None, 256, 256, 64) 2048        leaky_re_lu_23[0][0]             \n",
            "__________________________________________________________________________________________________\n",
            "max_pooling2d_4 (MaxPooling2D)  (None, 128, 128, 64) 0           conv2d_24[0][0]                  \n",
            "__________________________________________________________________________________________________\n",
            "batch_normalization_24 (BatchNo (None, 128, 128, 64) 256         max_pooling2d_4[0][0]            \n",
            "__________________________________________________________________________________________________\n",
            "leaky_re_lu_24 (LeakyReLU)      (None, 128, 128, 64) 0           batch_normalization_24[0][0]     \n",
            "__________________________________________________________________________________________________\n",
            "conv2d_25 (Conv2D)              (None, 128, 128, 64) 36864       leaky_re_lu_24[0][0]             \n",
            "__________________________________________________________________________________________________\n",
            "batch_normalization_25 (BatchNo (None, 128, 128, 64) 256         conv2d_25[0][0]                  \n",
            "__________________________________________________________________________________________________\n",
            "leaky_re_lu_25 (LeakyReLU)      (None, 128, 128, 64) 0           batch_normalization_25[0][0]     \n",
            "__________________________________________________________________________________________________\n",
            "conv2d_26 (Conv2D)              (None, 128, 128, 64) 36864       leaky_re_lu_25[0][0]             \n",
            "__________________________________________________________________________________________________\n",
            "add_8 (Add)                     (None, 128, 128, 64) 0           conv2d_26[0][0]                  \n",
            "                                                                 max_pooling2d_4[0][0]            \n",
            "__________________________________________________________________________________________________\n",
            "batch_normalization_26 (BatchNo (None, 128, 128, 64) 256         add_8[0][0]                      \n",
            "__________________________________________________________________________________________________\n",
            "leaky_re_lu_26 (LeakyReLU)      (None, 128, 128, 64) 0           batch_normalization_26[0][0]     \n",
            "__________________________________________________________________________________________________\n",
            "conv2d_27 (Conv2D)              (None, 128, 128, 64) 36864       leaky_re_lu_26[0][0]             \n",
            "__________________________________________________________________________________________________\n",
            "batch_normalization_27 (BatchNo (None, 128, 128, 64) 256         conv2d_27[0][0]                  \n",
            "__________________________________________________________________________________________________\n",
            "leaky_re_lu_27 (LeakyReLU)      (None, 128, 128, 64) 0           batch_normalization_27[0][0]     \n",
            "__________________________________________________________________________________________________\n",
            "conv2d_28 (Conv2D)              (None, 128, 128, 64) 36864       leaky_re_lu_27[0][0]             \n",
            "__________________________________________________________________________________________________\n",
            "add_9 (Add)                     (None, 128, 128, 64) 0           conv2d_28[0][0]                  \n",
            "                                                                 add_8[0][0]                      \n",
            "__________________________________________________________________________________________________\n",
            "batch_normalization_28 (BatchNo (None, 128, 128, 64) 256         add_9[0][0]                      \n",
            "__________________________________________________________________________________________________\n",
            "leaky_re_lu_28 (LeakyReLU)      (None, 128, 128, 64) 0           batch_normalization_28[0][0]     \n",
            "__________________________________________________________________________________________________\n",
            "conv2d_29 (Conv2D)              (None, 128, 128, 128 8192        leaky_re_lu_28[0][0]             \n",
            "__________________________________________________________________________________________________\n",
            "max_pooling2d_5 (MaxPooling2D)  (None, 64, 64, 128)  0           conv2d_29[0][0]                  \n",
            "__________________________________________________________________________________________________\n",
            "batch_normalization_29 (BatchNo (None, 64, 64, 128)  512         max_pooling2d_5[0][0]            \n",
            "__________________________________________________________________________________________________\n",
            "leaky_re_lu_29 (LeakyReLU)      (None, 64, 64, 128)  0           batch_normalization_29[0][0]     \n",
            "__________________________________________________________________________________________________\n",
            "conv2d_30 (Conv2D)              (None, 64, 64, 128)  147456      leaky_re_lu_29[0][0]             \n",
            "__________________________________________________________________________________________________\n",
            "batch_normalization_30 (BatchNo (None, 64, 64, 128)  512         conv2d_30[0][0]                  \n",
            "__________________________________________________________________________________________________\n",
            "leaky_re_lu_30 (LeakyReLU)      (None, 64, 64, 128)  0           batch_normalization_30[0][0]     \n",
            "__________________________________________________________________________________________________\n",
            "conv2d_31 (Conv2D)              (None, 64, 64, 128)  147456      leaky_re_lu_30[0][0]             \n",
            "__________________________________________________________________________________________________\n",
            "add_10 (Add)                    (None, 64, 64, 128)  0           conv2d_31[0][0]                  \n",
            "                                                                 max_pooling2d_5[0][0]            \n",
            "__________________________________________________________________________________________________\n",
            "batch_normalization_31 (BatchNo (None, 64, 64, 128)  512         add_10[0][0]                     \n",
            "__________________________________________________________________________________________________\n",
            "leaky_re_lu_31 (LeakyReLU)      (None, 64, 64, 128)  0           batch_normalization_31[0][0]     \n",
            "__________________________________________________________________________________________________\n",
            "conv2d_32 (Conv2D)              (None, 64, 64, 128)  147456      leaky_re_lu_31[0][0]             \n",
            "__________________________________________________________________________________________________\n",
            "batch_normalization_32 (BatchNo (None, 64, 64, 128)  512         conv2d_32[0][0]                  \n",
            "__________________________________________________________________________________________________\n",
            "leaky_re_lu_32 (LeakyReLU)      (None, 64, 64, 128)  0           batch_normalization_32[0][0]     \n",
            "__________________________________________________________________________________________________\n",
            "conv2d_33 (Conv2D)              (None, 64, 64, 128)  147456      leaky_re_lu_32[0][0]             \n",
            "__________________________________________________________________________________________________\n",
            "add_11 (Add)                    (None, 64, 64, 128)  0           conv2d_33[0][0]                  \n",
            "                                                                 add_10[0][0]                     \n",
            "__________________________________________________________________________________________________\n",
            "batch_normalization_33 (BatchNo (None, 64, 64, 128)  512         add_11[0][0]                     \n",
            "__________________________________________________________________________________________________\n",
            "leaky_re_lu_33 (LeakyReLU)      (None, 64, 64, 128)  0           batch_normalization_33[0][0]     \n",
            "__________________________________________________________________________________________________\n",
            "conv2d_34 (Conv2D)              (None, 64, 64, 256)  32768       leaky_re_lu_33[0][0]             \n",
            "__________________________________________________________________________________________________\n",
            "max_pooling2d_6 (MaxPooling2D)  (None, 32, 32, 256)  0           conv2d_34[0][0]                  \n",
            "__________________________________________________________________________________________________\n",
            "batch_normalization_34 (BatchNo (None, 32, 32, 256)  1024        max_pooling2d_6[0][0]            \n",
            "__________________________________________________________________________________________________\n",
            "leaky_re_lu_34 (LeakyReLU)      (None, 32, 32, 256)  0           batch_normalization_34[0][0]     \n",
            "__________________________________________________________________________________________________\n",
            "conv2d_35 (Conv2D)              (None, 32, 32, 256)  589824      leaky_re_lu_34[0][0]             \n",
            "__________________________________________________________________________________________________\n",
            "batch_normalization_35 (BatchNo (None, 32, 32, 256)  1024        conv2d_35[0][0]                  \n",
            "__________________________________________________________________________________________________\n",
            "leaky_re_lu_35 (LeakyReLU)      (None, 32, 32, 256)  0           batch_normalization_35[0][0]     \n",
            "__________________________________________________________________________________________________\n",
            "conv2d_36 (Conv2D)              (None, 32, 32, 256)  589824      leaky_re_lu_35[0][0]             \n",
            "__________________________________________________________________________________________________\n",
            "add_12 (Add)                    (None, 32, 32, 256)  0           conv2d_36[0][0]                  \n",
            "                                                                 max_pooling2d_6[0][0]            \n",
            "__________________________________________________________________________________________________\n",
            "batch_normalization_36 (BatchNo (None, 32, 32, 256)  1024        add_12[0][0]                     \n",
            "__________________________________________________________________________________________________\n",
            "leaky_re_lu_36 (LeakyReLU)      (None, 32, 32, 256)  0           batch_normalization_36[0][0]     \n",
            "__________________________________________________________________________________________________\n",
            "conv2d_37 (Conv2D)              (None, 32, 32, 256)  589824      leaky_re_lu_36[0][0]             \n",
            "__________________________________________________________________________________________________\n",
            "batch_normalization_37 (BatchNo (None, 32, 32, 256)  1024        conv2d_37[0][0]                  \n",
            "__________________________________________________________________________________________________\n",
            "leaky_re_lu_37 (LeakyReLU)      (None, 32, 32, 256)  0           batch_normalization_37[0][0]     \n",
            "__________________________________________________________________________________________________\n",
            "conv2d_38 (Conv2D)              (None, 32, 32, 256)  589824      leaky_re_lu_37[0][0]             \n",
            "__________________________________________________________________________________________________\n",
            "add_13 (Add)                    (None, 32, 32, 256)  0           conv2d_38[0][0]                  \n",
            "                                                                 add_12[0][0]                     \n",
            "__________________________________________________________________________________________________\n",
            "batch_normalization_38 (BatchNo (None, 32, 32, 256)  1024        add_13[0][0]                     \n",
            "__________________________________________________________________________________________________\n",
            "leaky_re_lu_38 (LeakyReLU)      (None, 32, 32, 256)  0           batch_normalization_38[0][0]     \n",
            "__________________________________________________________________________________________________\n",
            "conv2d_39 (Conv2D)              (None, 32, 32, 512)  131072      leaky_re_lu_38[0][0]             \n",
            "__________________________________________________________________________________________________\n",
            "max_pooling2d_7 (MaxPooling2D)  (None, 16, 16, 512)  0           conv2d_39[0][0]                  \n",
            "__________________________________________________________________________________________________\n",
            "batch_normalization_39 (BatchNo (None, 16, 16, 512)  2048        max_pooling2d_7[0][0]            \n",
            "__________________________________________________________________________________________________\n",
            "leaky_re_lu_39 (LeakyReLU)      (None, 16, 16, 512)  0           batch_normalization_39[0][0]     \n",
            "__________________________________________________________________________________________________\n",
            "conv2d_40 (Conv2D)              (None, 16, 16, 512)  2359296     leaky_re_lu_39[0][0]             \n",
            "__________________________________________________________________________________________________\n",
            "batch_normalization_40 (BatchNo (None, 16, 16, 512)  2048        conv2d_40[0][0]                  \n",
            "__________________________________________________________________________________________________\n",
            "leaky_re_lu_40 (LeakyReLU)      (None, 16, 16, 512)  0           batch_normalization_40[0][0]     \n",
            "__________________________________________________________________________________________________\n",
            "conv2d_41 (Conv2D)              (None, 16, 16, 512)  2359296     leaky_re_lu_40[0][0]             \n",
            "__________________________________________________________________________________________________\n",
            "add_14 (Add)                    (None, 16, 16, 512)  0           conv2d_41[0][0]                  \n",
            "                                                                 max_pooling2d_7[0][0]            \n",
            "__________________________________________________________________________________________________\n",
            "batch_normalization_41 (BatchNo (None, 16, 16, 512)  2048        add_14[0][0]                     \n",
            "__________________________________________________________________________________________________\n",
            "leaky_re_lu_41 (LeakyReLU)      (None, 16, 16, 512)  0           batch_normalization_41[0][0]     \n",
            "__________________________________________________________________________________________________\n",
            "conv2d_42 (Conv2D)              (None, 16, 16, 512)  2359296     leaky_re_lu_41[0][0]             \n",
            "__________________________________________________________________________________________________\n",
            "batch_normalization_42 (BatchNo (None, 16, 16, 512)  2048        conv2d_42[0][0]                  \n",
            "__________________________________________________________________________________________________\n",
            "leaky_re_lu_42 (LeakyReLU)      (None, 16, 16, 512)  0           batch_normalization_42[0][0]     \n",
            "__________________________________________________________________________________________________\n",
            "conv2d_43 (Conv2D)              (None, 16, 16, 512)  2359296     leaky_re_lu_42[0][0]             \n",
            "__________________________________________________________________________________________________\n",
            "add_15 (Add)                    (None, 16, 16, 512)  0           conv2d_43[0][0]                  \n",
            "                                                                 add_14[0][0]                     \n",
            "__________________________________________________________________________________________________\n",
            "batch_normalization_43 (BatchNo (None, 16, 16, 512)  2048        add_15[0][0]                     \n",
            "__________________________________________________________________________________________________\n",
            "leaky_re_lu_43 (LeakyReLU)      (None, 16, 16, 512)  0           batch_normalization_43[0][0]     \n",
            "__________________________________________________________________________________________________\n",
            "conv2d_44 (Conv2D)              (None, 16, 16, 256)  131328      leaky_re_lu_43[0][0]             \n",
            "__________________________________________________________________________________________________\n",
            "batch_normalization_44 (BatchNo (None, 16, 16, 256)  1024        conv2d_44[0][0]                  \n",
            "__________________________________________________________________________________________________\n",
            "leaky_re_lu_44 (LeakyReLU)      (None, 16, 16, 256)  0           batch_normalization_44[0][0]     \n",
            "__________________________________________________________________________________________________\n",
            "conv2d_transpose_1 (Conv2DTrans (None, 64, 64, 128)  2097280     leaky_re_lu_44[0][0]             \n",
            "__________________________________________________________________________________________________\n",
            "batch_normalization_45 (BatchNo (None, 64, 64, 128)  512         conv2d_transpose_1[0][0]         \n",
            "__________________________________________________________________________________________________\n",
            "leaky_re_lu_45 (LeakyReLU)      (None, 64, 64, 128)  0           batch_normalization_45[0][0]     \n",
            "__________________________________________________________________________________________________\n",
            "conv2d_45 (Conv2D)              (None, 64, 64, 1)    129         leaky_re_lu_45[0][0]             \n",
            "__________________________________________________________________________________________________\n",
            "up_sampling2d_1 (UpSampling2D)  (None, 256, 256, 1)  0           conv2d_45[0][0]                  \n",
            "==================================================================================================\n",
            "Total params: 14,957,729\n",
            "Trainable params: 14,947,297\n",
            "Non-trainable params: 10,432\n",
            "__________________________________________________________________________________________________\n",
            "None\n"
          ],
          "name": "stdout"
        }
      ]
    },
    {
      "cell_type": "markdown",
      "metadata": {
        "id": "_eD9V4tZxrX6",
        "colab_type": "text"
      },
      "source": [
        "# Section 4- Model fitting"
      ]
    },
    {
      "cell_type": "markdown",
      "metadata": {
        "id": "jveF37up503q",
        "colab_type": "text"
      },
      "source": [
        "The compiled model is not fit with the train dataset and evaluated against the validatin dataset generated. \n",
        "\n",
        "The following hyperparameters are utilized. Grid search was implemented on a partial dataset to find the right parameters. These include,\n",
        "\n",
        "1. Batch size =32\n",
        "2. Optimizer = Adam\n",
        "3. Epochs =10\n",
        "4. Steps per epoch= 200\n",
        "5. Loss = IoU with binary cross entropy\n",
        "\n",
        "The best model was saved for further evaluation on the test set."
      ]
    },
    {
      "cell_type": "code",
      "metadata": {
        "id": "LyFNWgpVXmN6",
        "colab_type": "code",
        "colab": {
          "base_uri": "https://localhost:8080/",
          "height": 428
        },
        "outputId": "3803a593-a7bc-4b1c-ea44-ca0307f99943"
      },
      "source": [
        "history_CNN = model_CNN.fit_generator(train_gen, validation_data=valid_gen, steps_per_epoch=200, epochs=10, shuffle=True, \n",
        "                                      callbacks=[tf.keras.callbacks.CSVLogger(os.path.join('training_ADAM_LR_SIG1.csv'), append=True),\n",
        "                                      tf.keras.callbacks.ModelCheckpoint(os.path.join(\n",
        "                                            'last_checkpoint_ADAM_LR_SIG1.hdf5'),\n",
        "                                      monitor='val_loss', mode='min', save_best_only=True, \n",
        "                                             save_weights_only=False, verbose=0),learning_rate_CNN])"
      ],
      "execution_count": null,
      "outputs": [
        {
          "output_type": "stream",
          "text": [
            "WARNING:tensorflow:From <ipython-input-33-d3ca929f49d9>:7: Model.fit_generator (from tensorflow.python.keras.engine.training) is deprecated and will be removed in a future version.\n",
            "Instructions for updating:\n",
            "Please use Model.fit, which supports generators.\n",
            "Epoch 1/10\n",
            "200/200 [==============================] - 4679s 23s/step - loss: 0.5198 - accuracy: 0.9377 - mean_iou: 0.4609 - val_loss: 0.4947 - val_accuracy: 0.9489 - val_mean_iou: 0.5033 - lr: 0.0010\n",
            "Epoch 2/10\n",
            "200/200 [==============================] - 2403s 12s/step - loss: 0.4692 - accuracy: 0.9459 - mean_iou: 0.4967 - val_loss: 0.4696 - val_accuracy: 0.9288 - val_mean_iou: 0.4330 - lr: 9.9384e-04\n",
            "Epoch 3/10\n",
            "200/200 [==============================] - 1746s 9s/step - loss: 0.4506 - accuracy: 0.9490 - mean_iou: 0.5371 - val_loss: 0.5429 - val_accuracy: 0.8947 - val_mean_iou: 0.3466 - lr: 9.7553e-04\n",
            "Epoch 4/10\n",
            "200/200 [==============================] - 1379s 7s/step - loss: 0.4389 - accuracy: 0.9517 - mean_iou: 0.5573 - val_loss: 0.6072 - val_accuracy: 0.8603 - val_mean_iou: 0.3175 - lr: 9.4550e-04\n",
            "Epoch 5/10\n",
            "200/200 [==============================] - 1214s 6s/step - loss: 0.4337 - accuracy: 0.9522 - mean_iou: 0.5615 - val_loss: 0.4392 - val_accuracy: 0.9458 - val_mean_iou: 0.5179 - lr: 9.0451e-04\n",
            "Epoch 6/10\n",
            "200/200 [==============================] - 1130s 6s/step - loss: 0.4235 - accuracy: 0.9534 - mean_iou: 0.5684 - val_loss: 0.4795 - val_accuracy: 0.9183 - val_mean_iou: 0.4555 - lr: 8.5355e-04\n",
            "Epoch 7/10\n",
            "200/200 [==============================] - 1086s 5s/step - loss: 0.4272 - accuracy: 0.9534 - mean_iou: 0.5699 - val_loss: 0.4584 - val_accuracy: 0.9542 - val_mean_iou: 0.5752 - lr: 7.9389e-04\n",
            "Epoch 8/10\n",
            "200/200 [==============================] - 1069s 5s/step - loss: 0.4173 - accuracy: 0.9557 - mean_iou: 0.5771 - val_loss: 0.4267 - val_accuracy: 0.9525 - val_mean_iou: 0.5883 - lr: 7.2700e-04\n",
            "Epoch 9/10\n",
            "200/200 [==============================] - 1049s 5s/step - loss: 0.4097 - accuracy: 0.9572 - mean_iou: 0.5944 - val_loss: 0.4393 - val_accuracy: 0.9551 - val_mean_iou: 0.6029 - lr: 6.5451e-04\n",
            "Epoch 10/10\n",
            "200/200 [==============================] - 1034s 5s/step - loss: 0.4043 - accuracy: 0.9575 - mean_iou: 0.5944 - val_loss: 0.4243 - val_accuracy: 0.9492 - val_mean_iou: 0.5613 - lr: 5.7822e-04\n"
          ],
          "name": "stdout"
        }
      ]
    },
    {
      "cell_type": "markdown",
      "metadata": {
        "id": "UZItu41cIzqQ",
        "colab_type": "text"
      },
      "source": [
        "The model was fit after a run of 4.6 hours on a 12 GB GPU.\n",
        "\n",
        "Since the validation accuracy was hgiher than 95% and the learning rate was very small 0.00057, the effectiveness of running more epochs was low and therefore the run was terminated."
      ]
    },
    {
      "cell_type": "code",
      "metadata": {
        "id": "8LqPN5XTXrpR",
        "colab_type": "code",
        "colab": {
          "base_uri": "https://localhost:8080/",
          "height": 265
        },
        "outputId": "25a089fe-9c57-4fd8-b45e-8da9a1bccf4b"
      },
      "source": [
        "plt.figure(figsize=(12,4))\n",
        "plt.subplot(131)\n",
        "plt.plot(history_CNN.epoch, history_CNN.history[\"loss\"], label=\"Train loss\")\n",
        "plt.plot(history_CNN.epoch, history_CNN.history[\"val_loss\"], label=\"Valid loss\")\n",
        "plt.legend()\n",
        "plt.subplot(132)\n",
        "plt.plot(history_CNN.epoch, history_CNN.history[\"accuracy\"], label=\"Train accuracy\")\n",
        "plt.plot(history_CNN.epoch, history_CNN.history[\"val_accuracy\"], label=\"Valid accuracy\")\n",
        "plt.legend()\n",
        "plt.subplot(133)\n",
        "plt.plot(history_CNN.epoch, history_CNN.history[\"mean_iou\"], label=\"Train iou\")\n",
        "plt.plot(history_CNN.epoch, history_CNN.history[\"val_mean_iou\"], label=\"Valid iou\")\n",
        "plt.legend()\n",
        "plt.show()"
      ],
      "execution_count": null,
      "outputs": [
        {
          "output_type": "display_data",
          "data": {
            "image/png": "[encoded data removed]",
            "text/plain": [
              "<Figure size 864x288 with 3 Axes>"
            ]
          },
          "metadata": {
            "tags": [],
            "needs_background": "light"
          }
        }
      ]
    },
    {
      "cell_type": "markdown",
      "metadata": {
        "id": "fUoCJOnFKbcX",
        "colab_type": "text"
      },
      "source": [
        "A visualization of the Epochs run is given in the graphs above. It can be clearly seen that the loss has minimized considerably.\n",
        "\n",
        "A validation accuracy of over 95% was achieved and the IoU was greater than 0.5"
      ]
    },
    {
      "cell_type": "markdown",
      "metadata": {
        "id": "FBqg7rSbx1rF",
        "colab_type": "text"
      },
      "source": [
        "# Section 5- Model evaluation and result"
      ]
    },
    {
      "cell_type": "markdown",
      "metadata": {
        "id": "8XP_vFsBLRtn",
        "colab_type": "text"
      },
      "source": [
        "It is now necessary to evaluate the performace of the model on the test dataset. The following steps have been perfomed in this section,\n",
        "\n",
        "1. The model is fit on the test dataset and the bounding box predictions (masks) as well as the classification is generated.\n",
        "\n",
        "2. Classification accuracy with precision and recall is evaluated\n",
        "\n",
        "3. A sample image with the predicted bounding box is displayed\n",
        "\n",
        "4. The AUROC curve is plottted."
      ]
    },
    {
      "cell_type": "markdown",
      "metadata": {
        "id": "AN_FydUzMNXf",
        "colab_type": "text"
      },
      "source": [
        "The model is fit on the test dataset and the bounding box with a threshold of 0.5 has classified."
      ]
    },
    {
      "cell_type": "code",
      "metadata": {
        "id": "54mTEKuQX3Nc",
        "colab_type": "code",
        "colab": {
          "base_uri": "https://localhost:8080/",
          "height": 1000
        },
        "outputId": "50676007-f33c-40c0-b583-9322089e283e"
      },
      "source": [
        "true_positive = 0\n",
        "true_negative = 0\n",
        "false_positive = 0\n",
        "false_negative = 0\n",
        "i = 0\n",
        "test_labels = []\n",
        "y_pred = []\n",
        "\n",
        "\n",
        "#only for testing purp\n",
        "test_gen = generator(folder, test_filenames, None, batch_size=16, image_size=256, shuffle=False, predict=True)\n",
        "# create submission dictionary\n",
        "submission_dict = {}\n",
        "pneumonia_coordinates = {}\n",
        "# loop through testset\n",
        "for imgs, filenames in test_gen:\n",
        "    # predict batch of images\n",
        "    preds = model_CNN.predict(imgs)\n",
        "    # loop through batch\n",
        "    for pred, filename in zip(preds, filenames):\n",
        "        # resize predicted mask\n",
        "        pred = resize(pred, (1024, 1024), mode='reflect')\n",
        "        # threshold predicted mask\n",
        "        comp = pred[:, :, 0] > 0.5\n",
        "        conf = 0\n",
        "        # apply connected components\n",
        "        comp = measure.label(comp)\n",
        "        # apply bounding boxes\n",
        "        predictionString = ''\n",
        "        for region in measure.regionprops(comp):\n",
        "            # retrieve x, y, height and width\n",
        "            y, x, y2, x2 = region.bbox\n",
        "            height = y2 - y\n",
        "            width = x2 - x\n",
        "            # proxy for confidence score\n",
        "            conf = np.mean(pred[y:y+height, x:x+width])\n",
        "            # add to predictionString\n",
        "            predictionString += str(conf) + ' ' + str(x) + ' ' + str(y) + ' ' + str(width) + ' ' + str(height) + ' '\n",
        "            location = [x,y,width,height]\n",
        "            # location = [int(float(i)) for i in predictionString]\n",
        "            # save pneumonia location in dictionary\n",
        "            if filename in pneumonia_coordinates:\n",
        "              pneumonia_coordinates[filename].append(location)\n",
        "            else:\n",
        "              pneumonia_coordinates[filename] = [location]\n",
        "\n",
        "             \n",
        "        # add filename and predictionString to dictionary\n",
        "        filename = filename.split('.')[0]\n",
        "        submission_dict[filename] = predictionString\n",
        "        \n",
        "        \n",
        "        \n",
        "        #Code to predict the accuracy\n",
        "        if filename in pneumonia_locations:\n",
        "          label = 1\n",
        "        else:\n",
        "          label = 0\n",
        "        #print(\"conf:\",conf,\"label:\",label)\n",
        "        print('label',label , ' filename :',filename, \" conf:\",conf)\n",
        "        if (conf >= 0.2 and label == 1):\n",
        "          true_positive +=1\n",
        "          if(true_positive ==1):\n",
        "            print('label',label , ' filename :',filename, \" conf:\",conf)\n",
        "        if (conf < 0.2 and label == 0):\n",
        "          true_negative +=1\n",
        "        if (conf >= 0.2 and label == 0):\n",
        "          false_positive += 1  \n",
        "        if (conf < 0.2 and label == 1):\n",
        "          false_negative += 1\n",
        "        test_labels.append(label)\n",
        "        if conf > 0:\n",
        "          y_pred.append(1) \n",
        "        else:\n",
        "          y_pred.append(0) \n",
        "        i = i+1\n",
        "    # stop if we've got them all\n",
        "    #print(' : ', pneumonia_coordinates)\n",
        "    if len(submission_dict) >= len(test_filenames):\n",
        "        break\n",
        "      \n",
        "print(\"Done predicting...\")\n",
        "        \n",
        "# save dictionary as csv file\n",
        "sub = pd.DataFrame.from_dict(submission_dict,orient='index')\n",
        "sub.index.names = ['patientId']\n",
        "sub.columns = ['PredictionString']\n",
        "sub.to_csv('ADAM_LR_SIG.csv')"
      ],
      "execution_count": null,
      "outputs": [
        {
          "output_type": "stream",
          "text": [
            "label 0  filename : 7351c984-3f01-438f-bc30-85b3a74401bb  conf: 0\n",
            "label 0  filename : 736cb706-9569-4164-a3a0-baafbef1b3c8  conf: 0\n",
            "label 0  filename : 737c0768-cbf9-44d3-a6e0-01e8244e55d1  conf: 0\n",
            "label 1  filename : 737007e0-adbe-4773-8e57-da8a0c7b3f53  conf: 0\n",
            "label 1  filename : 737030d6-07d1-43de-9e11-82b31accd240  conf: 0.6566789\n",
            "label 1  filename : 737030d6-07d1-43de-9e11-82b31accd240  conf: 0.6566789\n",
            "label 1  filename : 737aa32f-2044-45a6-b50c-b3aadb51394a  conf: 0.70814514\n",
            "label 0  filename : 73872731-6970-4490-a23c-afe09c751429  conf: 0\n",
            "label 0  filename : 73827f0b-0bc9-47eb-8249-14621ad77f5a  conf: 0.59135103\n",
            "label 1  filename : 738524e2-9e98-43cb-8c56-b480a2a0ae2f  conf: 0.5794704\n",
            "label 0  filename : 73a53464-7183-4a5e-ba1d-f2c014d1511a  conf: 0\n",
            "label 0  filename : 739597a4-836a-4591-8ef2-f912a5822a44  conf: 0\n",
            "label 0  filename : 7391faa9-e52c-4a10-bcd7-56d286c9aee2  conf: 0\n",
            "label 1  filename : 73a0777c-caaf-405f-80ab-342715b384c9  conf: 0.79049885\n",
            "label 0  filename : 739b6cca-cb26-437c-9409-f66474a95eed  conf: 0.5433111\n",
            "label 1  filename : 739bd043-d62e-41ef-bf20-20ed762dca13  conf: 0.7588951\n",
            "label 0  filename : 73a993d6-3f86-447d-bfb8-9dbf87be0a66  conf: 0.68117464\n",
            "label 0  filename : 73aeea88-fc48-4030-8564-0a9d7fdecac4  conf: 0\n",
            "label 0  filename : 73ace93d-59b5-4895-91d7-cbe632e3a024  conf: 0.56251174\n",
            "label 0  filename : 73b71363-c57c-4228-8585-b99411a62474  conf: 0\n",
            "label 1  filename : 73b9e53d-0501-4d0e-bc35-9eab24af5551  conf: 0.53754646\n",
            "label 1  filename : 73b46983-7780-4d82-874a-d9255dd639cb  conf: 0.589631\n",
            "label 1  filename : 73bc84c5-99b9-4e31-b8db-e3707aaf3576  conf: 0.616902\n",
            "label 0  filename : 73bf15b5-58dd-4aa2-974f-2749e0a5fd92  conf: 0\n",
            "label 0  filename : 73c48214-24be-4f07-9d5b-f3774de98ddb  conf: 0\n",
            "label 0  filename : 73c72ba5-c349-4906-9f36-ac9e6f266125  conf: 0\n",
            "label 1  filename : 73cb75e6-0cef-4f7a-9c8d-cc9cc4eb0fd7  conf: 0.5135588\n",
            "label 1  filename : 73cd5772-d381-4e83-a022-3fab0f78b035  conf: 0.7507487\n",
            "label 0  filename : 73ce684f-bb84-4803-9aee-665ba64f1891  conf: 0\n",
            "label 0  filename : 73d4c4ab-415a-4508-a293-6b30f0df5a1e  conf: 0\n",
            "label 1  filename : 73d61528-0457-4796-9ccf-6d23f76bdd73  conf: 0\n",
            "label 1  filename : 73e02b82-d818-45fe-80bd-3f8fd75bf95d  conf: 0.64136916\n",
            "label 1  filename : 73d61c35-605f-435e-af98-5cc68b188a46  conf: 0.7149316\n",
            "label 1  filename : 73dec8bd-601a-4cbe-9ae8-336c5cbd77e2  conf: 0.78004074\n",
            "label 0  filename : 73dca3d1-5c58-4c72-80a9-201deca7ffec  conf: 0\n",
            "label 0  filename : 73e37383-33e9-4d18-82a9-d9179850fabe  conf: 0\n",
            "label 1  filename : 73e62967-5fef-4dfa-9a3a-1e045a81f593  conf: 0.68258274\n",
            "label 0  filename : 73f20de7-2234-406e-be6a-9ab82c6f068b  conf: 0\n",
            "label 0  filename : 73f5f220-b2a8-4d6c-9416-d54dbfdfc02e  conf: 0\n",
            "label 0  filename : 73f6d76b-c5a2-4493-b39a-7ab830178f72  conf: 0\n",
            "label 0  filename : 73fdcfb6-42ad-4be4-92b4-641250252431  conf: 0\n",
            "label 0  filename : 7400568c-7ce2-4545-9400-909c2876bcc2  conf: 0\n",
            "label 0  filename : 74060000-8546-4dff-b85b-7de6eeeb04a4  conf: 0\n",
            "label 0  filename : 740e0410-19ae-4fb0-a0cb-3c6e1ca6d16a  conf: 0\n",
            "label 1  filename : 74075cca-a426-4710-92de-e23aa74b76ac  conf: 0.66193295\n",
            "label 0  filename : 7413a015-85bf-4a42-b138-96fea1aaf03d  conf: 0\n",
            "label 0  filename : 740b5839-478f-4665-a2d5-1462b2053873  conf: 0\n",
            "label 1  filename : 741500a4-d128-4b85-852b-428779f5c5ec  conf: 0.79077035\n",
            "label 1  filename : 741e924e-b826-47e9-a349-879561029b24  conf: 0\n",
            "label 0  filename : 7422013e-dd88-4a98-bbe4-b1ab9202eeca  conf: 0\n",
            "label 0  filename : 74192b5f-7e82-4636-9886-c2c1750d833a  conf: 0\n",
            "label 1  filename : 742365a8-d9a5-41e4-b8a3-24a03a894f9f  conf: 0.7614911\n",
            "label 0  filename : 7426e930-fed6-4ef3-8a8f-4b70c12e94de  conf: 0\n",
            "label 0  filename : 742ae136-a219-4586-ab1e-3f8064596e8c  conf: 0\n",
            "label 0  filename : 742bb3ca-01c7-4368-ac6a-1a276b2adbd9  conf: 0\n",
            "label 0  filename : 742d5090-857c-48b4-9812-277ca12303e9  conf: 0\n",
            "label 0  filename : 74344068-50a8-4c34-af4e-f2e533cacd8c  conf: 0\n",
            "label 1  filename : 74321b39-3aab-444a-893e-fa743ddc9224  conf: 0.6338072\n",
            "label 0  filename : 7437e61c-7aba-478a-9398-0eed93ba42f5  conf: 0\n",
            "label 1  filename : 74340139-eebf-445a-a0a1-2b9101233a3a  conf: 0.5812743\n",
            "label 0  filename : 743d1905-767a-4dc2-9082-b2f11df0ab39  conf: 0\n",
            "label 0  filename : 74425fb9-d1d5-4813-97d8-6b25a55d62a6  conf: 0\n",
            "label 1  filename : 74457e4b-4059-4ba4-959a-3a8e12b7d5f8  conf: 0.73612505\n",
            "label 0  filename : 7445103d-6e22-41cc-a79c-a6d0f72c6580  conf: 0.7069286\n",
            "label 1  filename : 74480045-29f4-478e-b1c0-322b2f4ccdc2  conf: 0.6762906\n",
            "label 0  filename : 7459704b-62ef-46c5-85a2-33f26236eac0  conf: 0\n",
            "label 1  filename : 7458057f-a75e-49ed-a22f-41960bfa2a00  conf: 0.6365325\n",
            "label 0  filename : 7464e292-ecd7-4806-957d-dbab928c9579  conf: 0\n",
            "label 0  filename : 745b583f-24ab-4ec3-95a3-c244d4639957  conf: 0\n",
            "label 0  filename : 745ce781-5c87-4075-be9a-a221afd1b7e5  conf: 0\n",
            "label 0  filename : 7468319a-de5b-4b80-87f4-5cb21ab84429  conf: 0\n",
            "label 0  filename : 7466c6fc-ce6f-4651-a29c-6818bd64c05c  conf: 0\n",
            "label 1  filename : 7469db63-0c15-4e73-b6c4-9df8c2b9dd6c  conf: 0.6498606\n",
            "label 0  filename : 74703b0c-9336-47b4-b771-88db5bcc3f51  conf: 0\n",
            "label 0  filename : 7469a868-37b1-421a-8269-42f1c661fb54  conf: 0\n",
            "label 0  filename : 7478b0de-d067-48b2-b3e2-fd34319e0690  conf: 0\n",
            "label 1  filename : 7471b0e8-8f55-4ced-b8e4-18a7554a0ebe  conf: 0.82644576\n",
            "label 0  filename : 747f5ec4-265c-4470-a82d-eb8af41118b1  conf: 0\n",
            "label 1  filename : 747b1c03-c554-41ea-9d57-7b54894985f3  conf: 0.5369651\n",
            "label 0  filename : 748a81ac-2970-41c4-8eba-432c8c852f92  conf: 0.5346307\n",
            "label 0  filename : 74819909-aa23-4f26-8903-7c1d2d712292  conf: 0\n",
            "label 1  filename : 747f9c4b-8bba-439f-8e31-d8529cb41850  conf: 0\n",
            "label 0  filename : 748cfb1b-043b-43d3-91d8-9710848b3a91  conf: 0\n",
            "label 0  filename : 74912eef-96d3-4591-8b36-1767c9ce0ea0  conf: 0\n",
            "label 1  filename : 749fbf6d-b0ea-4118-91c7-a47d9d704f62  conf: 0.7002656\n",
            "label 1  filename : 74a08fcb-fc92-4b2f-9301-3602dbaf0a41  conf: 0\n",
            "label 0  filename : 74b0e0b5-eaa2-4112-a15a-e3b883907053  conf: 0\n",
            "label 0  filename : 74a3830c-95d6-4f63-b090-a87783f7613b  conf: 0\n",
            "label 0  filename : 7495b380-25a3-4dfb-9da3-630f6288728f  conf: 0\n",
            "label 1  filename : 74a8f43c-5b4c-4da8-8117-36f475dc1634  conf: 0.73657566\n",
            "label 0  filename : 74b43a7f-0306-49fb-929a-2d520eb8e58d  conf: 0\n",
            "label 1  filename : 74bf0245-0e19-45d6-9f31-65eaff09fb8a  conf: 0\n",
            "label 0  filename : 74c1016b-bd3c-4a5e-96a5-e86a8c9c4a7f  conf: 0\n",
            "label 0  filename : 74be60d1-0885-4010-895d-297ea831ddb4  conf: 0\n",
            "label 0  filename : 74c665ca-a728-44bc-8131-8e15ec862cbf  conf: 0\n",
            "label 0  filename : 74caf10f-fd15-40ea-86bd-a550401638fe  conf: 0\n",
            "label 0  filename : 74d35cd9-9847-4a97-a83a-22fc9eeb5dc0  conf: 0.5102899\n",
            "label 1  filename : 74d04109-2cd0-497f-a3d3-b04fcbd34b10  conf: 0\n",
            "label 0  filename : 74d4f497-7028-4526-81cc-cc3119961137  conf: 0\n",
            "label 0  filename : 74e0d5ea-dba8-427a-9106-98fc13b42ea6  conf: 0.6918118\n",
            "label 1  filename : 74e774b3-ca7c-47c7-b580-393f6a432206  conf: 0.6951168\n",
            "label 0  filename : 74e1565d-450a-4e60-b9c2-fce5d2a4fbdb  conf: 0\n",
            "label 0  filename : 74e8bd5d-687f-4c95-b2a5-e1568ab8a7f1  conf: 0\n",
            "label 1  filename : 74ed4f73-33e6-4607-8842-57aec6c318c6  conf: 0.76170796\n",
            "label 1  filename : 74f02a21-db6b-439d-b17d-81c23120374d  conf: 0.50356495\n",
            "label 0  filename : 74eb29cc-33a7-4ad4-b420-a4f4ba34cf19  conf: 0\n",
            "label 0  filename : 74f58c95-43cd-4dac-ab6e-de270adf1d4d  conf: 0\n",
            "label 0  filename : 74f0cc41-4b2d-4294-8bab-47bd0584b05c  conf: 0\n",
            "label 0  filename : 74f69a44-9224-4c14-a6a4-cffef6d1a757  conf: 0\n",
            "label 1  filename : 7507bb99-a8cf-48c8-a4dd-859ad26e9e1a  conf: 0.7853626\n",
            "label 0  filename : 75026295-2eb4-45e9-b745-db0fcf1eacb4  conf: 0\n",
            "label 1  filename : 74fc0444-3b29-4b22-8e3d-6a92f87f725f  conf: 0.7440067\n",
            "label 0  filename : 74f8f310-cc0c-41ff-871d-8daadb81bbcd  conf: 0\n",
            "label 0  filename : 7509110a-7780-4fe5-a13c-8e1338b7916b  conf: 0\n",
            "label 0  filename : 74fb09f1-f085-4759-aa14-e951de845919  conf: 0.5000173\n",
            "label 1  filename : 7508399d-307f-450d-8f47-f24930ad6fb6  conf: 0.71142775\n",
            "label 1  filename : 750d6b01-4273-43b2-8de8-500e738cb257  conf: 0.53664494\n",
            "label 0  filename : 750b7472-7ed0-48fa-a6c2-1c4d613f9f34  conf: 0\n",
            "label 0  filename : 7510b2b2-4981-48bf-86e5-680414fa17b9  conf: 0.50363666\n",
            "label 0  filename : 75104297-f72d-497d-bad2-9a24b0759e86  conf: 0.693658\n",
            "label 0  filename : 7519423f-d684-4055-b211-b42e54404ca7  conf: 0\n",
            "label 0  filename : 751d2afb-02f0-4519-8e94-319a2c8ffc0b  conf: 0.60844755\n",
            "label 0  filename : 75212c3c-7714-46d6-9927-0b5b58f28f54  conf: 0\n",
            "label 0  filename : 751b96bd-f68e-4d48-abbe-65c8f16440f4  conf: 0\n",
            "label 0  filename : 7531ea31-8ab6-4e3e-912d-13d3049a0d02  conf: 0.53783286\n",
            "label 0  filename : 7525339d-a6e4-4ebe-ab66-70d77b1a62ec  conf: 0\n",
            "label 0  filename : 75333cce-9a88-4907-a6d1-b3caf070393d  conf: 0\n",
            "label 0  filename : 75350e8a-00cc-4a69-9bfd-8dcb72de0e2f  conf: 0.50741595\n",
            "label 0  filename : 75382254-7615-42c0-986c-de9779f049ad  conf: 0\n",
            "label 0  filename : 75431238-8d46-4b70-bbb7-128bd58602cd  conf: 0.60863084\n",
            "label 0  filename : 75476d93-08ae-4a2e-a5f2-167b772313ea  conf: 0\n",
            "label 0  filename : 754bdb4f-f279-418b-9b15-24edc96f7e05  conf: 0\n",
            "label 1  filename : 754ca39f-2e96-47ed-bb55-a56727317591  conf: 0\n",
            "label 1  filename : 755233cd-2ad2-4cbc-b927-97243e46135f  conf: 0.71226305\n",
            "label 0  filename : 75549b2e-abb7-4a62-9af2-76ae403818b2  conf: 0\n",
            "label 1  filename : 755c7169-e84a-4327-a4d6-b0ff906a88f8  conf: 0.7342198\n",
            "label 0  filename : 75613ab8-ec5e-43d2-bee5-8f944d08d793  conf: 0\n",
            "label 0  filename : 7565711c-5523-4fca-8c8f-76b238412720  conf: 0.7635462\n",
            "label 0  filename : 756db5a7-5547-4c51-90c6-b503a5997be2  conf: 0\n",
            "label 0  filename : 756afc30-3d86-4a9b-886c-ddf0fb440fde  conf: 0\n",
            "label 0  filename : 756fc4f4-37ac-4cc6-b6d8-c10d30bf27f1  conf: 0\n",
            "label 0  filename : 75741e40-4136-4b9e-986b-83b353cc5183  conf: 0\n",
            "label 1  filename : 757438a0-081e-45e5-9896-ba91f82d3055  conf: 0.7628787\n",
            "label 0  filename : 757927d3-686e-436c-9a1e-b03a489a8fa5  conf: 0.6331543\n",
            "label 0  filename : 7581fe5e-1611-4563-a327-e140d4327ce8  conf: 0.6477077\n",
            "label 0  filename : 758500d2-343d-4407-b5b4-8fd6b712998c  conf: 0\n",
            "label 0  filename : 757cee78-828e-48aa-9127-406c6a13bcd2  conf: 0\n",
            "label 0  filename : 758dac04-0896-4df8-8b96-dc14c42ea547  conf: 0\n",
            "label 0  filename : 75928615-f7f0-4c49-9c2b-01646244b79a  conf: 0.51960224\n",
            "label 0  filename : 75960fe6-2540-4f86-8f43-203f27af2188  conf: 0\n",
            "label 1  filename : 759f55b1-8bd3-4695-a4ac-6ad6336abaed  conf: 0\n",
            "label 1  filename : 759a11de-da95-4cb8-a373-ab848ae74171  conf: 0.73824877\n",
            "label 0  filename : 759b9c7a-f341-41d2-8c3d-223c246aea77  conf: 0\n",
            "label 0  filename : 75ab9068-b557-498d-bdad-6927ffeeae29  conf: 0\n",
            "label 0  filename : 75a7036c-3e9b-4819-ba0c-e8594eb80af5  conf: 0\n",
            "label 0  filename : 75ae24bf-5a93-4969-9010-6604e53608a0  conf: 0\n",
            "label 0  filename : 75b939dc-925a-4718-883c-08fb45019a3b  conf: 0\n",
            "label 0  filename : 75b33a48-fd40-447d-ab9f-8ff5748a6df3  conf: 0\n",
            "label 0  filename : 75bcbe7d-2568-4010-a0ce-9de23d4d0b08  conf: 0\n",
            "label 0  filename : 75c152a4-eebd-42ad-b642-98221a946b49  conf: 0\n",
            "label 0  filename : 75c93710-cba7-4f8f-a1ae-270ff8c81c80  conf: 0.67665976\n",
            "label 0  filename : 75c7161e-3f42-46d2-b3a4-cd280d624319  conf: 0\n",
            "label 0  filename : 75d50f2f-a869-46ea-8d58-6446ead6d15d  conf: 0\n",
            "label 1  filename : 75ca14eb-205b-4ffa-8ac5-fd48aba8dc11  conf: 0.572297\n",
            "label 1  filename : 75cf69a5-bdc1-4ef9-8937-2abad5bec289  conf: 0.65330356\n",
            "label 1  filename : 75db7623-17d0-4f7b-9c6b-c7a060f5ac9f  conf: 0.53054655\n",
            "label 1  filename : 75dbc949-4634-4f9c-b3bb-a8c03747e9e1  conf: 0.6638473\n",
            "label 0  filename : 75dd76df-41a8-4b61-b42c-1f0df570be3f  conf: 0\n",
            "label 0  filename : 75e34c04-4486-410b-b6d8-46543c1af5a2  conf: 0\n",
            "label 1  filename : 75e9b334-1789-496b-9006-8adccedcd7e4  conf: 0.722433\n",
            "label 1  filename : 75e94dfc-7a8b-4c92-b719-8037440fbeab  conf: 0.6994673\n",
            "label 0  filename : 75eb2e80-3759-49d6-8237-ce32ab4f29e5  conf: 0\n",
            "label 0  filename : 75ed8091-a23e-4dba-84fa-014f5920e9a5  conf: 0\n",
            "label 0  filename : 75f0f18a-0756-4f7c-8e37-e91f9e5a24be  conf: 0.55493927\n",
            "label 0  filename : 75fda83e-e393-4928-bed4-3b7a611fe3c8  conf: 0\n",
            "label 0  filename : 75f8886e-c4df-42c9-b0d4-3fea3dc4858b  conf: 0\n",
            "label 0  filename : 75fa3ec9-b117-49cb-9d48-799821b3c471  conf: 0.5174147\n",
            "label 0  filename : 75fffdf2-1f64-4417-a9e6-171adba28177  conf: 0\n",
            "label 0  filename : 7608a2ca-0709-4cba-b685-3bf55d3a7041  conf: 0.6049191\n",
            "label 0  filename : 7601ce01-d32c-4429-95d5-c2a8c65d7dec  conf: 0.70929974\n",
            "label 1  filename : 761160f0-7d5b-448c-b708-c77838def919  conf: 0.57956153\n",
            "label 0  filename : 760fc611-b3ee-4504-876d-ff864b3b3f88  conf: 0\n",
            "label 0  filename : 76115ff9-5117-45fc-831b-29bc150bf0ff  conf: 0\n",
            "label 0  filename : 76160fbe-cc9f-4f5b-842f-760750a13df4  conf: 0.54685307\n",
            "label 1  filename : 761418cc-7757-4cfe-8b26-9e76c955487a  conf: 0.51345134\n",
            "label 0  filename : 761f4498-6f0d-487c-99cc-244136ef8a69  conf: 0\n",
            "label 0  filename : 7619f134-bdc9-4164-a0b7-cd9a7dd64855  conf: 0\n",
            "label 1  filename : 7625412b-fbb0-46d7-9f7d-00b436cc467a  conf: 0.75677687\n",
            "label 0  filename : 7626541a-f47a-47c4-bfaf-48c290a3be45  conf: 0\n",
            "label 1  filename : 7628b348-fdb4-43f6-a7bf-7eb0e20d0ae8  conf: 0.7313842\n",
            "label 0  filename : 762e8a2c-c60b-4af1-aa92-0b1ba0873699  conf: 0\n",
            "label 1  filename : 7638c224-6103-4774-8254-73f3b394779d  conf: 0.6770296\n",
            "label 1  filename : 7639c65f-52bf-4040-8907-729964dc5563  conf: 0.7551438\n",
            "label 0  filename : 76395224-8088-45c6-bf15-270c8aaea2c5  conf: 0\n",
            "label 0  filename : 763b843f-f415-4868-b089-d8034ced2918  conf: 0\n",
            "label 0  filename : 763f991b-5a8a-47d0-9b9f-151cc661218d  conf: 0\n",
            "label 0  filename : 76487cbf-9dd3-4e1e-b2f6-57c86d408317  conf: 0.6364135\n",
            "label 0  filename : 764ae03e-966a-48d2-ad73-bdbe10274eea  conf: 0\n",
            "label 0  filename : 7658ef50-d386-4066-92d9-5d5735af5f3c  conf: 0\n",
            "label 0  filename : 76554e2a-f033-436b-82ff-ff3e223e5feb  conf: 0\n",
            "label 0  filename : 7652391c-ea5f-4100-bb55-53ce130a0dd8  conf: 0\n",
            "label 0  filename : 765c5980-ee79-45a1-b784-1e4bd26c027a  conf: 0\n",
            "label 0  filename : 76639f5a-541f-4053-b71e-658298f7a8ce  conf: 0\n",
            "label 0  filename : 76673625-6e37-4dc1-b37b-fdaef066dd0b  conf: 0\n",
            "label 0  filename : 766b8aea-3b43-4a34-b675-09f373ca066b  conf: 0\n",
            "label 1  filename : 76712baa-545a-42d8-8670-79a56926349f  conf: 0.62202626\n",
            "label 0  filename : 766e20e8-7a3b-4294-a00f-ec635069465f  conf: 0.7014756\n",
            "label 1  filename : 766d8a8b-a2bc-4ca5-b28a-623f62886e9c  conf: 0.7890006\n",
            "label 1  filename : 767b5c8d-d09b-4d2c-97ea-17dea981a4e4  conf: 0.5880206\n",
            "label 0  filename : 768de2ea-9099-43bd-81d6-ad2b9e375e77  conf: 0\n",
            "label 1  filename : 768e5d7f-10c8-45c3-98e1-7487f808a42d  conf: 0\n",
            "label 0  filename : 76920379-11f5-4040-8917-99a9fbf924ce  conf: 0\n",
            "label 0  filename : 7670693d-7f1d-4045-8d61-77a68bb58e91  conf: 0.5307948\n",
            "label 0  filename : 76969629-8dc1-4091-9507-495fd53342dd  conf: 0\n",
            "label 1  filename : 769f98fc-59c7-4f3a-af65-80a75b679923  conf: 0\n",
            "label 0  filename : 769fd50a-acce-4bf0-95ff-98e941bc6821  conf: 0\n",
            "label 0  filename : 76a93e16-6dc6-4356-bd7e-6e45bd4d3e4e  conf: 0\n",
            "label 0  filename : 76b14eb0-e55a-48f6-86d9-4dbc8353df17  conf: 0\n",
            "label 0  filename : 76b93616-f7ab-419e-a4f4-dc3d49e43dd5  conf: 0\n",
            "label 0  filename : 76b19fb3-d631-4152-8f46-830d0593fc69  conf: 0\n",
            "label 0  filename : 76beffab-fcf8-4de1-a911-23486bb4fd4d  conf: 0\n",
            "label 1  filename : 76c05ccc-eaf3-467b-abae-7f8f1a4aa6c9  conf: 0.7296631\n",
            "label 1  filename : 76c77e8d-bfc4-47b9-bffd-0d136fa06302  conf: 0.578542\n",
            "label 1  filename : 76c091fb-7149-448c-bf1d-ae3320317b33  conf: 0\n",
            "label 0  filename : 76c9e6e4-9cb5-4475-89cf-23b20b0be522  conf: 0\n",
            "label 1  filename : 76cc4621-8f68-4394-98b4-1677b6314cbf  conf: 0.68033576\n",
            "label 1  filename : 76cee8c3-d2a0-47c8-9755-b65d3c152134  conf: 0.52211493\n",
            "label 1  filename : 76cf9b95-b598-4788-9a10-77061046ef98  conf: 0\n",
            "label 0  filename : 76d1345d-4e35-4ef1-a855-94f8ed7b7a63  conf: 0.59065455\n",
            "label 0  filename : 76d6667f-22b4-4bff-bbcd-97130fba3077  conf: 0\n",
            "label 0  filename : 76e05ca4-1dd4-448b-ad06-8500f6e287a3  conf: 0.50401753\n",
            "label 0  filename : 76ea6bfd-5b80-42be-8150-a01faddc80bd  conf: 0\n",
            "label 0  filename : 76d42841-2e66-438a-b987-731432f76469  conf: 0\n",
            "label 1  filename : 76f00430-861f-4370-9e06-dd5b9692b669  conf: 0.54994226\n",
            "label 0  filename : 76f3084e-fd14-46f8-93b6-04acf7ddfced  conf: 0\n",
            "label 1  filename : 76f71a93-8105-4c79-a010-0cfa86f0061a  conf: 0.6827367\n",
            "label 0  filename : 76f8930e-e15f-45cf-87a8-da2ee19df2fc  conf: 0\n",
            "label 0  filename : 76f57f57-67d6-451c-b989-9d10ebc9d2ce  conf: 0\n",
            "label 0  filename : 76fc7c09-6987-449d-a6c6-50b1579a5d1a  conf: 0\n",
            "label 0  filename : 7705b170-db4e-4b7e-bc45-574459bcd540  conf: 0\n",
            "label 0  filename : 7700f140-9d99-472e-a862-8f590166d767  conf: 0.71428424\n",
            "label 1  filename : 770b8908-24e0-4c1d-a3c0-4d75065b02b7  conf: 0\n",
            "label 0  filename : 771f1d4c-318b-452f-a4cd-be1bd8fdde7d  conf: 0.6336598\n",
            "label 0  filename : 7717aa11-1334-49d2-aebb-bd0ced0833e9  conf: 0\n",
            "label 0  filename : 77158193-070f-420c-aa5a-1610601ef4ce  conf: 0\n",
            "label 0  filename : 770cdd04-9045-43dd-acb5-ea9c8b488d34  conf: 0\n",
            "label 0  filename : 770c0508-e362-44f4-9a80-60b7127e6b2e  conf: 0\n",
            "label 0  filename : 772360c5-7c53-465b-b04d-3c8646fa3a23  conf: 0.51805276\n",
            "label 0  filename : 77265ac1-7a24-44df-9969-41cbd6c29263  conf: 0.71894956\n",
            "label 0  filename : 7725f6fc-d01d-4f4c-b0da-dee26ed91f52  conf: 0\n",
            "label 0  filename : 77247253-b5c3-4186-bd4c-87bd62dcd7a7  conf: 0.6795043\n",
            "label 0  filename : 77293530-8a74-449c-b423-85849cee8da2  conf: 0\n",
            "label 1  filename : 772e6245-dac6-4f17-999c-368d4593f98b  conf: 0.47237816\n",
            "label 0  filename : 77330132-9746-4715-936e-301a8da7d42b  conf: 0.52442545\n",
            "label 0  filename : 772f6c48-9dea-44f9-bd4e-e14c0cbef7e2  conf: 0\n",
            "label 0  filename : 773f5b5c-f4d4-47d6-9166-ea655f8e267b  conf: 0\n",
            "label 1  filename : 77326677-302c-48aa-b578-953e266790d5  conf: 0.7298853\n",
            "label 0  filename : 7738f4a5-a2fa-44eb-b96b-7d6e4a317327  conf: 0\n",
            "label 0  filename : 7749ed33-5b57-4d0a-8978-7deb5be26d1a  conf: 0\n",
            "label 0  filename : 77547063-7732-46c1-ad38-d3d0dda9a55f  conf: 0\n",
            "label 0  filename : 774d6e2f-bf8e-4587-99d2-b9feb8d53f33  conf: 0\n",
            "label 0  filename : 77563978-96a9-4687-838e-328917066492  conf: 0.6300899\n",
            "label 1  filename : 7759e7ae-641f-4504-b373-95a8763dc59a  conf: 0.5797248\n",
            "label 1  filename : 775c8468-399e-49a9-9fe4-07e75071abe7  conf: 0.70412976\n",
            "label 1  filename : 775cfd2b-66a5-46ef-8531-c554744b634e  conf: 0.6826086\n",
            "label 0  filename : 775f7e36-39cb-4a1f-8447-0276ac310ef4  conf: 0\n",
            "label 1  filename : 77633bed-c31b-466a-946d-6624b97231a8  conf: 0\n",
            "label 0  filename : 776427e7-40a2-44df-83b0-ce646644d3aa  conf: 0\n",
            "label 1  filename : 776835b8-9137-4b15-abd4-3aebda8793d5  conf: 0\n",
            "label 1  filename : 77762e93-073c-405f-bca5-0f1fd339bf4c  conf: 0.6463646\n",
            "label 1  filename : 776b44fa-43e6-4f7b-87fb-7ae97763085f  conf: 0.60156214\n",
            "label 0  filename : 7775a58e-7c9c-4d37-af27-04cace17b18b  conf: 0.55363697\n",
            "label 1  filename : 777696af-08cf-4f9b-a8be-b9dc685bfa44  conf: 0.7195681\n",
            "label 1  filename : 777a8a88-5c76-4de9-96fa-7cdd9149e59e  conf: 0.5397536\n",
            "label 1  filename : 77823cf2-2603-4db9-9c50-ec8ae13674e3  conf: 0.65667564\n",
            "label 0  filename : 7779a9c7-9483-4a8b-9c24-f6dfe787cfc4  conf: 0\n",
            "label 0  filename : 7785f354-daf2-4b82-b90f-2b94b9e7dc64  conf: 0\n",
            "label 0  filename : 7788be77-bf04-42aa-80cd-5be6f492c469  conf: 0\n",
            "label 1  filename : 778cae69-d2ce-4217-be96-e2dcc699969c  conf: 0.7252429\n",
            "label 0  filename : 778e8678-e707-4c48-9c7f-ad4efbe48035  conf: 0\n",
            "label 0  filename : 77930e57-af33-462a-be75-35bcfadd8127  conf: 0\n",
            "label 1  filename : 7798d157-4dbf-402c-8b93-d3b97cb29d64  conf: 0.520924\n",
            "label 0  filename : 779e0af8-53e5-4f43-818b-6d0bf9e1b9a5  conf: 0.7930484\n",
            "label 0  filename : 77a440b1-dcf5-4703-9451-de9a073c8453  conf: 0\n",
            "label 1  filename : 77a4a76f-d348-4dd4-b22a-d7b676121d78  conf: 0.5046086\n",
            "label 1  filename : 77a50626-2a5d-44a8-8013-af001549b769  conf: 0\n",
            "label 1  filename : 77b4e9ec-9002-444f-b3a5-9e5ab9dacaa5  conf: 0\n",
            "label 1  filename : 77b4b295-c277-42a7-b210-b236ea42274e  conf: 0.6698089\n",
            "label 0  filename : 77a63356-c61d-4912-8cfc-9eddb705c46d  conf: 0\n",
            "label 0  filename : 77aead0b-3112-411b-ac8b-71b9b8fad3ee  conf: 0\n",
            "label 1  filename : 77bcb2f3-2dfb-4ed7-b88a-b21ad2c87df3  conf: 0.7248978\n",
            "label 1  filename : 77c10182-8222-4824-aa46-9afec3d539ca  conf: 0.59393\n",
            "label 0  filename : 77c162cc-c628-4a88-8471-bffb87891442  conf: 0\n",
            "label 0  filename : 77c2e795-4c2a-4daf-b288-f24fac8a3758  conf: 0\n",
            "label 0  filename : 77c828fb-8cf7-4953-a964-6a566f3d07ec  conf: 0\n",
            "label 1  filename : 77c809fd-1fb7-4dae-a0e6-33408425eb92  conf: 0\n",
            "label 0  filename : 77d84839-722c-4b89-aac7-2337214b7a4a  conf: 0.59150124\n",
            "label 1  filename : 77d82c92-f380-4e26-b39d-b43d5c814833  conf: 0.54777604\n",
            "label 0  filename : 77db5083-8f5d-40d3-af29-722ddadc0638  conf: 0\n",
            "label 1  filename : 77dc3ec3-a29e-4733-99fc-80b51a76e833  conf: 0\n",
            "label 0  filename : 77e1b5a3-13cd-4b97-abbb-67d3cf5f80f8  conf: 0\n",
            "label 1  filename : 77e3cf70-b78a-42fe-bd17-0ed96618d6b4  conf: 0\n",
            "label 0  filename : 77e8309e-09c6-44cb-846a-4822c9a465bc  conf: 0.5801798\n",
            "label 1  filename : 77e922f5-6c41-4885-9e1a-f5e50c24d2ca  conf: 0\n",
            "label 1  filename : 77f96630-7a12-423e-a4e5-a5c5db11fd8f  conf: 0.831132\n",
            "label 0  filename : 77f3d56c-41cb-4090-ac03-30d4f857a27c  conf: 0\n",
            "label 1  filename : 7802c9a7-66c9-45a2-9005-ba61a5ea588a  conf: 0.5018527\n",
            "label 0  filename : 78043d25-8992-46b6-b846-ffbfafbe6b6a  conf: 0\n",
            "label 1  filename : 78053750-8aa7-4755-a364-037d71a65426  conf: 0.7527028\n",
            "label 1  filename : 780579a3-2dcc-4343-9c92-de8be54e2865  conf: 0.75855947\n",
            "label 0  filename : 780b0f92-0dcd-4506-80c2-b48e5f30155b  conf: 0.50917464\n",
            "label 1  filename : 7817b551-d220-479b-815f-395f83e1dba1  conf: 0.65874135\n",
            "label 0  filename : 7812e0b0-c149-4bd3-a957-a78848024780  conf: 0\n",
            "label 0  filename : 781c920e-e6fa-409a-9e97-ac57fcaad24f  conf: 0\n",
            "label 0  filename : 782101a4-b13d-4fed-9820-08374c8b896b  conf: 0.55043054\n",
            "label 1  filename : 78221b16-5fd9-4a99-a966-56b693c2e5d7  conf: 0.77596486\n",
            "label 0  filename : 782683e0-8c59-4a8f-b78f-330aa73ba2e5  conf: 0\n",
            "label 1  filename : 7828ad2d-6180-4903-aee4-e63fe42e63dc  conf: 0.69967675\n",
            "label 1  filename : 78228039-bc86-44ce-8a13-57cf49ccf493  conf: 0.7527645\n",
            "label 1  filename : 783cc3b7-1d84-45f8-b42d-96ceb9fc7e43  conf: 0.78986686\n",
            "label 1  filename : 7834a7b0-6064-4f9c-bf5c-a526393af472  conf: 0.63816285\n",
            "label 0  filename : 783b962a-bda1-4354-87f1-778d60eada16  conf: 0\n",
            "label 0  filename : 783e19f4-a96c-4971-8ed4-9868bedf5378  conf: 0\n",
            "label 0  filename : 78440075-3cf6-4504-8c4d-e4987839a192  conf: 0\n",
            "label 1  filename : 784937c8-08f4-4c04-a2fe-b4dde8643154  conf: 0.74390155\n",
            "label 0  filename : 78496732-e040-447e-b51c-34f632a24048  conf: 0\n",
            "label 1  filename : 784aa072-7400-4f08-869c-7d47230d198d  conf: 0.54965526\n",
            "label 1  filename : 784a3ed0-2565-430f-819f-f713e1775344  conf: 0.5158532\n",
            "label 0  filename : 785beb65-509a-4bcc-9130-5548af4fef1e  conf: 0\n",
            "label 1  filename : 7860706e-b07d-4c69-b17c-03ca4f8e8a95  conf: 0\n",
            "label 0  filename : 78620ea2-436e-4355-8e61-3500f3d8ab70  conf: 0\n",
            "label 0  filename : 78611349-7920-46be-ade4-132a914cfd27  conf: 0\n",
            "label 0  filename : 78667635-bb1e-4e03-b3cd-d181422c558b  conf: 0\n",
            "label 1  filename : 78647486-de44-4da8-8401-8fd8f3316250  conf: 0.691659\n",
            "label 0  filename : 786b24ef-aeb1-42a6-a606-bae80423f811  conf: 0.6475906\n",
            "label 0  filename : 78723da2-eb6f-4800-9ee7-dd2ddd41820f  conf: 0\n",
            "label 0  filename : 78738b9c-e47f-4ad9-9941-28ba1d9756d2  conf: 0\n",
            "label 0  filename : 78773a50-1513-4336-af38-fd93b12ddd57  conf: 0\n",
            "label 0  filename : 787f895a-5912-430a-bcd2-79d2b6941295  conf: 0\n",
            "label 1  filename : 787fe62b-0e2b-481a-b1f3-2a3f754ba7dd  conf: 0.815345\n",
            "label 0  filename : 78827877-9d4c-4d06-979f-f40ca2001337  conf: 0.49335504\n",
            "label 1  filename : 78815820-d7fd-4763-b69d-7bad8475e7ed  conf: 0\n",
            "label 1  filename : 78834a4d-5eae-48bb-a7c2-77c17d3f2ab5  conf: 0.49636927\n",
            "label 0  filename : 78870347-e675-472d-bf7b-6be2fcecd401  conf: 0\n",
            "label 1  filename : 78886571-4987-4ea8-aabd-67e3ccb483bf  conf: 0.5410859\n",
            "label 0  filename : 788cbb61-6cd8-48b0-9078-a81ab73f80b7  conf: 0\n",
            "label 1  filename : 788e8f37-4c9c-42a3-a731-a4d7a6865cea  conf: 0.5015853\n",
            "label 0  filename : 788f75d0-c8a6-4d12-b0f0-2d9335336b0e  conf: 0.6474541\n",
            "label 1  filename : 7892e538-8c5e-4521-a550-4a88f399bf63  conf: 0.55646205\n",
            "label 1  filename : 7894c061-9fc1-4226-83b9-4f22483a02b1  conf: 0.6758714\n",
            "label 1  filename : 7896b8d7-ca85-4cda-9246-9d7baeb3d487  conf: 0.80043924\n",
            "label 0  filename : 7895bf3c-db0a-4b9e-92e3-67c95cd9452f  conf: 0\n",
            "label 0  filename : 789c56a1-8303-4b8f-bb20-6d9dc02b616c  conf: 0\n",
            "label 1  filename : 789e8a7a-2ded-466f-8d50-17e8bc955978  conf: 0\n",
            "label 0  filename : 789f5671-63be-4b3d-b816-2a2fd8943557  conf: 0\n",
            "label 0  filename : 78a16aec-fc22-4ca6-8901-3bbf97652c07  conf: 0\n",
            "label 1  filename : 78a396fd-20af-4384-acdd-c9a6ddb8c1ad  conf: 0.62981004\n",
            "label 1  filename : 78abc3f5-ac62-4e42-a6b4-1c44e09cb566  conf: 0.62820596\n",
            "label 0  filename : 78a76d69-dd21-4743-948f-75ecc275642f  conf: 0\n",
            "label 0  filename : 78b2898a-1bc4-4633-9825-6314abe9d251  conf: 0\n",
            "label 0  filename : 78b1aa25-d59c-40ec-b3e8-70bb4da045a6  conf: 0\n",
            "label 1  filename : 78b4b710-15b7-4ea3-b761-c2371594cbf1  conf: 0\n",
            "label 1  filename : 78b8f6bc-96ba-4528-b6b7-39d1a140ce07  conf: 0.54208595\n",
            "label 0  filename : 78b966bb-92af-4ecd-a89c-2d4b80ab8b14  conf: 0.62375516\n",
            "label 0  filename : 78c168ee-5f6e-4219-951e-ce11ad0a0479  conf: 0\n",
            "label 1  filename : 78c33a1a-8f22-476c-ae97-8190192102df  conf: 0.6507807\n",
            "label 1  filename : 78c6e09e-25c0-45b0-974e-e314d2bdd4ec  conf: 0\n",
            "label 0  filename : 78bc172c-580b-4e1b-8b0c-fb185f0a631b  conf: 0\n",
            "label 0  filename : 78c7895d-8060-451b-b788-e695ec800bae  conf: 0.7737672\n",
            "label 1  filename : 78c9b88e-a134-4470-b161-22e4a698206c  conf: 0.81075907\n",
            "label 0  filename : 78ca0700-6842-4ffe-88b2-47c67fc0a7c9  conf: 0\n",
            "label 1  filename : 78ce6b9a-db15-4576-8e8b-4c52650a457f  conf: 0.64690244\n",
            "label 1  filename : 78cc9897-ddd1-4e87-8ce4-c05192891e76  conf: 0.6824969\n",
            "label 0  filename : 78d2518f-eeb8-4234-ab5a-6f41e02b5692  conf: 0\n",
            "label 0  filename : 78d79ceb-c48c-4165-9e47-0dfae19e8639  conf: 0\n",
            "label 1  filename : 78dba4d7-e138-4d40-b6a5-ac2d8c65dcf5  conf: 0.6189586\n",
            "label 0  filename : 78dd1441-96df-401f-92b1-4e36067330a9  conf: 0\n",
            "label 1  filename : 78dde3fa-b019-4cc6-aa77-2a2935675890  conf: 0.6055848\n",
            "label 0  filename : 78de87af-368f-4821-985b-c21d83392e5f  conf: 0\n",
            "label 0  filename : 78e07bf7-ade3-4e95-9789-ca28f424b0e1  conf: 0.7977123\n",
            "label 0  filename : 78e4c1ad-8adf-4620-acac-7675c7da1ee8  conf: 0\n",
            "label 0  filename : 78e64e55-99c4-4b43-8695-355ddd50bfef  conf: 0\n",
            "label 0  filename : 78eb4dfc-1928-47a8-826c-ef3861c88b54  conf: 0.5091617\n",
            "label 0  filename : 78ee7ed7-56ca-4fe5-8dad-2a04e9a5d1c6  conf: 0\n",
            "label 0  filename : 78f9c14b-340d-41d1-9166-f6e9b1836255  conf: 0\n",
            "label 0  filename : 78fbc1ca-cbae-4b4e-926c-cd94acbfe1dc  conf: 0\n",
            "label 0  filename : 78fe9142-9b8a-4200-9b2d-129a4e30e7ec  conf: 0\n",
            "label 0  filename : 79010956-1b3a-407f-94e5-33194d77b61e  conf: 0\n",
            "label 0  filename : 7902a47d-8a23-4f7e-9089-1b851091bb07  conf: 0\n",
            "label 0  filename : 79168e4a-a98b-4c27-affc-0fade7c2aed6  conf: 0\n",
            "label 0  filename : 7908d3ae-c10c-4bc1-a256-42a6b16e90d0  conf: 0\n",
            "label 0  filename : 79197c53-7622-48f4-a3ae-916be7696c0a  conf: 0\n",
            "label 0  filename : 7926adbf-0b36-45c4-8d4f-a8e5159ae5bb  conf: 0\n",
            "label 1  filename : 791e72c5-ecb4-43bc-aeda-7756af052534  conf: 0.72654444\n",
            "label 1  filename : 79255e97-c107-47ee-918c-6eba3081f3bc  conf: 0.6139279\n",
            "label 1  filename : 79319bc4-8e67-469b-8b9c-5ddfb2444749  conf: 0.69625306\n",
            "label 1  filename : 79310bce-abe6-4e7d-a285-2601cfeeca5e  conf: 0.57049036\n",
            "label 0  filename : 793398eb-4926-4d1a-ab6d-8bdb0ac15a2e  conf: 0\n",
            "label 1  filename : 793099eb-6d36-4551-ac5a-9862d07ee199  conf: 0.6437298\n",
            "label 1  filename : 7934f518-dbaa-4201-922b-1bc93a245e84  conf: 0.6282001\n",
            "label 1  filename : 79398af7-b117-4371-b174-9a7644c12e06  conf: 0.8078065\n",
            "label 0  filename : 793903d1-6562-49e8-8db5-db0a53b0ebd0  conf: 0\n",
            "label 1  filename : 79397fb3-fbe9-4b1d-baec-a934f2825e25  conf: 0.5192608\n",
            "label 1  filename : 793a56ab-71fd-4bce-b9fe-d25c63d93459  conf: 0\n",
            "label 0  filename : 793afb6f-89d5-4148-8342-819c2e559a82  conf: 0\n",
            "label 1  filename : 793b04cc-60bb-4413-a2a7-36c7c56ac05c  conf: 0.6414536\n",
            "label 1  filename : 793c8547-aa10-4a67-88eb-0318ff9a6541  conf: 0.7255205\n",
            "label 1  filename : 7944ddb2-ca88-4e4f-8311-65aa85ee58bd  conf: 0.63848317\n",
            "label 1  filename : 794c2473-8e8e-4f2b-989a-7148d0737c95  conf: 0\n",
            "label 0  filename : 7951d339-63c7-4eab-8720-6a50f60a0e38  conf: 0\n",
            "label 0  filename : 79538a58-d49c-4120-8e5e-3553fe1b1134  conf: 0\n",
            "label 0  filename : 7967a41d-a36a-4bdb-8436-323aae1f4054  conf: 0\n",
            "label 0  filename : 796c0726-bde4-4ff2-aa00-11587b3a8a0c  conf: 0\n",
            "label 1  filename : 796c9a6a-2ea4-4361-93ec-bfa894d4033e  conf: 0.690714\n",
            "label 0  filename : 79702301-1ccc-4a54-829d-547a3af5e85a  conf: 0\n",
            "label 1  filename : 79719bdf-3066-42d3-8496-6a12e12d2523  conf: 0.62945795\n",
            "label 1  filename : 7970b714-abe9-44e3-a10a-223c15f24753  conf: 0.72437507\n",
            "label 1  filename : 7971ccf5-18a3-47d3-a2ea-eea88033404e  conf: 0\n",
            "label 0  filename : 797af009-811d-4dab-b08a-9295ee8b1f61  conf: 0\n",
            "label 0  filename : 797862ed-42ca-4265-ad43-b2d04361700e  conf: 0\n",
            "label 0  filename : 797be476-00ad-42b5-a860-9769d10aa1f4  conf: 0.53446954\n",
            "label 1  filename : 7981f347-5149-4b0b-a73a-e1b833904b60  conf: 0.60263455\n",
            "label 0  filename : 7981fc95-1551-4867-8681-2f2d8afc07d8  conf: 0\n",
            "label 1  filename : 797eafe0-2b9a-463f-ab2f-446fc39384e1  conf: 0.5195084\n",
            "label 1  filename : 79858395-3452-426d-bb99-e01af7961b44  conf: 0.6730893\n",
            "label 0  filename : 7985ea01-edde-47ff-a770-bdca2c3fad98  conf: 0\n",
            "label 0  filename : 798c347d-916a-45a6-8526-73f5b0552de6  conf: 0\n",
            "label 0  filename : 798e2ee1-113e-4c59-b445-c5e33bc1cd92  conf: 0\n",
            "label 0  filename : 798f3843-7acf-4f6e-84a5-dee0652be5f7  conf: 0\n",
            "label 1  filename : 79956cb1-e48b-4b95-92f0-c4f41a6bd1f5  conf: 0\n",
            "label 0  filename : 7996a166-20a2-4794-bac2-02f2cdacfc05  conf: 0\n",
            "label 1  filename : 7999e55b-1fac-4460-b340-2a3003772cf5  conf: 0.6614504\n",
            "label 0  filename : 799c5159-a2fb-4e25-8f90-13d3e1c66354  conf: 0\n",
            "label 0  filename : 799f9a2a-9f6a-4a84-b1e4-e0e6119122bf  conf: 0\n",
            "label 0  filename : 79a9b7e9-e836-49b8-9959-025907fe10bb  conf: 0.556978\n",
            "label 0  filename : 79ae041d-6f41-47b0-b82e-02e78f7896c0  conf: 0.66373193\n",
            "label 0  filename : 79b326b7-f189-49c4-92fb-25029d74b937  conf: 0\n",
            "label 0  filename : 79bc46d2-f00e-4a68-b8ff-96d3625e3176  conf: 0\n",
            "label 1  filename : 79bb5ea3-ca6c-4d75-a379-a6ee6c6da659  conf: 0.6194606\n",
            "label 1  filename : 79c5d2b3-0df0-4d85-b0f1-7936545c8c54  conf: 0.6885492\n",
            "label 0  filename : 79c37699-463f-40d0-aff9-6aa5bd6fca24  conf: 0.5371858\n",
            "label 0  filename : 79cb4053-b062-4be9-8922-9585b170d8fc  conf: 0\n",
            "label 0  filename : 79d2fd30-abad-4848-b9d6-bb30d9269341  conf: 0\n",
            "label 0  filename : 79ca26e4-70f2-409b-986b-91cdb44daff5  conf: 0\n",
            "label 0  filename : 79d6e398-6ee6-4c5a-b924-a082d3c1cce9  conf: 0\n",
            "label 0  filename : 79dc4c47-886a-46dd-95bf-41dd80c072a6  conf: 0.55068773\n",
            "label 0  filename : 79dedd38-4d3e-4787-9afa-708797b1592d  conf: 0\n",
            "label 1  filename : 79df0c01-2397-4d31-8318-435a1c80ae47  conf: 0.6531906\n",
            "label 0  filename : 79e2b56b-f9b4-4bc8-8c7e-82d1a7cefb26  conf: 0\n",
            "label 1  filename : 79f1d59a-1bac-436d-91bc-a4c40c141d5f  conf: 0.6959108\n",
            "label 0  filename : 79e60655-54ba-4b32-89e4-a85551401d33  conf: 0\n",
            "label 0  filename : 79f03dba-1c8f-4993-8065-8664494051ed  conf: 0.58108723\n",
            "label 1  filename : 79e66b5d-e740-4fea-b9be-8cb2c75fd375  conf: 0.66394246\n",
            "label 0  filename : 79f76e04-510e-463d-a3d5-9585cbb249ff  conf: 0\n",
            "label 1  filename : 79f29a4d-fa0a-4977-abae-346d8ee33aa9  conf: 0.51277834\n",
            "label 0  filename : 79f85434-48b2-4910-b861-bdd0e3f7d042  conf: 0\n",
            "label 1  filename : 7a0105da-41e6-4500-8626-fb6e8f0dac5a  conf: 0.7201393\n",
            "label 1  filename : 79fdfa10-9752-4ab8-a1ca-7f33037dd5aa  conf: 0.6328468\n",
            "label 0  filename : 79ffd214-6464-406a-a78b-5aaa8cc1fe7e  conf: 0\n",
            "label 0  filename : 7a04fb3c-2357-4bbd-832f-a843e380336c  conf: 0\n",
            "label 0  filename : 7a0ad288-8774-4fd5-84aa-3593f910d25f  conf: 0.50157404\n",
            "label 0  filename : 7a10efd9-178c-485c-b1e3-605298a5bc76  conf: 0\n",
            "label 0  filename : 7a16cadf-741d-4a3d-8fd7-1e6322809363  conf: 0.7629978\n",
            "label 1  filename : 7a1e02f8-4965-4364-918b-83d3422f931b  conf: 0.5415736\n",
            "label 0  filename : 7a1faa41-252e-44d2-b019-63ebc8dd4ee2  conf: 0\n",
            "label 0  filename : 7a316a31-7375-4832-b4ac-061dc1af232a  conf: 0\n",
            "label 1  filename : 7a32a64b-a415-4585-a110-981b913ac959  conf: 0\n",
            "label 0  filename : 7a39e982-e5f1-402c-b9a8-b9ee5f43fb8c  conf: 0\n",
            "label 0  filename : 7a3c6629-9290-4e24-84b2-fd2f8cba17e3  conf: 0\n",
            "label 0  filename : 7a3db305-5f91-48d8-8b2b-d53022c828dc  conf: 0.5654247\n",
            "label 1  filename : 7a477b7b-f2d2-40ac-a20d-661887491d6b  conf: 0\n",
            "label 0  filename : 7a465d9d-db7f-43a5-9b93-23f1bb6570a2  conf: 0\n",
            "label 0  filename : 7a4a9089-6491-438c-a864-76d6a8654cd0  conf: 0.60782695\n",
            "label 1  filename : 7a530f4d-13af-4e4e-bf2e-080c7fb27ffb  conf: 0.71247816\n",
            "label 0  filename : 7a543f64-6596-4944-ae8a-d21cc0644823  conf: 0\n",
            "label 0  filename : 7a4e441c-4497-47af-ade0-396d45782e03  conf: 0\n",
            "label 0  filename : 7a5af47d-4b4a-446c-8b75-13126304095c  conf: 0\n",
            "label 1  filename : 7a58d08a-565b-4abb-a328-cb8b83391415  conf: 0.50207514\n",
            "label 1  filename : 7a5c7e58-8094-4ce4-94fa-e5e3e2fce6ab  conf: 0.5745879\n",
            "label 0  filename : 7a640a2e-198f-4dad-8121-4cbe16825360  conf: 0\n",
            "label 0  filename : 7a5cdc7a-bcde-42bb-b2d9-02b9b0c740c7  conf: 0\n",
            "label 0  filename : 7a68a464-daf2-4942-a1e5-80c6c26ab898  conf: 0\n",
            "label 0  filename : 7a713bb9-19f5-42ba-81cf-b4905a00ebb1  conf: 0\n",
            "label 0  filename : 7a6b03a2-68f3-4c26-9e8d-c2208505b352  conf: 0\n",
            "label 0  filename : 7a7271a1-026f-41c6-8e42-6b0db55a4478  conf: 0\n",
            "label 0  filename : 7a7716ff-036d-4796-af37-45051417af43  conf: 0.67595035\n",
            "label 0  filename : 7a778501-8cae-4471-a4e4-fd9afd50d154  conf: 0.6722305\n",
            "label 0  filename : 7a861a10-950e-451e-8704-36881b90a51b  conf: 0\n",
            "label 1  filename : 7a881e37-b18a-43ce-b98f-29c479dbfcc9  conf: 0.7187088\n",
            "label 0  filename : 7a8b5f52-48f9-49a4-b55b-682938f94608  conf: 0\n",
            "label 0  filename : 7a8d5297-913a-4306-8e8e-3b8f413bf3d4  conf: 0.76661634\n",
            "label 1  filename : 7a8dd22c-7af7-428c-a043-578390fc6fa1  conf: 0.6060331\n",
            "label 0  filename : 7a9147e6-2271-4a2b-b996-dd99237b71e7  conf: 0.5793205\n",
            "label 0  filename : 7aa4a98a-abff-4b58-b20a-a2c43e5e8379  conf: 0\n",
            "label 0  filename : 7aa7dec8-c86e-4d49-bff8-cd257930ca69  conf: 0\n",
            "label 1  filename : 7aa7ec60-510d-4ed9-94cf-da1fa6f1f2e5  conf: 0\n",
            "label 1  filename : 7aaba35a-c23c-4cac-918e-5b94bec6b827  conf: 0.6926242\n",
            "label 0  filename : 7aaeebb4-d2c9-4091-9f4d-c3aceb591d5f  conf: 0.55041915\n",
            "label 1  filename : 7ac15ebd-be55-4c7a-9035-34645d0cc1fd  conf: 0.52062446\n",
            "label 0  filename : 7aca2dfc-2ab6-4bc2-aaa4-3e4cba6d95e5  conf: 0.49999452\n",
            "label 0  filename : 7aba3bda-2d60-4d76-ad43-074c445fb2a9  conf: 0.6853149\n",
            "Done predicting...\n"
          ],
          "name": "stdout"
        }
      ]
    },
    {
      "cell_type": "code",
      "metadata": {
        "id": "Xd-SOky_YFFb",
        "colab_type": "code",
        "colab": {
          "base_uri": "https://localhost:8080/",
          "height": 88
        },
        "outputId": "a8cf80b6-a16a-4c75-fa13-5ad96d555770"
      },
      "source": [
        "print ('True Positive : ', true_positive)\n",
        "print ('True Negative : ', true_negative)\n",
        "print ('False Positive : ', false_positive)\n",
        "print ('False Negative : ', false_negative)"
      ],
      "execution_count": null,
      "outputs": [
        {
          "output_type": "stream",
          "text": [
            "True Positive :  140\n",
            "True Negative :  259\n",
            "False Positive :  67\n",
            "False Negative :  34\n"
          ],
          "name": "stdout"
        }
      ]
    },
    {
      "cell_type": "markdown",
      "metadata": {
        "id": "AtMW1Q8jNLpe",
        "colab_type": "text"
      },
      "source": [
        "The above code reveals the confusion matrix. It is seen that the predictions have good accuracy. \n"
      ]
    },
    {
      "cell_type": "code",
      "metadata": {
        "id": "A9Qbzbq-YIDu",
        "colab_type": "code",
        "colab": {}
      },
      "source": [
        "precision = true_positive / ( true_positive + false_positive)\n",
        "recall = true_positive / (true_positive + false_negative )\n",
        "accuracy = ( true_positive + true_negative)/ (true_positive + true_negative + false_positive + false_negative)"
      ],
      "execution_count": null,
      "outputs": []
    },
    {
      "cell_type": "code",
      "metadata": {
        "id": "cYwV5oMlYKes",
        "colab_type": "code",
        "colab": {
          "base_uri": "https://localhost:8080/",
          "height": 68
        },
        "outputId": "2032ccfd-3a88-4449-f576-922464b8a537"
      },
      "source": [
        "print ('precision :' , precision)\n",
        "print ('recall :', recall)\n",
        "print ('accuracy :', accuracy)"
      ],
      "execution_count": null,
      "outputs": [
        {
          "output_type": "stream",
          "text": [
            "precision : 0.7990867579908676\n",
            "recall : 0.6782945736434108\n",
            "accuracy : 0.746\n"
          ],
          "name": "stdout"
        }
      ]
    },
    {
      "cell_type": "markdown",
      "metadata": {
        "id": "DQRc0jAQN7Du",
        "colab_type": "text"
      },
      "source": [
        "Overall accuracy of the model is at 74.6%. A host hyperparameter combinations has been tried while the model yield higher precision and recall for this combination only.\n",
        "\n",
        "The model predicts pneumonia with a 0.799 precision making it reliable than a radiologist with 0.67. (Validated by other researchers)\n",
        "\n",
        "However, the misclassifcation metric of recall is less than 70%.\n",
        "\n",
        "\n"
      ]
    },
    {
      "cell_type": "code",
      "metadata": {
        "id": "pz2kzv6fYKhr",
        "colab_type": "code",
        "colab": {
          "base_uri": "https://localhost:8080/",
          "height": 287
        },
        "outputId": "36b59427-4ad0-447f-8cf4-ed6c615eb0f7"
      },
      "source": [
        "#metadata = pydicom.read_file(images_path+'/'+'737030d6-07d1-43de-9e11-82b31accd240.dcm')\n",
        "metadata = pydicom.read_file(images_path+'/'+'7507bb99-a8cf-48c8-a4dd-859ad26e9e1a.dcm')\n",
        "sample_image = metadata.pixel_array\n",
        "sample_image.shape\n",
        "plt.imshow(sample_image)"
      ],
      "execution_count": null,
      "outputs": [
        {
          "output_type": "execute_result",
          "data": {
            "text/plain": [
              "<matplotlib.image.AxesImage at 0x7f6da232f048>"
            ]
          },
          "metadata": {
            "tags": []
          },
          "execution_count": 48
        },
        {
          "output_type": "display_data",
          "data": {
            "image/png": "[encoded data removed]",
            "text/plain": [
              "<Figure size 432x288 with 1 Axes>"
            ]
          },
          "metadata": {
            "tags": [],
            "needs_background": "light"
          }
        }
      ]
    },
    {
      "cell_type": "code",
      "metadata": {
        "id": "Qj7PP6LO1Ft5",
        "colab_type": "code",
        "colab": {}
      },
      "source": [
        "bbox = pneumonia_coordinates['7507bb99-a8cf-48c8-a4dd-859ad26e9e1a.dcm']"
      ],
      "execution_count": null,
      "outputs": []
    },
    {
      "cell_type": "code",
      "metadata": {
        "id": "yGTBbmkJYKk-",
        "colab_type": "code",
        "colab": {
          "base_uri": "https://localhost:8080/",
          "height": 35
        },
        "outputId": "1a59ed16-3e57-44dc-beb4-2e78bea31bbc"
      },
      "source": [
        "sample_image = resize(sample_image, (256, 256), mode='reflect')\n",
        "#msk = resize(msk, (self.image_size, self.image_size), mode='reflect') > 0.5\n",
        "# add trailing channel dimension\n",
        "#sample_image = np.expand_dims(sample_image, -1)\n",
        "\n",
        "\n",
        "sample_image.shape"
      ],
      "execution_count": null,
      "outputs": [
        {
          "output_type": "execute_result",
          "data": {
            "text/plain": [
              "(256, 256)"
            ]
          },
          "metadata": {
            "tags": []
          },
          "execution_count": 50
        }
      ]
    },
    {
      "cell_type": "code",
      "metadata": {
        "id": "5rbU-64HYKoB",
        "colab_type": "code",
        "colab": {}
      },
      "source": [
        "test_data = []\n",
        "test_data.append(sample_image)"
      ],
      "execution_count": null,
      "outputs": []
    },
    {
      "cell_type": "code",
      "metadata": {
        "id": "mm04pwBPywPQ",
        "colab_type": "code",
        "colab": {
          "base_uri": "https://localhost:8080/",
          "height": 35
        },
        "outputId": "d424ed8e-46bd-488f-c742-781297d53577"
      },
      "source": [
        "test_data = np.array(test_data)\n",
        "test_data[0].shape"
      ],
      "execution_count": null,
      "outputs": [
        {
          "output_type": "execute_result",
          "data": {
            "text/plain": [
              "(256, 256)"
            ]
          },
          "metadata": {
            "tags": []
          },
          "execution_count": 52
        }
      ]
    },
    {
      "cell_type": "code",
      "metadata": {
        "id": "J34v2snPyz_5",
        "colab_type": "code",
        "colab": {
          "base_uri": "https://localhost:8080/",
          "height": 287
        },
        "outputId": "a39757b2-309a-4d25-a36c-30067d9c30af"
      },
      "source": [
        "y_predict = model_CNN.predict(test_data)\n",
        "\n",
        "mask_predict = np.squeeze(y_predict[0])\n",
        "msk_resize = resize(mask_predict, (1024, 1024))\n",
        "plt.imshow(msk_resize)"
      ],
      "execution_count": null,
      "outputs": [
        {
          "output_type": "execute_result",
          "data": {
            "text/plain": [
              "<matplotlib.image.AxesImage at 0x7f6da1ac6860>"
            ]
          },
          "metadata": {
            "tags": []
          },
          "execution_count": 53
        },
        {
          "output_type": "display_data",
          "data": {
            "image/png": "[encoded data removed]",
            "text/plain": [
              "<Figure size 432x288 with 1 Axes>"
            ]
          },
          "metadata": {
            "tags": [],
            "needs_background": "light"
          }
        }
      ]
    },
    {
      "cell_type": "code",
      "metadata": {
        "id": "Z-89AReay3MT",
        "colab_type": "code",
        "colab": {}
      },
      "source": [
        "%matplotlib inline\n",
        "import d2l as d2l\n",
        "from mxnet import image, npx\n",
        "\n",
        "npx.set_np()"
      ],
      "execution_count": null,
      "outputs": []
    },
    {
      "cell_type": "code",
      "metadata": {
        "id": "LUguRrtfy-30",
        "colab_type": "code",
        "colab": {}
      },
      "source": [
        "d2l.set_figsize((3.5, 2.5))\n",
        "# img = image.imread('../img/catdog.jpg').asnumpy()"
      ],
      "execution_count": null,
      "outputs": []
    },
    {
      "cell_type": "code",
      "metadata": {
        "id": "wenp9WMlzCJE",
        "colab_type": "code",
        "colab": {}
      },
      "source": [
        "#bbox = pneumonia_coordinates['1be56c93-6607-4b08-b73a-dfe4ca81f7b1.dcm']\n",
        "bbox2 = pneumonia_locations['7507bb99-a8cf-48c8-a4dd-859ad26e9e1a']"
      ],
      "execution_count": null,
      "outputs": []
    },
    {
      "cell_type": "code",
      "metadata": {
        "id": "E9nRVTL4zFap",
        "colab_type": "code",
        "colab": {
          "base_uri": "https://localhost:8080/",
          "height": 35
        },
        "outputId": "16ff8772-a167-4d34-81c9-2a32619504c3"
      },
      "source": [
        "\n",
        "print('bbox 1 length : ' ,len(bbox),' bbox2 length : ', len(bbox2))\n"
      ],
      "execution_count": null,
      "outputs": [
        {
          "output_type": "stream",
          "text": [
            "bbox 1 length :  2  bbox2 length :  2\n"
          ],
          "name": "stdout"
        }
      ]
    },
    {
      "cell_type": "code",
      "metadata": {
        "id": "NovaNShXzWwh",
        "colab_type": "code",
        "colab": {}
      },
      "source": [
        "def bbox_to_rect(bbox, color):\n",
        "    \"\"\"Convert bounding box to matplotlib format.\"\"\"\n",
        "    # Convert the bounding box (top-left x, top-left y, bottom-right x,\n",
        "    # bottom-right y) format to matplotlib format: ((upper-left x,\n",
        "    # upper-left y), width, height)\n",
        "    return d2l.plt.Rectangle(\n",
        "        xy=(bbox[0], bbox[1]), width=bbox[2], height=bbox[3],\n",
        "        fill=False, edgecolor=color, linewidth=2)"
      ],
      "execution_count": null,
      "outputs": []
    },
    {
      "cell_type": "code",
      "metadata": {
        "id": "-uZ7pZB02Xcv",
        "colab_type": "code",
        "colab": {
          "base_uri": "https://localhost:8080/",
          "height": 248
        },
        "outputId": "eea00655-b6bc-4627-f3a0-bf71fbfbd725"
      },
      "source": [
        "fig = d2l.plt.imshow(msk_resize)\n",
        "\n",
        "for i in range(len(bbox)):\n",
        " fig.axes.add_patch(bbox_to_rect(bbox[i], 'red'))\n",
        "for k in range(len(bbox2)):\n",
        " fig.axes.add_patch(bbox_to_rect(bbox2[k], 'blue'))\n",
        "\n",
        "d2l.plt.imshow(msk_resize);"
      ],
      "execution_count": null,
      "outputs": [
        {
          "output_type": "display_data",
          "data": {
            "text/plain": [
              "<Figure size 252x180 with 1 Axes>"
            ],
            "image/svg+xml": "<?xml version=\"1.0\" encoding=\"utf-8\" standalone=\"no\"?>\n<!DOCTYPE svg PUBLIC \"-//W3C//DTD SVG 1.1//EN\"\n  \"http://www.w3.org/Graphics/SVG/1.1/DTD/svg11.dtd\">\n<!-- Created with matplotlib (https://matplotlib.org/) -->\n<svg height=\"170.710986pt\" version=\"1.1\" viewBox=\"0 0 192.356201 170.710986\" width=\"192.356201pt\" xmlns=\"http://www.w3.org/2000/svg\" xmlns:xlink=\"http://www.w3.org/1999/xlink\">\n <defs>\n  <style type=\"text/css\">\n*{stroke-linecap:butt;stroke-linejoin:round;}\n  </style>\n </defs>\n <g id=\"figure_1\">\n  <g id=\"patch_1\">\n   <path d=\"M 0 170.710986 \nL 192.356201 170.710986 \nL 192.356201 0 \nL 0 0 \nz\n\" style=\"fill:none;\"/>\n  </g>\n  <g id=\"axes_1\">\n   <g id=\"patch_2\">\n    <path d=\"M 39.65 146.832861 \nL 175.55 146.832861 \nL 175.55 10.932861 \nL 39.65 10.932861 \nz\n\" style=\"fill:#ffffff;\"/>\n   </g>\n   <g clip-path=\"url(#pc7884e36a5)\">\n    <image height=\"136\" id=\"image195b6b3a13\" transform=\"scale(1 -1)translate(0 -136)\" width=\"136\" x=\"40\" xlink:href=\"data:image/png;base64,\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\" y=\"-10.710986\"/>\n   </g>\n   <g id=\"patch_3\">\n    <path clip-path=\"url(#pc7884e36a5)\" d=\"M 65.064893 49.353809 \nL 95.191162 49.353809 \nL 95.191162 108.544629 \nL 65.064893 108.544629 \nz\n\" style=\"fill:none;stroke:#ff0000;stroke-linejoin:miter;stroke-width:2;\"/>\n   </g>\n   <g id=\"patch_4\">\n    <path clip-path=\"url(#pc7884e36a5)\" d=\"M 114.169385 55.458691 \nL 145.888232 55.458691 \nL 145.888232 108.810059 \nL 114.169385 108.810059 \nz\n\" style=\"fill:none;stroke:#ff0000;stroke-linejoin:miter;stroke-width:2;\"/>\n   </g>\n   <g id=\"patch_5\">\n    <path clip-path=\"url(#pc7884e36a5)\" d=\"M 129.564307 74.171484 \nL 147.480811 74.171484 \nL 147.480811 106.421191 \nL 129.564307 106.421191 \nz\n\" style=\"fill:none;stroke:#0000ff;stroke-linejoin:miter;stroke-width:2;\"/>\n   </g>\n   <g id=\"patch_6\">\n    <path clip-path=\"url(#pc7884e36a5)\" d=\"M 65.330322 66.208594 \nL 87.759131 66.208594 \nL 87.759131 97.794727 \nL 65.330322 97.794727 \nz\n\" style=\"fill:none;stroke:#0000ff;stroke-linejoin:miter;stroke-width:2;\"/>\n   </g>\n   <g id=\"matplotlib.axis_1\">\n    <g id=\"xtick_1\">\n     <g id=\"line2d_1\">\n      <defs>\n       <path d=\"M 0 0 \nL 0 3.5 \n\" id=\"mc7121ec55a\" style=\"stroke:#000000;stroke-width:0.8;\"/>\n      </defs>\n      <g>\n       <use style=\"stroke:#000000;stroke-width:0.8;\" x=\"39.716357\" xlink:href=\"#mc7121ec55a\" y=\"146.832861\"/>\n      </g>\n     </g>\n     <g id=\"text_1\">\n      <!-- 0 -->\n      <defs>\n       <path d=\"M 31.78125 66.40625 \nQ 24.171875 66.40625 20.328125 58.90625 \nQ 16.5 51.421875 16.5 36.375 \nQ 16.5 21.390625 20.328125 13.890625 \nQ 24.171875 6.390625 31.78125 6.390625 \nQ 39.453125 6.390625 43.28125 13.890625 \nQ 47.125 21.390625 47.125 36.375 \nQ 47.125 51.421875 43.28125 58.90625 \nQ 39.453125 66.40625 31.78125 66.40625 \nz\nM 31.78125 74.21875 \nQ 44.046875 74.21875 50.515625 64.515625 \nQ 56.984375 54.828125 56.984375 36.375 \nQ 56.984375 17.96875 50.515625 8.265625 \nQ 44.046875 -1.421875 31.78125 -1.421875 \nQ 19.53125 -1.421875 13.0625 8.265625 \nQ 6.59375 17.96875 6.59375 36.375 \nQ 6.59375 54.828125 13.0625 64.515625 \nQ 19.53125 74.21875 31.78125 74.21875 \nz\n\" id=\"DejaVuSans-48\"/>\n      </defs>\n      <g transform=\"translate(36.535107 161.431299)scale(0.1 -0.1)\">\n       <use xlink:href=\"#DejaVuSans-48\"/>\n      </g>\n     </g>\n    </g>\n    <g id=\"xtick_2\">\n     <g id=\"line2d_2\">\n      <g>\n       <use style=\"stroke:#000000;stroke-width:0.8;\" x=\"106.073779\" xlink:href=\"#mc7121ec55a\" y=\"146.832861\"/>\n      </g>\n     </g>\n     <g id=\"text_2\">\n      <!-- 500 -->\n      <defs>\n       <path d=\"M 10.796875 72.90625 \nL 49.515625 72.90625 \nL 49.515625 64.59375 \nL 19.828125 64.59375 \nL 19.828125 46.734375 \nQ 21.96875 47.46875 24.109375 47.828125 \nQ 26.265625 48.1875 28.421875 48.1875 \nQ 40.625 48.1875 47.75 41.5 \nQ 54.890625 34.8125 54.890625 23.390625 \nQ 54.890625 11.625 47.5625 5.09375 \nQ 40.234375 -1.421875 26.90625 -1.421875 \nQ 22.3125 -1.421875 17.546875 -0.640625 \nQ 12.796875 0.140625 7.71875 1.703125 \nL 7.71875 11.625 \nQ 12.109375 9.234375 16.796875 8.0625 \nQ 21.484375 6.890625 26.703125 6.890625 \nQ 35.15625 6.890625 40.078125 11.328125 \nQ 45.015625 15.765625 45.015625 23.390625 \nQ 45.015625 31 40.078125 35.4375 \nQ 35.15625 39.890625 26.703125 39.890625 \nQ 22.75 39.890625 18.8125 39.015625 \nQ 14.890625 38.140625 10.796875 36.28125 \nz\n\" id=\"DejaVuSans-53\"/>\n      </defs>\n      <g transform=\"translate(96.530029 161.431299)scale(0.1 -0.1)\">\n       <use xlink:href=\"#DejaVuSans-53\"/>\n       <use x=\"63.623047\" xlink:href=\"#DejaVuSans-48\"/>\n       <use x=\"127.246094\" xlink:href=\"#DejaVuSans-48\"/>\n      </g>\n     </g>\n    </g>\n    <g id=\"xtick_3\">\n     <g id=\"line2d_3\">\n      <g>\n       <use style=\"stroke:#000000;stroke-width:0.8;\" x=\"172.431201\" xlink:href=\"#mc7121ec55a\" y=\"146.832861\"/>\n      </g>\n     </g>\n     <g id=\"text_3\">\n      <!-- 1000 -->\n      <defs>\n       <path d=\"M 12.40625 8.296875 \nL 28.515625 8.296875 \nL 28.515625 63.921875 \nL 10.984375 60.40625 \nL 10.984375 69.390625 \nL 28.421875 72.90625 \nL 38.28125 72.90625 \nL 38.28125 8.296875 \nL 54.390625 8.296875 \nL 54.390625 0 \nL 12.40625 0 \nz\n\" id=\"DejaVuSans-49\"/>\n      </defs>\n      <g transform=\"translate(159.706201 161.431299)scale(0.1 -0.1)\">\n       <use xlink:href=\"#DejaVuSans-49\"/>\n       <use x=\"63.623047\" xlink:href=\"#DejaVuSans-48\"/>\n       <use x=\"127.246094\" xlink:href=\"#DejaVuSans-48\"/>\n       <use x=\"190.869141\" xlink:href=\"#DejaVuSans-48\"/>\n      </g>\n     </g>\n    </g>\n   </g>\n   <g id=\"matplotlib.axis_2\">\n    <g id=\"ytick_1\">\n     <g id=\"line2d_4\">\n      <defs>\n       <path d=\"M 0 0 \nL -3.5 0 \n\" id=\"m10bd9faddb\" style=\"stroke:#000000;stroke-width:0.8;\"/>\n      </defs>\n      <g>\n       <use style=\"stroke:#000000;stroke-width:0.8;\" x=\"39.65\" xlink:href=\"#m10bd9faddb\" y=\"10.999219\"/>\n      </g>\n     </g>\n     <g id=\"text_4\">\n      <!-- 0 -->\n      <g transform=\"translate(26.2875 14.798437)scale(0.1 -0.1)\">\n       <use xlink:href=\"#DejaVuSans-48\"/>\n      </g>\n     </g>\n    </g>\n    <g id=\"ytick_2\">\n     <g id=\"line2d_5\">\n      <g>\n       <use style=\"stroke:#000000;stroke-width:0.8;\" x=\"39.65\" xlink:href=\"#m10bd9faddb\" y=\"37.542187\"/>\n      </g>\n     </g>\n     <g id=\"text_5\">\n      <!-- 200 -->\n      <defs>\n       <path d=\"M 19.1875 8.296875 \nL 53.609375 8.296875 \nL 53.609375 0 \nL 7.328125 0 \nL 7.328125 8.296875 \nQ 12.9375 14.109375 22.625 23.890625 \nQ 32.328125 33.6875 34.8125 36.53125 \nQ 39.546875 41.84375 41.421875 45.53125 \nQ 43.3125 49.21875 43.3125 52.78125 \nQ 43.3125 58.59375 39.234375 62.25 \nQ 35.15625 65.921875 28.609375 65.921875 \nQ 23.96875 65.921875 18.8125 64.3125 \nQ 13.671875 62.703125 7.8125 59.421875 \nL 7.8125 69.390625 \nQ 13.765625 71.78125 18.9375 73 \nQ 24.125 74.21875 28.421875 74.21875 \nQ 39.75 74.21875 46.484375 68.546875 \nQ 53.21875 62.890625 53.21875 53.421875 \nQ 53.21875 48.921875 51.53125 44.890625 \nQ 49.859375 40.875 45.40625 35.40625 \nQ 44.1875 33.984375 37.640625 27.21875 \nQ 31.109375 20.453125 19.1875 8.296875 \nz\n\" id=\"DejaVuSans-50\"/>\n      </defs>\n      <g transform=\"translate(13.5625 41.341406)scale(0.1 -0.1)\">\n       <use xlink:href=\"#DejaVuSans-50\"/>\n       <use x=\"63.623047\" xlink:href=\"#DejaVuSans-48\"/>\n       <use x=\"127.246094\" xlink:href=\"#DejaVuSans-48\"/>\n      </g>\n     </g>\n    </g>\n    <g id=\"ytick_3\">\n     <g id=\"line2d_6\">\n      <g>\n       <use style=\"stroke:#000000;stroke-width:0.8;\" x=\"39.65\" xlink:href=\"#m10bd9faddb\" y=\"64.085156\"/>\n      </g>\n     </g>\n     <g id=\"text_6\">\n      <!-- 400 -->\n      <defs>\n       <path d=\"M 37.796875 64.3125 \nL 12.890625 25.390625 \nL 37.796875 25.390625 \nz\nM 35.203125 72.90625 \nL 47.609375 72.90625 \nL 47.609375 25.390625 \nL 58.015625 25.390625 \nL 58.015625 17.1875 \nL 47.609375 17.1875 \nL 47.609375 0 \nL 37.796875 0 \nL 37.796875 17.1875 \nL 4.890625 17.1875 \nL 4.890625 26.703125 \nz\n\" id=\"DejaVuSans-52\"/>\n      </defs>\n      <g transform=\"translate(13.5625 67.884375)scale(0.1 -0.1)\">\n       <use xlink:href=\"#DejaVuSans-52\"/>\n       <use x=\"63.623047\" xlink:href=\"#DejaVuSans-48\"/>\n       <use x=\"127.246094\" xlink:href=\"#DejaVuSans-48\"/>\n      </g>\n     </g>\n    </g>\n    <g id=\"ytick_4\">\n     <g id=\"line2d_7\">\n      <g>\n       <use style=\"stroke:#000000;stroke-width:0.8;\" x=\"39.65\" xlink:href=\"#m10bd9faddb\" y=\"90.628125\"/>\n      </g>\n     </g>\n     <g id=\"text_7\">\n      <!-- 600 -->\n      <defs>\n       <path d=\"M 33.015625 40.375 \nQ 26.375 40.375 22.484375 35.828125 \nQ 18.609375 31.296875 18.609375 23.390625 \nQ 18.609375 15.53125 22.484375 10.953125 \nQ 26.375 6.390625 33.015625 6.390625 \nQ 39.65625 6.390625 43.53125 10.953125 \nQ 47.40625 15.53125 47.40625 23.390625 \nQ 47.40625 31.296875 43.53125 35.828125 \nQ 39.65625 40.375 33.015625 40.375 \nz\nM 52.59375 71.296875 \nL 52.59375 62.3125 \nQ 48.875 64.0625 45.09375 64.984375 \nQ 41.3125 65.921875 37.59375 65.921875 \nQ 27.828125 65.921875 22.671875 59.328125 \nQ 17.53125 52.734375 16.796875 39.40625 \nQ 19.671875 43.65625 24.015625 45.921875 \nQ 28.375 48.1875 33.59375 48.1875 \nQ 44.578125 48.1875 50.953125 41.515625 \nQ 57.328125 34.859375 57.328125 23.390625 \nQ 57.328125 12.15625 50.6875 5.359375 \nQ 44.046875 -1.421875 33.015625 -1.421875 \nQ 20.359375 -1.421875 13.671875 8.265625 \nQ 6.984375 17.96875 6.984375 36.375 \nQ 6.984375 53.65625 15.1875 63.9375 \nQ 23.390625 74.21875 37.203125 74.21875 \nQ 40.921875 74.21875 44.703125 73.484375 \nQ 48.484375 72.75 52.59375 71.296875 \nz\n\" id=\"DejaVuSans-54\"/>\n      </defs>\n      <g transform=\"translate(13.5625 94.427344)scale(0.1 -0.1)\">\n       <use xlink:href=\"#DejaVuSans-54\"/>\n       <use x=\"63.623047\" xlink:href=\"#DejaVuSans-48\"/>\n       <use x=\"127.246094\" xlink:href=\"#DejaVuSans-48\"/>\n      </g>\n     </g>\n    </g>\n    <g id=\"ytick_5\">\n     <g id=\"line2d_8\">\n      <g>\n       <use style=\"stroke:#000000;stroke-width:0.8;\" x=\"39.65\" xlink:href=\"#m10bd9faddb\" y=\"117.171094\"/>\n      </g>\n     </g>\n     <g id=\"text_8\">\n      <!-- 800 -->\n      <defs>\n       <path d=\"M 31.78125 34.625 \nQ 24.75 34.625 20.71875 30.859375 \nQ 16.703125 27.09375 16.703125 20.515625 \nQ 16.703125 13.921875 20.71875 10.15625 \nQ 24.75 6.390625 31.78125 6.390625 \nQ 38.8125 6.390625 42.859375 10.171875 \nQ 46.921875 13.96875 46.921875 20.515625 \nQ 46.921875 27.09375 42.890625 30.859375 \nQ 38.875 34.625 31.78125 34.625 \nz\nM 21.921875 38.8125 \nQ 15.578125 40.375 12.03125 44.71875 \nQ 8.5 49.078125 8.5 55.328125 \nQ 8.5 64.0625 14.71875 69.140625 \nQ 20.953125 74.21875 31.78125 74.21875 \nQ 42.671875 74.21875 48.875 69.140625 \nQ 55.078125 64.0625 55.078125 55.328125 \nQ 55.078125 49.078125 51.53125 44.71875 \nQ 48 40.375 41.703125 38.8125 \nQ 48.828125 37.15625 52.796875 32.3125 \nQ 56.78125 27.484375 56.78125 20.515625 \nQ 56.78125 9.90625 50.3125 4.234375 \nQ 43.84375 -1.421875 31.78125 -1.421875 \nQ 19.734375 -1.421875 13.25 4.234375 \nQ 6.78125 9.90625 6.78125 20.515625 \nQ 6.78125 27.484375 10.78125 32.3125 \nQ 14.796875 37.15625 21.921875 38.8125 \nz\nM 18.3125 54.390625 \nQ 18.3125 48.734375 21.84375 45.5625 \nQ 25.390625 42.390625 31.78125 42.390625 \nQ 38.140625 42.390625 41.71875 45.5625 \nQ 45.3125 48.734375 45.3125 54.390625 \nQ 45.3125 60.0625 41.71875 63.234375 \nQ 38.140625 66.40625 31.78125 66.40625 \nQ 25.390625 66.40625 21.84375 63.234375 \nQ 18.3125 60.0625 18.3125 54.390625 \nz\n\" id=\"DejaVuSans-56\"/>\n      </defs>\n      <g transform=\"translate(13.5625 120.970312)scale(0.1 -0.1)\">\n       <use xlink:href=\"#DejaVuSans-56\"/>\n       <use x=\"63.623047\" xlink:href=\"#DejaVuSans-48\"/>\n       <use x=\"127.246094\" xlink:href=\"#DejaVuSans-48\"/>\n      </g>\n     </g>\n    </g>\n    <g id=\"ytick_6\">\n     <g id=\"line2d_9\">\n      <g>\n       <use style=\"stroke:#000000;stroke-width:0.8;\" x=\"39.65\" xlink:href=\"#m10bd9faddb\" y=\"143.714062\"/>\n      </g>\n     </g>\n     <g id=\"text_9\">\n      <!-- 1000 -->\n      <g transform=\"translate(7.2 147.513281)scale(0.1 -0.1)\">\n       <use xlink:href=\"#DejaVuSans-49\"/>\n       <use x=\"63.623047\" xlink:href=\"#DejaVuSans-48\"/>\n       <use x=\"127.246094\" xlink:href=\"#DejaVuSans-48\"/>\n       <use x=\"190.869141\" xlink:href=\"#DejaVuSans-48\"/>\n      </g>\n     </g>\n    </g>\n   </g>\n   <g id=\"patch_7\">\n    <path d=\"M 39.65 146.832861 \nL 39.65 10.932861 \n\" style=\"fill:none;stroke:#000000;stroke-linecap:square;stroke-linejoin:miter;stroke-width:0.8;\"/>\n   </g>\n   <g id=\"patch_8\">\n    <path d=\"M 175.55 146.832861 \nL 175.55 10.932861 \n\" style=\"fill:none;stroke:#000000;stroke-linecap:square;stroke-linejoin:miter;stroke-width:0.8;\"/>\n   </g>\n   <g id=\"patch_9\">\n    <path d=\"M 39.65 146.832861 \nL 175.55 146.832861 \n\" style=\"fill:none;stroke:#000000;stroke-linecap:square;stroke-linejoin:miter;stroke-width:0.8;\"/>\n   </g>\n   <g id=\"patch_10\">\n    <path d=\"M 39.65 10.932861 \nL 175.55 10.932861 \n\" style=\"fill:none;stroke:#000000;stroke-linecap:square;stroke-linejoin:miter;stroke-width:0.8;\"/>\n   </g>\n  </g>\n </g>\n <defs>\n  <clipPath id=\"pc7884e36a5\">\n   <rect height=\"135.9\" width=\"135.9\" x=\"39.65\" y=\"10.932861\"/>\n  </clipPath>\n </defs>\n</svg>\n"
          },
          "metadata": {
            "tags": [],
            "needs_background": "light"
          }
        }
      ]
    },
    {
      "cell_type": "code",
      "metadata": {
        "id": "L1j_FwkH5c9z",
        "colab_type": "code",
        "colab": {
          "base_uri": "https://localhost:8080/",
          "height": 35
        },
        "outputId": "90f5c6d8-45a7-4cb6-f3db-cda06903111c"
      },
      "source": [
        "# Calculating thresolds usings Precision_recall_curve\n",
        "from sklearn import metrics\n",
        "#precisions, recalls, thresholds = precision_recall_curve(train_labels_df, pred)\n",
        "scores = np.array([true_positive, true_negative, false_positive, false_negative])\n",
        "fpr, tpr, thresholds = metrics.roc_curve(test_labels, y_pred)\n",
        "print(fpr, tpr)"
      ],
      "execution_count": null,
      "outputs": [
        {
          "output_type": "stream",
          "text": [
            "[0.         0.20552147 1.        ] [0.        0.8045977 1.       ]\n"
          ],
          "name": "stdout"
        }
      ]
    },
    {
      "cell_type": "code",
      "metadata": {
        "id": "UJyCtMRA5jKP",
        "colab_type": "code",
        "colab": {
          "base_uri": "https://localhost:8080/",
          "height": 52
        },
        "outputId": "5d8f44cd-e141-48be-fc46-3501d8b13bdc"
      },
      "source": [
        "roc_auc = metrics.auc(fpr, tpr)\n",
        "plt.figure()"
      ],
      "execution_count": null,
      "outputs": [
        {
          "output_type": "execute_result",
          "data": {
            "text/plain": [
              "<Figure size 252x180 with 0 Axes>"
            ]
          },
          "metadata": {
            "tags": []
          },
          "execution_count": 61
        },
        {
          "output_type": "display_data",
          "data": {
            "text/plain": [
              "<Figure size 252x180 with 0 Axes>"
            ]
          },
          "metadata": {
            "tags": []
          }
        }
      ]
    },
    {
      "cell_type": "code",
      "metadata": {
        "id": "ZzE6OYtY5ppg",
        "colab_type": "code",
        "colab": {}
      },
      "source": [
        "import sklearn\n",
        "import itertools\n",
        "import cv2\n",
        "import scipy\n",
        "import os\n",
        "import csv\n",
        "import matplotlib.pyplot as plt\n",
        "import matplotlib.image as mpimg\n",
        "from sklearn import metrics\n",
        "from sklearn.preprocessing import LabelEncoder\n",
        "#from sklearn.cross_validation import train_test_split\n",
        "from sklearn.metrics import confusion_matrix\n",
        "from sklearn.metrics import accuracy_score\n",
        "from sklearn.linear_model import LogisticRegression\n",
        "from sklearn.model_selection import StratifiedKFold\n",
        "from sklearn.utils import shuffle"
      ],
      "execution_count": null,
      "outputs": []
    },
    {
      "cell_type": "code",
      "metadata": {
        "id": "I4qpB1ts5xK8",
        "colab_type": "code",
        "colab": {
          "base_uri": "https://localhost:8080/",
          "height": 282
        },
        "outputId": "1f9fdc53-3cad-4ebb-c271-192ea7b368ac"
      },
      "source": [
        "lw = 2\n",
        "plt.plot(fpr, tpr, color='darkorange',lw=lw, label='ROC curve (area = %0.2f)' % roc_auc)\n",
        "plt.plot([0, 1], [0, 1], color='navy', lw=lw, linestyle='--')\n",
        "plt.xlim([0.0, 1.0])\n",
        "plt.ylim([0.0, 1.05])\n",
        "plt.xlabel('False Positive Rate')\n",
        "plt.ylabel('True Positive Rate')\n",
        "plt.title('Receiver operating characteristic example')\n",
        "plt.legend(loc=\"lower right\")\n",
        "plt.show()\n",
        "  \n",
        "#print(\"Accuracy: %.02f\" % sklearn.metrics.accuracy_score(test_labels, np.argmax(y_pred, axis=1)))\n",
        "  "
      ],
      "execution_count": null,
      "outputs": [
        {
          "output_type": "display_data",
          "data": {
            "text/plain": [
              "<Figure size 252x180 with 1 Axes>"
            ],
            "image/svg+xml": "<?xml version=\"1.0\" encoding=\"utf-8\" standalone=\"no\"?>\n<!DOCTYPE svg PUBLIC \"-//W3C//DTD SVG 1.1//EN\"\n  \"http://www.w3.org/Graphics/SVG/1.1/DTD/svg11.dtd\">\n<!-- Created with matplotlib (https://matplotlib.org/) -->\n<svg height=\"195.774375pt\" version=\"1.1\" viewBox=\"0 0 275.925937 195.774375\" width=\"275.925937pt\" xmlns=\"http://www.w3.org/2000/svg\" xmlns:xlink=\"http://www.w3.org/1999/xlink\">\n <defs>\n  <style type=\"text/css\">\n*{stroke-linecap:butt;stroke-linejoin:round;}\n  </style>\n </defs>\n <g id=\"figure_1\">\n  <g id=\"patch_1\">\n   <path d=\"M 0 195.774375 \nL 275.925937 195.774375 \nL 275.925937 0 \nL 0 0 \nz\n\" style=\"fill:none;\"/>\n  </g>\n  <g id=\"axes_1\">\n   <g id=\"patch_2\">\n    <path d=\"M 43.78125 158.218125 \nL 239.08125 158.218125 \nL 239.08125 22.318125 \nL 43.78125 22.318125 \nz\n\" style=\"fill:#ffffff;\"/>\n   </g>\n   <g id=\"matplotlib.axis_1\">\n    <g id=\"xtick_1\">\n     <g id=\"line2d_1\">\n      <defs>\n       <path d=\"M 0 0 \nL 0 3.5 \n\" id=\"m88b5c3d6b7\" style=\"stroke:#000000;stroke-width:0.8;\"/>\n      </defs>\n      <g>\n       <use style=\"stroke:#000000;stroke-width:0.8;\" x=\"43.78125\" xlink:href=\"#m88b5c3d6b7\" y=\"158.218125\"/>\n      </g>\n     </g>\n     <g id=\"text_1\">\n      <!-- 0.0 -->\n      <defs>\n       <path d=\"M 31.78125 66.40625 \nQ 24.171875 66.40625 20.328125 58.90625 \nQ 16.5 51.421875 16.5 36.375 \nQ 16.5 21.390625 20.328125 13.890625 \nQ 24.171875 6.390625 31.78125 6.390625 \nQ 39.453125 6.390625 43.28125 13.890625 \nQ 47.125 21.390625 47.125 36.375 \nQ 47.125 51.421875 43.28125 58.90625 \nQ 39.453125 66.40625 31.78125 66.40625 \nz\nM 31.78125 74.21875 \nQ 44.046875 74.21875 50.515625 64.515625 \nQ 56.984375 54.828125 56.984375 36.375 \nQ 56.984375 17.96875 50.515625 8.265625 \nQ 44.046875 -1.421875 31.78125 -1.421875 \nQ 19.53125 -1.421875 13.0625 8.265625 \nQ 6.59375 17.96875 6.59375 36.375 \nQ 6.59375 54.828125 13.0625 64.515625 \nQ 19.53125 74.21875 31.78125 74.21875 \nz\n\" id=\"DejaVuSans-48\"/>\n       <path d=\"M 10.6875 12.40625 \nL 21 12.40625 \nL 21 0 \nL 10.6875 0 \nz\n\" id=\"DejaVuSans-46\"/>\n      </defs>\n      <g transform=\"translate(35.829688 172.816562)scale(0.1 -0.1)\">\n       <use xlink:href=\"#DejaVuSans-48\"/>\n       <use x=\"63.623047\" xlink:href=\"#DejaVuSans-46\"/>\n       <use x=\"95.410156\" xlink:href=\"#DejaVuSans-48\"/>\n      </g>\n     </g>\n    </g>\n    <g id=\"xtick_2\">\n     <g id=\"line2d_2\">\n      <g>\n       <use style=\"stroke:#000000;stroke-width:0.8;\" x=\"82.84125\" xlink:href=\"#m88b5c3d6b7\" y=\"158.218125\"/>\n      </g>\n     </g>\n     <g id=\"text_2\">\n      <!-- 0.2 -->\n      <defs>\n       <path d=\"M 19.1875 8.296875 \nL 53.609375 8.296875 \nL 53.609375 0 \nL 7.328125 0 \nL 7.328125 8.296875 \nQ 12.9375 14.109375 22.625 23.890625 \nQ 32.328125 33.6875 34.8125 36.53125 \nQ 39.546875 41.84375 41.421875 45.53125 \nQ 43.3125 49.21875 43.3125 52.78125 \nQ 43.3125 58.59375 39.234375 62.25 \nQ 35.15625 65.921875 28.609375 65.921875 \nQ 23.96875 65.921875 18.8125 64.3125 \nQ 13.671875 62.703125 7.8125 59.421875 \nL 7.8125 69.390625 \nQ 13.765625 71.78125 18.9375 73 \nQ 24.125 74.21875 28.421875 74.21875 \nQ 39.75 74.21875 46.484375 68.546875 \nQ 53.21875 62.890625 53.21875 53.421875 \nQ 53.21875 48.921875 51.53125 44.890625 \nQ 49.859375 40.875 45.40625 35.40625 \nQ 44.1875 33.984375 37.640625 27.21875 \nQ 31.109375 20.453125 19.1875 8.296875 \nz\n\" id=\"DejaVuSans-50\"/>\n      </defs>\n      <g transform=\"translate(74.889688 172.816562)scale(0.1 -0.1)\">\n       <use xlink:href=\"#DejaVuSans-48\"/>\n       <use x=\"63.623047\" xlink:href=\"#DejaVuSans-46\"/>\n       <use x=\"95.410156\" xlink:href=\"#DejaVuSans-50\"/>\n      </g>\n     </g>\n    </g>\n    <g id=\"xtick_3\">\n     <g id=\"line2d_3\">\n      <g>\n       <use style=\"stroke:#000000;stroke-width:0.8;\" x=\"121.90125\" xlink:href=\"#m88b5c3d6b7\" y=\"158.218125\"/>\n      </g>\n     </g>\n     <g id=\"text_3\">\n      <!-- 0.4 -->\n      <defs>\n       <path d=\"M 37.796875 64.3125 \nL 12.890625 25.390625 \nL 37.796875 25.390625 \nz\nM 35.203125 72.90625 \nL 47.609375 72.90625 \nL 47.609375 25.390625 \nL 58.015625 25.390625 \nL 58.015625 17.1875 \nL 47.609375 17.1875 \nL 47.609375 0 \nL 37.796875 0 \nL 37.796875 17.1875 \nL 4.890625 17.1875 \nL 4.890625 26.703125 \nz\n\" id=\"DejaVuSans-52\"/>\n      </defs>\n      <g transform=\"translate(113.949688 172.816562)scale(0.1 -0.1)\">\n       <use xlink:href=\"#DejaVuSans-48\"/>\n       <use x=\"63.623047\" xlink:href=\"#DejaVuSans-46\"/>\n       <use x=\"95.410156\" xlink:href=\"#DejaVuSans-52\"/>\n      </g>\n     </g>\n    </g>\n    <g id=\"xtick_4\">\n     <g id=\"line2d_4\">\n      <g>\n       <use style=\"stroke:#000000;stroke-width:0.8;\" x=\"160.96125\" xlink:href=\"#m88b5c3d6b7\" y=\"158.218125\"/>\n      </g>\n     </g>\n     <g id=\"text_4\">\n      <!-- 0.6 -->\n      <defs>\n       <path d=\"M 33.015625 40.375 \nQ 26.375 40.375 22.484375 35.828125 \nQ 18.609375 31.296875 18.609375 23.390625 \nQ 18.609375 15.53125 22.484375 10.953125 \nQ 26.375 6.390625 33.015625 6.390625 \nQ 39.65625 6.390625 43.53125 10.953125 \nQ 47.40625 15.53125 47.40625 23.390625 \nQ 47.40625 31.296875 43.53125 35.828125 \nQ 39.65625 40.375 33.015625 40.375 \nz\nM 52.59375 71.296875 \nL 52.59375 62.3125 \nQ 48.875 64.0625 45.09375 64.984375 \nQ 41.3125 65.921875 37.59375 65.921875 \nQ 27.828125 65.921875 22.671875 59.328125 \nQ 17.53125 52.734375 16.796875 39.40625 \nQ 19.671875 43.65625 24.015625 45.921875 \nQ 28.375 48.1875 33.59375 48.1875 \nQ 44.578125 48.1875 50.953125 41.515625 \nQ 57.328125 34.859375 57.328125 23.390625 \nQ 57.328125 12.15625 50.6875 5.359375 \nQ 44.046875 -1.421875 33.015625 -1.421875 \nQ 20.359375 -1.421875 13.671875 8.265625 \nQ 6.984375 17.96875 6.984375 36.375 \nQ 6.984375 53.65625 15.1875 63.9375 \nQ 23.390625 74.21875 37.203125 74.21875 \nQ 40.921875 74.21875 44.703125 73.484375 \nQ 48.484375 72.75 52.59375 71.296875 \nz\n\" id=\"DejaVuSans-54\"/>\n      </defs>\n      <g transform=\"translate(153.009688 172.816562)scale(0.1 -0.1)\">\n       <use xlink:href=\"#DejaVuSans-48\"/>\n       <use x=\"63.623047\" xlink:href=\"#DejaVuSans-46\"/>\n       <use x=\"95.410156\" xlink:href=\"#DejaVuSans-54\"/>\n      </g>\n     </g>\n    </g>\n    <g id=\"xtick_5\">\n     <g id=\"line2d_5\">\n      <g>\n       <use style=\"stroke:#000000;stroke-width:0.8;\" x=\"200.02125\" xlink:href=\"#m88b5c3d6b7\" y=\"158.218125\"/>\n      </g>\n     </g>\n     <g id=\"text_5\">\n      <!-- 0.8 -->\n      <defs>\n       <path d=\"M 31.78125 34.625 \nQ 24.75 34.625 20.71875 30.859375 \nQ 16.703125 27.09375 16.703125 20.515625 \nQ 16.703125 13.921875 20.71875 10.15625 \nQ 24.75 6.390625 31.78125 6.390625 \nQ 38.8125 6.390625 42.859375 10.171875 \nQ 46.921875 13.96875 46.921875 20.515625 \nQ 46.921875 27.09375 42.890625 30.859375 \nQ 38.875 34.625 31.78125 34.625 \nz\nM 21.921875 38.8125 \nQ 15.578125 40.375 12.03125 44.71875 \nQ 8.5 49.078125 8.5 55.328125 \nQ 8.5 64.0625 14.71875 69.140625 \nQ 20.953125 74.21875 31.78125 74.21875 \nQ 42.671875 74.21875 48.875 69.140625 \nQ 55.078125 64.0625 55.078125 55.328125 \nQ 55.078125 49.078125 51.53125 44.71875 \nQ 48 40.375 41.703125 38.8125 \nQ 48.828125 37.15625 52.796875 32.3125 \nQ 56.78125 27.484375 56.78125 20.515625 \nQ 56.78125 9.90625 50.3125 4.234375 \nQ 43.84375 -1.421875 31.78125 -1.421875 \nQ 19.734375 -1.421875 13.25 4.234375 \nQ 6.78125 9.90625 6.78125 20.515625 \nQ 6.78125 27.484375 10.78125 32.3125 \nQ 14.796875 37.15625 21.921875 38.8125 \nz\nM 18.3125 54.390625 \nQ 18.3125 48.734375 21.84375 45.5625 \nQ 25.390625 42.390625 31.78125 42.390625 \nQ 38.140625 42.390625 41.71875 45.5625 \nQ 45.3125 48.734375 45.3125 54.390625 \nQ 45.3125 60.0625 41.71875 63.234375 \nQ 38.140625 66.40625 31.78125 66.40625 \nQ 25.390625 66.40625 21.84375 63.234375 \nQ 18.3125 60.0625 18.3125 54.390625 \nz\n\" id=\"DejaVuSans-56\"/>\n      </defs>\n      <g transform=\"translate(192.069688 172.816562)scale(0.1 -0.1)\">\n       <use xlink:href=\"#DejaVuSans-48\"/>\n       <use x=\"63.623047\" xlink:href=\"#DejaVuSans-46\"/>\n       <use x=\"95.410156\" xlink:href=\"#DejaVuSans-56\"/>\n      </g>\n     </g>\n    </g>\n    <g id=\"xtick_6\">\n     <g id=\"line2d_6\">\n      <g>\n       <use style=\"stroke:#000000;stroke-width:0.8;\" x=\"239.08125\" xlink:href=\"#m88b5c3d6b7\" y=\"158.218125\"/>\n      </g>\n     </g>\n     <g id=\"text_6\">\n      <!-- 1.0 -->\n      <defs>\n       <path d=\"M 12.40625 8.296875 \nL 28.515625 8.296875 \nL 28.515625 63.921875 \nL 10.984375 60.40625 \nL 10.984375 69.390625 \nL 28.421875 72.90625 \nL 38.28125 72.90625 \nL 38.28125 8.296875 \nL 54.390625 8.296875 \nL 54.390625 0 \nL 12.40625 0 \nz\n\" id=\"DejaVuSans-49\"/>\n      </defs>\n      <g transform=\"translate(231.129688 172.816562)scale(0.1 -0.1)\">\n       <use xlink:href=\"#DejaVuSans-49\"/>\n       <use x=\"63.623047\" xlink:href=\"#DejaVuSans-46\"/>\n       <use x=\"95.410156\" xlink:href=\"#DejaVuSans-48\"/>\n      </g>\n     </g>\n    </g>\n    <g id=\"text_7\">\n     <!-- False Positive Rate -->\n     <defs>\n      <path d=\"M 9.8125 72.90625 \nL 51.703125 72.90625 \nL 51.703125 64.59375 \nL 19.671875 64.59375 \nL 19.671875 43.109375 \nL 48.578125 43.109375 \nL 48.578125 34.8125 \nL 19.671875 34.8125 \nL 19.671875 0 \nL 9.8125 0 \nz\n\" id=\"DejaVuSans-70\"/>\n      <path d=\"M 34.28125 27.484375 \nQ 23.390625 27.484375 19.1875 25 \nQ 14.984375 22.515625 14.984375 16.5 \nQ 14.984375 11.71875 18.140625 8.90625 \nQ 21.296875 6.109375 26.703125 6.109375 \nQ 34.1875 6.109375 38.703125 11.40625 \nQ 43.21875 16.703125 43.21875 25.484375 \nL 43.21875 27.484375 \nz\nM 52.203125 31.203125 \nL 52.203125 0 \nL 43.21875 0 \nL 43.21875 8.296875 \nQ 40.140625 3.328125 35.546875 0.953125 \nQ 30.953125 -1.421875 24.3125 -1.421875 \nQ 15.921875 -1.421875 10.953125 3.296875 \nQ 6 8.015625 6 15.921875 \nQ 6 25.140625 12.171875 29.828125 \nQ 18.359375 34.515625 30.609375 34.515625 \nL 43.21875 34.515625 \nL 43.21875 35.40625 \nQ 43.21875 41.609375 39.140625 45 \nQ 35.0625 48.390625 27.6875 48.390625 \nQ 23 48.390625 18.546875 47.265625 \nQ 14.109375 46.140625 10.015625 43.890625 \nL 10.015625 52.203125 \nQ 14.9375 54.109375 19.578125 55.046875 \nQ 24.21875 56 28.609375 56 \nQ 40.484375 56 46.34375 49.84375 \nQ 52.203125 43.703125 52.203125 31.203125 \nz\n\" id=\"DejaVuSans-97\"/>\n      <path d=\"M 9.421875 75.984375 \nL 18.40625 75.984375 \nL 18.40625 0 \nL 9.421875 0 \nz\n\" id=\"DejaVuSans-108\"/>\n      <path d=\"M 44.28125 53.078125 \nL 44.28125 44.578125 \nQ 40.484375 46.53125 36.375 47.5 \nQ 32.28125 48.484375 27.875 48.484375 \nQ 21.1875 48.484375 17.84375 46.4375 \nQ 14.5 44.390625 14.5 40.28125 \nQ 14.5 37.15625 16.890625 35.375 \nQ 19.28125 33.59375 26.515625 31.984375 \nL 29.59375 31.296875 \nQ 39.15625 29.25 43.1875 25.515625 \nQ 47.21875 21.78125 47.21875 15.09375 \nQ 47.21875 7.46875 41.1875 3.015625 \nQ 35.15625 -1.421875 24.609375 -1.421875 \nQ 20.21875 -1.421875 15.453125 -0.5625 \nQ 10.6875 0.296875 5.421875 2 \nL 5.421875 11.28125 \nQ 10.40625 8.6875 15.234375 7.390625 \nQ 20.0625 6.109375 24.8125 6.109375 \nQ 31.15625 6.109375 34.5625 8.28125 \nQ 37.984375 10.453125 37.984375 14.40625 \nQ 37.984375 18.0625 35.515625 20.015625 \nQ 33.0625 21.96875 24.703125 23.78125 \nL 21.578125 24.515625 \nQ 13.234375 26.265625 9.515625 29.90625 \nQ 5.8125 33.546875 5.8125 39.890625 \nQ 5.8125 47.609375 11.28125 51.796875 \nQ 16.75 56 26.8125 56 \nQ 31.78125 56 36.171875 55.265625 \nQ 40.578125 54.546875 44.28125 53.078125 \nz\n\" id=\"DejaVuSans-115\"/>\n      <path d=\"M 56.203125 29.59375 \nL 56.203125 25.203125 \nL 14.890625 25.203125 \nQ 15.484375 15.921875 20.484375 11.0625 \nQ 25.484375 6.203125 34.421875 6.203125 \nQ 39.59375 6.203125 44.453125 7.46875 \nQ 49.3125 8.734375 54.109375 11.28125 \nL 54.109375 2.78125 \nQ 49.265625 0.734375 44.1875 -0.34375 \nQ 39.109375 -1.421875 33.890625 -1.421875 \nQ 20.796875 -1.421875 13.15625 6.1875 \nQ 5.515625 13.8125 5.515625 26.8125 \nQ 5.515625 40.234375 12.765625 48.109375 \nQ 20.015625 56 32.328125 56 \nQ 43.359375 56 49.78125 48.890625 \nQ 56.203125 41.796875 56.203125 29.59375 \nz\nM 47.21875 32.234375 \nQ 47.125 39.59375 43.09375 43.984375 \nQ 39.0625 48.390625 32.421875 48.390625 \nQ 24.90625 48.390625 20.390625 44.140625 \nQ 15.875 39.890625 15.1875 32.171875 \nz\n\" id=\"DejaVuSans-101\"/>\n      <path id=\"DejaVuSans-32\"/>\n      <path d=\"M 19.671875 64.796875 \nL 19.671875 37.40625 \nL 32.078125 37.40625 \nQ 38.96875 37.40625 42.71875 40.96875 \nQ 46.484375 44.53125 46.484375 51.125 \nQ 46.484375 57.671875 42.71875 61.234375 \nQ 38.96875 64.796875 32.078125 64.796875 \nz\nM 9.8125 72.90625 \nL 32.078125 72.90625 \nQ 44.34375 72.90625 50.609375 67.359375 \nQ 56.890625 61.8125 56.890625 51.125 \nQ 56.890625 40.328125 50.609375 34.8125 \nQ 44.34375 29.296875 32.078125 29.296875 \nL 19.671875 29.296875 \nL 19.671875 0 \nL 9.8125 0 \nz\n\" id=\"DejaVuSans-80\"/>\n      <path d=\"M 30.609375 48.390625 \nQ 23.390625 48.390625 19.1875 42.75 \nQ 14.984375 37.109375 14.984375 27.296875 \nQ 14.984375 17.484375 19.15625 11.84375 \nQ 23.34375 6.203125 30.609375 6.203125 \nQ 37.796875 6.203125 41.984375 11.859375 \nQ 46.1875 17.53125 46.1875 27.296875 \nQ 46.1875 37.015625 41.984375 42.703125 \nQ 37.796875 48.390625 30.609375 48.390625 \nz\nM 30.609375 56 \nQ 42.328125 56 49.015625 48.375 \nQ 55.71875 40.765625 55.71875 27.296875 \nQ 55.71875 13.875 49.015625 6.21875 \nQ 42.328125 -1.421875 30.609375 -1.421875 \nQ 18.84375 -1.421875 12.171875 6.21875 \nQ 5.515625 13.875 5.515625 27.296875 \nQ 5.515625 40.765625 12.171875 48.375 \nQ 18.84375 56 30.609375 56 \nz\n\" id=\"DejaVuSans-111\"/>\n      <path d=\"M 9.421875 54.6875 \nL 18.40625 54.6875 \nL 18.40625 0 \nL 9.421875 0 \nz\nM 9.421875 75.984375 \nL 18.40625 75.984375 \nL 18.40625 64.59375 \nL 9.421875 64.59375 \nz\n\" id=\"DejaVuSans-105\"/>\n      <path d=\"M 18.3125 70.21875 \nL 18.3125 54.6875 \nL 36.8125 54.6875 \nL 36.8125 47.703125 \nL 18.3125 47.703125 \nL 18.3125 18.015625 \nQ 18.3125 11.328125 20.140625 9.421875 \nQ 21.96875 7.515625 27.59375 7.515625 \nL 36.8125 7.515625 \nL 36.8125 0 \nL 27.59375 0 \nQ 17.1875 0 13.234375 3.875 \nQ 9.28125 7.765625 9.28125 18.015625 \nL 9.28125 47.703125 \nL 2.6875 47.703125 \nL 2.6875 54.6875 \nL 9.28125 54.6875 \nL 9.28125 70.21875 \nz\n\" id=\"DejaVuSans-116\"/>\n      <path d=\"M 2.984375 54.6875 \nL 12.5 54.6875 \nL 29.59375 8.796875 \nL 46.6875 54.6875 \nL 56.203125 54.6875 \nL 35.6875 0 \nL 23.484375 0 \nz\n\" id=\"DejaVuSans-118\"/>\n      <path d=\"M 44.390625 34.1875 \nQ 47.5625 33.109375 50.5625 29.59375 \nQ 53.5625 26.078125 56.59375 19.921875 \nL 66.609375 0 \nL 56 0 \nL 46.6875 18.703125 \nQ 43.0625 26.03125 39.671875 28.421875 \nQ 36.28125 30.8125 30.421875 30.8125 \nL 19.671875 30.8125 \nL 19.671875 0 \nL 9.8125 0 \nL 9.8125 72.90625 \nL 32.078125 72.90625 \nQ 44.578125 72.90625 50.734375 67.671875 \nQ 56.890625 62.453125 56.890625 51.90625 \nQ 56.890625 45.015625 53.6875 40.46875 \nQ 50.484375 35.9375 44.390625 34.1875 \nz\nM 19.671875 64.796875 \nL 19.671875 38.921875 \nL 32.078125 38.921875 \nQ 39.203125 38.921875 42.84375 42.21875 \nQ 46.484375 45.515625 46.484375 51.90625 \nQ 46.484375 58.296875 42.84375 61.546875 \nQ 39.203125 64.796875 32.078125 64.796875 \nz\n\" id=\"DejaVuSans-82\"/>\n     </defs>\n     <g transform=\"translate(94.964844 186.494687)scale(0.1 -0.1)\">\n      <use xlink:href=\"#DejaVuSans-70\"/>\n      <use x=\"48.394531\" xlink:href=\"#DejaVuSans-97\"/>\n      <use x=\"109.673828\" xlink:href=\"#DejaVuSans-108\"/>\n      <use x=\"137.457031\" xlink:href=\"#DejaVuSans-115\"/>\n      <use x=\"189.556641\" xlink:href=\"#DejaVuSans-101\"/>\n      <use x=\"251.080078\" xlink:href=\"#DejaVuSans-32\"/>\n      <use x=\"282.867188\" xlink:href=\"#DejaVuSans-80\"/>\n      <use x=\"339.544922\" xlink:href=\"#DejaVuSans-111\"/>\n      <use x=\"400.726562\" xlink:href=\"#DejaVuSans-115\"/>\n      <use x=\"452.826172\" xlink:href=\"#DejaVuSans-105\"/>\n      <use x=\"480.609375\" xlink:href=\"#DejaVuSans-116\"/>\n      <use x=\"519.818359\" xlink:href=\"#DejaVuSans-105\"/>\n      <use x=\"547.601562\" xlink:href=\"#DejaVuSans-118\"/>\n      <use x=\"606.78125\" xlink:href=\"#DejaVuSans-101\"/>\n      <use x=\"668.304688\" xlink:href=\"#DejaVuSans-32\"/>\n      <use x=\"700.091797\" xlink:href=\"#DejaVuSans-82\"/>\n      <use x=\"767.324219\" xlink:href=\"#DejaVuSans-97\"/>\n      <use x=\"828.603516\" xlink:href=\"#DejaVuSans-116\"/>\n      <use x=\"867.8125\" xlink:href=\"#DejaVuSans-101\"/>\n     </g>\n    </g>\n   </g>\n   <g id=\"matplotlib.axis_2\">\n    <g id=\"ytick_1\">\n     <g id=\"line2d_7\">\n      <defs>\n       <path d=\"M 0 0 \nL -3.5 0 \n\" id=\"mbaa18d8b22\" style=\"stroke:#000000;stroke-width:0.8;\"/>\n      </defs>\n      <g>\n       <use style=\"stroke:#000000;stroke-width:0.8;\" x=\"43.78125\" xlink:href=\"#mbaa18d8b22\" y=\"158.218125\"/>\n      </g>\n     </g>\n     <g id=\"text_8\">\n      <!-- 0.0 -->\n      <g transform=\"translate(20.878125 162.017344)scale(0.1 -0.1)\">\n       <use xlink:href=\"#DejaVuSans-48\"/>\n       <use x=\"63.623047\" xlink:href=\"#DejaVuSans-46\"/>\n       <use x=\"95.410156\" xlink:href=\"#DejaVuSans-48\"/>\n      </g>\n     </g>\n    </g>\n    <g id=\"ytick_2\">\n     <g id=\"line2d_8\">\n      <g>\n       <use style=\"stroke:#000000;stroke-width:0.8;\" x=\"43.78125\" xlink:href=\"#mbaa18d8b22\" y=\"132.332411\"/>\n      </g>\n     </g>\n     <g id=\"text_9\">\n      <!-- 0.2 -->\n      <g transform=\"translate(20.878125 136.131629)scale(0.1 -0.1)\">\n       <use xlink:href=\"#DejaVuSans-48\"/>\n       <use x=\"63.623047\" xlink:href=\"#DejaVuSans-46\"/>\n       <use x=\"95.410156\" xlink:href=\"#DejaVuSans-50\"/>\n      </g>\n     </g>\n    </g>\n    <g id=\"ytick_3\">\n     <g id=\"line2d_9\">\n      <g>\n       <use style=\"stroke:#000000;stroke-width:0.8;\" x=\"43.78125\" xlink:href=\"#mbaa18d8b22\" y=\"106.446696\"/>\n      </g>\n     </g>\n     <g id=\"text_10\">\n      <!-- 0.4 -->\n      <g transform=\"translate(20.878125 110.245915)scale(0.1 -0.1)\">\n       <use xlink:href=\"#DejaVuSans-48\"/>\n       <use x=\"63.623047\" xlink:href=\"#DejaVuSans-46\"/>\n       <use x=\"95.410156\" xlink:href=\"#DejaVuSans-52\"/>\n      </g>\n     </g>\n    </g>\n    <g id=\"ytick_4\">\n     <g id=\"line2d_10\">\n      <g>\n       <use style=\"stroke:#000000;stroke-width:0.8;\" x=\"43.78125\" xlink:href=\"#mbaa18d8b22\" y=\"80.560982\"/>\n      </g>\n     </g>\n     <g id=\"text_11\">\n      <!-- 0.6 -->\n      <g transform=\"translate(20.878125 84.360201)scale(0.1 -0.1)\">\n       <use xlink:href=\"#DejaVuSans-48\"/>\n       <use x=\"63.623047\" xlink:href=\"#DejaVuSans-46\"/>\n       <use x=\"95.410156\" xlink:href=\"#DejaVuSans-54\"/>\n      </g>\n     </g>\n    </g>\n    <g id=\"ytick_5\">\n     <g id=\"line2d_11\">\n      <g>\n       <use style=\"stroke:#000000;stroke-width:0.8;\" x=\"43.78125\" xlink:href=\"#mbaa18d8b22\" y=\"54.675268\"/>\n      </g>\n     </g>\n     <g id=\"text_12\">\n      <!-- 0.8 -->\n      <g transform=\"translate(20.878125 58.474487)scale(0.1 -0.1)\">\n       <use xlink:href=\"#DejaVuSans-48\"/>\n       <use x=\"63.623047\" xlink:href=\"#DejaVuSans-46\"/>\n       <use x=\"95.410156\" xlink:href=\"#DejaVuSans-56\"/>\n      </g>\n     </g>\n    </g>\n    <g id=\"ytick_6\">\n     <g id=\"line2d_12\">\n      <g>\n       <use style=\"stroke:#000000;stroke-width:0.8;\" x=\"43.78125\" xlink:href=\"#mbaa18d8b22\" y=\"28.789554\"/>\n      </g>\n     </g>\n     <g id=\"text_13\">\n      <!-- 1.0 -->\n      <g transform=\"translate(20.878125 32.588772)scale(0.1 -0.1)\">\n       <use xlink:href=\"#DejaVuSans-49\"/>\n       <use x=\"63.623047\" xlink:href=\"#DejaVuSans-46\"/>\n       <use x=\"95.410156\" xlink:href=\"#DejaVuSans-48\"/>\n      </g>\n     </g>\n    </g>\n    <g id=\"text_14\">\n     <!-- True Positive Rate -->\n     <defs>\n      <path d=\"M -0.296875 72.90625 \nL 61.375 72.90625 \nL 61.375 64.59375 \nL 35.5 64.59375 \nL 35.5 0 \nL 25.59375 0 \nL 25.59375 64.59375 \nL -0.296875 64.59375 \nz\n\" id=\"DejaVuSans-84\"/>\n      <path d=\"M 41.109375 46.296875 \nQ 39.59375 47.171875 37.8125 47.578125 \nQ 36.03125 48 33.890625 48 \nQ 26.265625 48 22.1875 43.046875 \nQ 18.109375 38.09375 18.109375 28.8125 \nL 18.109375 0 \nL 9.078125 0 \nL 9.078125 54.6875 \nL 18.109375 54.6875 \nL 18.109375 46.1875 \nQ 20.953125 51.171875 25.484375 53.578125 \nQ 30.03125 56 36.53125 56 \nQ 37.453125 56 38.578125 55.875 \nQ 39.703125 55.765625 41.0625 55.515625 \nz\n\" id=\"DejaVuSans-114\"/>\n      <path d=\"M 8.5 21.578125 \nL 8.5 54.6875 \nL 17.484375 54.6875 \nL 17.484375 21.921875 \nQ 17.484375 14.15625 20.5 10.265625 \nQ 23.53125 6.390625 29.59375 6.390625 \nQ 36.859375 6.390625 41.078125 11.03125 \nQ 45.3125 15.671875 45.3125 23.6875 \nL 45.3125 54.6875 \nL 54.296875 54.6875 \nL 54.296875 0 \nL 45.3125 0 \nL 45.3125 8.40625 \nQ 42.046875 3.421875 37.71875 1 \nQ 33.40625 -1.421875 27.6875 -1.421875 \nQ 18.265625 -1.421875 13.375 4.4375 \nQ 8.5 10.296875 8.5 21.578125 \nz\nM 31.109375 56 \nz\n\" id=\"DejaVuSans-117\"/>\n     </defs>\n     <g transform=\"translate(14.798438 134.797812)rotate(-90)scale(0.1 -0.1)\">\n      <use xlink:href=\"#DejaVuSans-84\"/>\n      <use x=\"46.333984\" xlink:href=\"#DejaVuSans-114\"/>\n      <use x=\"87.447266\" xlink:href=\"#DejaVuSans-117\"/>\n      <use x=\"150.826172\" xlink:href=\"#DejaVuSans-101\"/>\n      <use x=\"212.349609\" xlink:href=\"#DejaVuSans-32\"/>\n      <use x=\"244.136719\" xlink:href=\"#DejaVuSans-80\"/>\n      <use x=\"300.814453\" xlink:href=\"#DejaVuSans-111\"/>\n      <use x=\"361.996094\" xlink:href=\"#DejaVuSans-115\"/>\n      <use x=\"414.095703\" xlink:href=\"#DejaVuSans-105\"/>\n      <use x=\"441.878906\" xlink:href=\"#DejaVuSans-116\"/>\n      <use x=\"481.087891\" xlink:href=\"#DejaVuSans-105\"/>\n      <use x=\"508.871094\" xlink:href=\"#DejaVuSans-118\"/>\n      <use x=\"568.050781\" xlink:href=\"#DejaVuSans-101\"/>\n      <use x=\"629.574219\" xlink:href=\"#DejaVuSans-32\"/>\n      <use x=\"661.361328\" xlink:href=\"#DejaVuSans-82\"/>\n      <use x=\"728.59375\" xlink:href=\"#DejaVuSans-97\"/>\n      <use x=\"789.873047\" xlink:href=\"#DejaVuSans-116\"/>\n      <use x=\"829.082031\" xlink:href=\"#DejaVuSans-101\"/>\n     </g>\n    </g>\n   </g>\n   <g id=\"line2d_13\">\n    <path clip-path=\"url(#pcd424e638e)\" d=\"M 43.78125 158.218125 \nL 79.290341 70.427427 \nL 239.08125 28.789554 \n\" style=\"fill:none;stroke:#ff8c00;stroke-linecap:square;stroke-width:2;\"/>\n   </g>\n   <g id=\"line2d_14\">\n    <path clip-path=\"url(#pcd424e638e)\" d=\"M 43.78125 158.218125 \nL 239.08125 28.789554 \n\" style=\"fill:none;stroke:#000080;stroke-dasharray:7.4,3.2;stroke-dashoffset:0;stroke-width:2;\"/>\n   </g>\n   <g id=\"patch_3\">\n    <path d=\"M 43.78125 158.218125 \nL 43.78125 22.318125 \n\" style=\"fill:none;stroke:#000000;stroke-linecap:square;stroke-linejoin:miter;stroke-width:0.8;\"/>\n   </g>\n   <g id=\"patch_4\">\n    <path d=\"M 239.08125 158.218125 \nL 239.08125 22.318125 \n\" style=\"fill:none;stroke:#000000;stroke-linecap:square;stroke-linejoin:miter;stroke-width:0.8;\"/>\n   </g>\n   <g id=\"patch_5\">\n    <path d=\"M 43.78125 158.218125 \nL 239.08125 158.218125 \n\" style=\"fill:none;stroke:#000000;stroke-linecap:square;stroke-linejoin:miter;stroke-width:0.8;\"/>\n   </g>\n   <g id=\"patch_6\">\n    <path d=\"M 43.78125 22.318125 \nL 239.08125 22.318125 \n\" style=\"fill:none;stroke:#000000;stroke-linecap:square;stroke-linejoin:miter;stroke-width:0.8;\"/>\n   </g>\n   <g id=\"text_15\">\n    <!-- Receiver operating characteristic example -->\n    <defs>\n     <path d=\"M 48.78125 52.59375 \nL 48.78125 44.1875 \nQ 44.96875 46.296875 41.140625 47.34375 \nQ 37.3125 48.390625 33.40625 48.390625 \nQ 24.65625 48.390625 19.8125 42.84375 \nQ 14.984375 37.3125 14.984375 27.296875 \nQ 14.984375 17.28125 19.8125 11.734375 \nQ 24.65625 6.203125 33.40625 6.203125 \nQ 37.3125 6.203125 41.140625 7.25 \nQ 44.96875 8.296875 48.78125 10.40625 \nL 48.78125 2.09375 \nQ 45.015625 0.34375 40.984375 -0.53125 \nQ 36.96875 -1.421875 32.421875 -1.421875 \nQ 20.0625 -1.421875 12.78125 6.34375 \nQ 5.515625 14.109375 5.515625 27.296875 \nQ 5.515625 40.671875 12.859375 48.328125 \nQ 20.21875 56 33.015625 56 \nQ 37.15625 56 41.109375 55.140625 \nQ 45.0625 54.296875 48.78125 52.59375 \nz\n\" id=\"DejaVuSans-99\"/>\n     <path d=\"M 18.109375 8.203125 \nL 18.109375 -20.796875 \nL 9.078125 -20.796875 \nL 9.078125 54.6875 \nL 18.109375 54.6875 \nL 18.109375 46.390625 \nQ 20.953125 51.265625 25.265625 53.625 \nQ 29.59375 56 35.59375 56 \nQ 45.5625 56 51.78125 48.09375 \nQ 58.015625 40.1875 58.015625 27.296875 \nQ 58.015625 14.40625 51.78125 6.484375 \nQ 45.5625 -1.421875 35.59375 -1.421875 \nQ 29.59375 -1.421875 25.265625 0.953125 \nQ 20.953125 3.328125 18.109375 8.203125 \nz\nM 48.6875 27.296875 \nQ 48.6875 37.203125 44.609375 42.84375 \nQ 40.53125 48.484375 33.40625 48.484375 \nQ 26.265625 48.484375 22.1875 42.84375 \nQ 18.109375 37.203125 18.109375 27.296875 \nQ 18.109375 17.390625 22.1875 11.75 \nQ 26.265625 6.109375 33.40625 6.109375 \nQ 40.53125 6.109375 44.609375 11.75 \nQ 48.6875 17.390625 48.6875 27.296875 \nz\n\" id=\"DejaVuSans-112\"/>\n     <path d=\"M 54.890625 33.015625 \nL 54.890625 0 \nL 45.90625 0 \nL 45.90625 32.71875 \nQ 45.90625 40.484375 42.875 44.328125 \nQ 39.84375 48.1875 33.796875 48.1875 \nQ 26.515625 48.1875 22.3125 43.546875 \nQ 18.109375 38.921875 18.109375 30.90625 \nL 18.109375 0 \nL 9.078125 0 \nL 9.078125 54.6875 \nL 18.109375 54.6875 \nL 18.109375 46.1875 \nQ 21.34375 51.125 25.703125 53.5625 \nQ 30.078125 56 35.796875 56 \nQ 45.21875 56 50.046875 50.171875 \nQ 54.890625 44.34375 54.890625 33.015625 \nz\n\" id=\"DejaVuSans-110\"/>\n     <path d=\"M 45.40625 27.984375 \nQ 45.40625 37.75 41.375 43.109375 \nQ 37.359375 48.484375 30.078125 48.484375 \nQ 22.859375 48.484375 18.828125 43.109375 \nQ 14.796875 37.75 14.796875 27.984375 \nQ 14.796875 18.265625 18.828125 12.890625 \nQ 22.859375 7.515625 30.078125 7.515625 \nQ 37.359375 7.515625 41.375 12.890625 \nQ 45.40625 18.265625 45.40625 27.984375 \nz\nM 54.390625 6.78125 \nQ 54.390625 -7.171875 48.1875 -13.984375 \nQ 42 -20.796875 29.203125 -20.796875 \nQ 24.46875 -20.796875 20.265625 -20.09375 \nQ 16.0625 -19.390625 12.109375 -17.921875 \nL 12.109375 -9.1875 \nQ 16.0625 -11.328125 19.921875 -12.34375 \nQ 23.78125 -13.375 27.78125 -13.375 \nQ 36.625 -13.375 41.015625 -8.765625 \nQ 45.40625 -4.15625 45.40625 5.171875 \nL 45.40625 9.625 \nQ 42.625 4.78125 38.28125 2.390625 \nQ 33.9375 0 27.875 0 \nQ 17.828125 0 11.671875 7.65625 \nQ 5.515625 15.328125 5.515625 27.984375 \nQ 5.515625 40.671875 11.671875 48.328125 \nQ 17.828125 56 27.875 56 \nQ 33.9375 56 38.28125 53.609375 \nQ 42.625 51.21875 45.40625 46.390625 \nL 45.40625 54.6875 \nL 54.390625 54.6875 \nz\n\" id=\"DejaVuSans-103\"/>\n     <path d=\"M 54.890625 33.015625 \nL 54.890625 0 \nL 45.90625 0 \nL 45.90625 32.71875 \nQ 45.90625 40.484375 42.875 44.328125 \nQ 39.84375 48.1875 33.796875 48.1875 \nQ 26.515625 48.1875 22.3125 43.546875 \nQ 18.109375 38.921875 18.109375 30.90625 \nL 18.109375 0 \nL 9.078125 0 \nL 9.078125 75.984375 \nL 18.109375 75.984375 \nL 18.109375 46.1875 \nQ 21.34375 51.125 25.703125 53.5625 \nQ 30.078125 56 35.796875 56 \nQ 45.21875 56 50.046875 50.171875 \nQ 54.890625 44.34375 54.890625 33.015625 \nz\n\" id=\"DejaVuSans-104\"/>\n     <path d=\"M 54.890625 54.6875 \nL 35.109375 28.078125 \nL 55.90625 0 \nL 45.3125 0 \nL 29.390625 21.484375 \nL 13.484375 0 \nL 2.875 0 \nL 24.125 28.609375 \nL 4.6875 54.6875 \nL 15.28125 54.6875 \nL 29.78125 35.203125 \nL 44.28125 54.6875 \nz\n\" id=\"DejaVuSans-120\"/>\n     <path d=\"M 52 44.1875 \nQ 55.375 50.25 60.0625 53.125 \nQ 64.75 56 71.09375 56 \nQ 79.640625 56 84.28125 50.015625 \nQ 88.921875 44.046875 88.921875 33.015625 \nL 88.921875 0 \nL 79.890625 0 \nL 79.890625 32.71875 \nQ 79.890625 40.578125 77.09375 44.375 \nQ 74.3125 48.1875 68.609375 48.1875 \nQ 61.625 48.1875 57.5625 43.546875 \nQ 53.515625 38.921875 53.515625 30.90625 \nL 53.515625 0 \nL 44.484375 0 \nL 44.484375 32.71875 \nQ 44.484375 40.625 41.703125 44.40625 \nQ 38.921875 48.1875 33.109375 48.1875 \nQ 26.21875 48.1875 22.15625 43.53125 \nQ 18.109375 38.875 18.109375 30.90625 \nL 18.109375 0 \nL 9.078125 0 \nL 9.078125 54.6875 \nL 18.109375 54.6875 \nL 18.109375 46.1875 \nQ 21.1875 51.21875 25.484375 53.609375 \nQ 29.78125 56 35.6875 56 \nQ 41.65625 56 45.828125 52.96875 \nQ 50 49.953125 52 44.1875 \nz\n\" id=\"DejaVuSans-109\"/>\n    </defs>\n    <g transform=\"translate(14.136563 16.318125)scale(0.12 -0.12)\">\n     <use xlink:href=\"#DejaVuSans-82\"/>\n     <use x=\"64.982422\" xlink:href=\"#DejaVuSans-101\"/>\n     <use x=\"126.505859\" xlink:href=\"#DejaVuSans-99\"/>\n     <use x=\"181.486328\" xlink:href=\"#DejaVuSans-101\"/>\n     <use x=\"243.009766\" xlink:href=\"#DejaVuSans-105\"/>\n     <use x=\"270.792969\" xlink:href=\"#DejaVuSans-118\"/>\n     <use x=\"329.972656\" xlink:href=\"#DejaVuSans-101\"/>\n     <use x=\"391.496094\" xlink:href=\"#DejaVuSans-114\"/>\n     <use x=\"432.609375\" xlink:href=\"#DejaVuSans-32\"/>\n     <use x=\"464.396484\" xlink:href=\"#DejaVuSans-111\"/>\n     <use x=\"525.578125\" xlink:href=\"#DejaVuSans-112\"/>\n     <use x=\"589.054688\" xlink:href=\"#DejaVuSans-101\"/>\n     <use x=\"650.578125\" xlink:href=\"#DejaVuSans-114\"/>\n     <use x=\"691.691406\" xlink:href=\"#DejaVuSans-97\"/>\n     <use x=\"752.970703\" xlink:href=\"#DejaVuSans-116\"/>\n     <use x=\"792.179688\" xlink:href=\"#DejaVuSans-105\"/>\n     <use x=\"819.962891\" xlink:href=\"#DejaVuSans-110\"/>\n     <use x=\"883.341797\" xlink:href=\"#DejaVuSans-103\"/>\n     <use x=\"946.818359\" xlink:href=\"#DejaVuSans-32\"/>\n     <use x=\"978.605469\" xlink:href=\"#DejaVuSans-99\"/>\n     <use x=\"1033.585938\" xlink:href=\"#DejaVuSans-104\"/>\n     <use x=\"1096.964844\" xlink:href=\"#DejaVuSans-97\"/>\n     <use x=\"1158.244141\" xlink:href=\"#DejaVuSans-114\"/>\n     <use x=\"1199.357422\" xlink:href=\"#DejaVuSans-97\"/>\n     <use x=\"1260.636719\" xlink:href=\"#DejaVuSans-99\"/>\n     <use x=\"1315.617188\" xlink:href=\"#DejaVuSans-116\"/>\n     <use x=\"1354.826172\" xlink:href=\"#DejaVuSans-101\"/>\n     <use x=\"1416.349609\" xlink:href=\"#DejaVuSans-114\"/>\n     <use x=\"1457.462891\" xlink:href=\"#DejaVuSans-105\"/>\n     <use x=\"1485.246094\" xlink:href=\"#DejaVuSans-115\"/>\n     <use x=\"1537.345703\" xlink:href=\"#DejaVuSans-116\"/>\n     <use x=\"1576.554688\" xlink:href=\"#DejaVuSans-105\"/>\n     <use x=\"1604.337891\" xlink:href=\"#DejaVuSans-99\"/>\n     <use x=\"1659.318359\" xlink:href=\"#DejaVuSans-32\"/>\n     <use x=\"1691.105469\" xlink:href=\"#DejaVuSans-101\"/>\n     <use x=\"1750.878906\" xlink:href=\"#DejaVuSans-120\"/>\n     <use x=\"1810.058594\" xlink:href=\"#DejaVuSans-97\"/>\n     <use x=\"1871.337891\" xlink:href=\"#DejaVuSans-109\"/>\n     <use x=\"1968.75\" xlink:href=\"#DejaVuSans-112\"/>\n     <use x=\"2032.226562\" xlink:href=\"#DejaVuSans-108\"/>\n     <use x=\"2060.009766\" xlink:href=\"#DejaVuSans-101\"/>\n    </g>\n   </g>\n   <g id=\"legend_1\">\n    <g id=\"patch_7\">\n     <path d=\"M 76.803125 153.218125 \nL 232.08125 153.218125 \nQ 234.08125 153.218125 234.08125 151.218125 \nL 234.08125 137.54 \nQ 234.08125 135.54 232.08125 135.54 \nL 76.803125 135.54 \nQ 74.803125 135.54 74.803125 137.54 \nL 74.803125 151.218125 \nQ 74.803125 153.218125 76.803125 153.218125 \nz\n\" style=\"fill:#ffffff;opacity:0.8;stroke:#cccccc;stroke-linejoin:miter;\"/>\n    </g>\n    <g id=\"line2d_15\">\n     <path d=\"M 78.803125 143.638437 \nL 98.803125 143.638437 \n\" style=\"fill:none;stroke:#ff8c00;stroke-linecap:square;stroke-width:2;\"/>\n    </g>\n    <g id=\"line2d_16\"/>\n    <g id=\"text_16\">\n     <!-- ROC curve (area = 0.75) -->\n     <defs>\n      <path d=\"M 39.40625 66.21875 \nQ 28.65625 66.21875 22.328125 58.203125 \nQ 16.015625 50.203125 16.015625 36.375 \nQ 16.015625 22.609375 22.328125 14.59375 \nQ 28.65625 6.59375 39.40625 6.59375 \nQ 50.140625 6.59375 56.421875 14.59375 \nQ 62.703125 22.609375 62.703125 36.375 \nQ 62.703125 50.203125 56.421875 58.203125 \nQ 50.140625 66.21875 39.40625 66.21875 \nz\nM 39.40625 74.21875 \nQ 54.734375 74.21875 63.90625 63.9375 \nQ 73.09375 53.65625 73.09375 36.375 \nQ 73.09375 19.140625 63.90625 8.859375 \nQ 54.734375 -1.421875 39.40625 -1.421875 \nQ 24.03125 -1.421875 14.8125 8.828125 \nQ 5.609375 19.09375 5.609375 36.375 \nQ 5.609375 53.65625 14.8125 63.9375 \nQ 24.03125 74.21875 39.40625 74.21875 \nz\n\" id=\"DejaVuSans-79\"/>\n      <path d=\"M 64.40625 67.28125 \nL 64.40625 56.890625 \nQ 59.421875 61.53125 53.78125 63.8125 \nQ 48.140625 66.109375 41.796875 66.109375 \nQ 29.296875 66.109375 22.65625 58.46875 \nQ 16.015625 50.828125 16.015625 36.375 \nQ 16.015625 21.96875 22.65625 14.328125 \nQ 29.296875 6.6875 41.796875 6.6875 \nQ 48.140625 6.6875 53.78125 8.984375 \nQ 59.421875 11.28125 64.40625 15.921875 \nL 64.40625 5.609375 \nQ 59.234375 2.09375 53.4375 0.328125 \nQ 47.65625 -1.421875 41.21875 -1.421875 \nQ 24.65625 -1.421875 15.125 8.703125 \nQ 5.609375 18.84375 5.609375 36.375 \nQ 5.609375 53.953125 15.125 64.078125 \nQ 24.65625 74.21875 41.21875 74.21875 \nQ 47.75 74.21875 53.53125 72.484375 \nQ 59.328125 70.75 64.40625 67.28125 \nz\n\" id=\"DejaVuSans-67\"/>\n      <path d=\"M 31 75.875 \nQ 24.46875 64.65625 21.28125 53.65625 \nQ 18.109375 42.671875 18.109375 31.390625 \nQ 18.109375 20.125 21.3125 9.0625 \nQ 24.515625 -2 31 -13.1875 \nL 23.1875 -13.1875 \nQ 15.875 -1.703125 12.234375 9.375 \nQ 8.59375 20.453125 8.59375 31.390625 \nQ 8.59375 42.28125 12.203125 53.3125 \nQ 15.828125 64.359375 23.1875 75.875 \nz\n\" id=\"DejaVuSans-40\"/>\n      <path d=\"M 10.59375 45.40625 \nL 73.1875 45.40625 \nL 73.1875 37.203125 \nL 10.59375 37.203125 \nz\nM 10.59375 25.484375 \nL 73.1875 25.484375 \nL 73.1875 17.1875 \nL 10.59375 17.1875 \nz\n\" id=\"DejaVuSans-61\"/>\n      <path d=\"M 8.203125 72.90625 \nL 55.078125 72.90625 \nL 55.078125 68.703125 \nL 28.609375 0 \nL 18.3125 0 \nL 43.21875 64.59375 \nL 8.203125 64.59375 \nz\n\" id=\"DejaVuSans-55\"/>\n      <path d=\"M 10.796875 72.90625 \nL 49.515625 72.90625 \nL 49.515625 64.59375 \nL 19.828125 64.59375 \nL 19.828125 46.734375 \nQ 21.96875 47.46875 24.109375 47.828125 \nQ 26.265625 48.1875 28.421875 48.1875 \nQ 40.625 48.1875 47.75 41.5 \nQ 54.890625 34.8125 54.890625 23.390625 \nQ 54.890625 11.625 47.5625 5.09375 \nQ 40.234375 -1.421875 26.90625 -1.421875 \nQ 22.3125 -1.421875 17.546875 -0.640625 \nQ 12.796875 0.140625 7.71875 1.703125 \nL 7.71875 11.625 \nQ 12.109375 9.234375 16.796875 8.0625 \nQ 21.484375 6.890625 26.703125 6.890625 \nQ 35.15625 6.890625 40.078125 11.328125 \nQ 45.015625 15.765625 45.015625 23.390625 \nQ 45.015625 31 40.078125 35.4375 \nQ 35.15625 39.890625 26.703125 39.890625 \nQ 22.75 39.890625 18.8125 39.015625 \nQ 14.890625 38.140625 10.796875 36.28125 \nz\n\" id=\"DejaVuSans-53\"/>\n      <path d=\"M 8.015625 75.875 \nL 15.828125 75.875 \nQ 23.140625 64.359375 26.78125 53.3125 \nQ 30.421875 42.28125 30.421875 31.390625 \nQ 30.421875 20.453125 26.78125 9.375 \nQ 23.140625 -1.703125 15.828125 -13.1875 \nL 8.015625 -13.1875 \nQ 14.5 -2 17.703125 9.0625 \nQ 20.90625 20.125 20.90625 31.390625 \nQ 20.90625 42.671875 17.703125 53.65625 \nQ 14.5 64.65625 8.015625 75.875 \nz\n\" id=\"DejaVuSans-41\"/>\n     </defs>\n     <g transform=\"translate(106.803125 147.138437)scale(0.1 -0.1)\">\n      <use xlink:href=\"#DejaVuSans-82\"/>\n      <use x=\"69.482422\" xlink:href=\"#DejaVuSans-79\"/>\n      <use x=\"148.193359\" xlink:href=\"#DejaVuSans-67\"/>\n      <use x=\"218.017578\" xlink:href=\"#DejaVuSans-32\"/>\n      <use x=\"249.804688\" xlink:href=\"#DejaVuSans-99\"/>\n      <use x=\"304.785156\" xlink:href=\"#DejaVuSans-117\"/>\n      <use x=\"368.164062\" xlink:href=\"#DejaVuSans-114\"/>\n      <use x=\"409.277344\" xlink:href=\"#DejaVuSans-118\"/>\n      <use x=\"468.457031\" xlink:href=\"#DejaVuSans-101\"/>\n      <use x=\"529.980469\" xlink:href=\"#DejaVuSans-32\"/>\n      <use x=\"561.767578\" xlink:href=\"#DejaVuSans-40\"/>\n      <use x=\"600.78125\" xlink:href=\"#DejaVuSans-97\"/>\n      <use x=\"662.060547\" xlink:href=\"#DejaVuSans-114\"/>\n      <use x=\"700.923828\" xlink:href=\"#DejaVuSans-101\"/>\n      <use x=\"762.447266\" xlink:href=\"#DejaVuSans-97\"/>\n      <use x=\"823.726562\" xlink:href=\"#DejaVuSans-32\"/>\n      <use x=\"855.513672\" xlink:href=\"#DejaVuSans-61\"/>\n      <use x=\"939.302734\" xlink:href=\"#DejaVuSans-32\"/>\n      <use x=\"971.089844\" xlink:href=\"#DejaVuSans-48\"/>\n      <use x=\"1034.712891\" xlink:href=\"#DejaVuSans-46\"/>\n      <use x=\"1066.5\" xlink:href=\"#DejaVuSans-55\"/>\n      <use x=\"1130.123047\" xlink:href=\"#DejaVuSans-53\"/>\n      <use x=\"1193.746094\" xlink:href=\"#DejaVuSans-41\"/>\n     </g>\n    </g>\n   </g>\n  </g>\n </g>\n <defs>\n  <clipPath id=\"pcd424e638e\">\n   <rect height=\"135.9\" width=\"195.3\" x=\"43.78125\" y=\"22.318125\"/>\n  </clipPath>\n </defs>\n</svg>\n"
          },
          "metadata": {
            "tags": [],
            "needs_background": "light"
          }
        }
      ]
    },
    {
      "cell_type": "code",
      "metadata": {
        "id": "lC8CzoEB52GH",
        "colab_type": "code",
        "colab": {}
      },
      "source": [
        ""
      ],
      "execution_count": null,
      "outputs": []
    }
  ]
}