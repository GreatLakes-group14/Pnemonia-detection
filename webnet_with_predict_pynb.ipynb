{
  "nbformat": 4,
  "nbformat_minor": 0,
  "metadata": {
    "colab": {
      "name": "webnet_with_predict.pynb",
      "provenance": [],
      "collapsed_sections": []
    },
    "kernelspec": {
      "name": "python3",
      "display_name": "Python 3"
    },
    "accelerator": "GPU"
  },
  "cells": [
    {
      "cell_type": "markdown",
      "metadata": {
        "id": "uchr9dpESTNJ",
        "colab_type": "text"
      },
      "source": [
        "# Installing/Importing the required libraries"
      ]
    },
    {
      "cell_type": "code",
      "metadata": {
        "id": "o6OcKJgeeQ8p",
        "colab_type": "code",
        "colab": {}
      },
      "source": [
        "#!apt-get install openslide-tools"
      ],
      "execution_count": null,
      "outputs": []
    },
    {
      "cell_type": "code",
      "metadata": {
        "id": "q5Deak7ceVh6",
        "colab_type": "code",
        "colab": {
          "base_uri": "https://localhost:8080/",
          "height": 34
        },
        "outputId": "5a6fbbfc-a6b7-4b9c-ebb8-3aa7f200f160"
      },
      "source": [
        "pip install pydicom"
      ],
      "execution_count": null,
      "outputs": [
        {
          "output_type": "stream",
          "text": [
            "Requirement already satisfied: pydicom in /usr/local/lib/python3.6/dist-packages (2.0.0)\n"
          ],
          "name": "stdout"
        }
      ]
    },
    {
      "cell_type": "markdown",
      "metadata": {
        "id": "sDUUBKphhaup",
        "colab_type": "text"
      },
      "source": [
        "Train and test datasets have DICOM images. Therefore this library is used.\n"
      ]
    },
    {
      "cell_type": "code",
      "metadata": {
        "id": "9JsW-ob-eWKd",
        "colab_type": "code",
        "colab": {}
      },
      "source": [
        "#!apt-get install python3-openslide\n"
      ],
      "execution_count": null,
      "outputs": []
    },
    {
      "cell_type": "code",
      "metadata": {
        "id": "B7PVL9cyfIGv",
        "colab_type": "code",
        "colab": {
          "base_uri": "https://localhost:8080/",
          "height": 34
        },
        "outputId": "8eecbbb4-267a-4c59-8792-cffe4cc9f537"
      },
      "source": [
        "!pip install openslide-python"
      ],
      "execution_count": null,
      "outputs": [
        {
          "output_type": "stream",
          "text": [
            "Requirement already satisfied: openslide-python in /usr/lib/python3/dist-packages (1.1.1)\n"
          ],
          "name": "stdout"
        }
      ]
    },
    {
      "cell_type": "code",
      "metadata": {
        "id": "EZFxByyffQEd",
        "colab_type": "code",
        "colab": {
          "base_uri": "https://localhost:8080/",
          "height": 71
        },
        "outputId": "cc7a8584-3f6d-4017-c886-de4872914453"
      },
      "source": [
        "#Importing necessary libraries\n",
        "import pylab\n",
        "import csv\n",
        "import random\n",
        "from skimage import measure\n",
        "from skimage.transform import resize\n",
        "\n",
        "import tensorflow as tf\n",
        "from tensorflow import keras\n",
        "import skimage.exposure\n",
        "\n",
        "import pandas as pd \n",
        "import numpy as np\n",
        "import matplotlib\n",
        "import matplotlib.pyplot as plt\n",
        "from tqdm import tqdm_notebook\n",
        "from matplotlib.patches import Rectangle\n",
        "import seaborn as sns\n",
        "import pydicom \n",
        "%matplotlib inline \n",
        "import os\n",
        "import glob\n",
        "import warnings\n",
        "import multiprocessing\n",
        "from skimage import morphology\n",
        "from skimage import feature\n",
        "from skimage import measure\n",
        "from skimage import util\n",
        "from skimage import transform\n",
        "from google.colab import drive\n",
        "from tensorflow.keras.losses import binary_crossentropy\n",
        "from tensorflow.keras.backend import log, epsilon\n",
        "import sklearn\n",
        "from sklearn.metrics import precision_recall_curve\n",
        "from sklearn import metrics\n",
        "\n",
        "warnings.filterwarnings('ignore')\n"
      ],
      "execution_count": null,
      "outputs": [
        {
          "output_type": "stream",
          "text": [
            "/usr/local/lib/python3.6/dist-packages/statsmodels/tools/_testing.py:19: FutureWarning: pandas.util.testing is deprecated. Use the functions in the public API at pandas.testing instead.\n",
            "  import pandas.util.testing as tm\n"
          ],
          "name": "stderr"
        }
      ]
    },
    {
      "cell_type": "markdown",
      "metadata": {
        "id": "C2hQZJeoSd3e",
        "colab_type": "text"
      },
      "source": [
        "# Mounting the Drive"
      ]
    },
    {
      "cell_type": "code",
      "metadata": {
        "id": "aGUlLvNefXJr",
        "colab_type": "code",
        "colab": {
          "base_uri": "https://localhost:8080/",
          "height": 122
        },
        "outputId": "69c81a5c-4635-445a-bb6c-ede4b0ed2282"
      },
      "source": [
        "#Mounting the drive\n",
        "drive.mount('/content/drive/')"
      ],
      "execution_count": null,
      "outputs": [
        {
          "output_type": "stream",
          "text": [
            "Go to this URL in a browser: https://accounts.google.com/o/oauth2/auth?client_id=947318989803-6bn6qk8qdgf4n4g3pfee6491hc0brc4i.apps.googleusercontent.com&redirect_uri=urn%3aietf%3awg%3aoauth%3a2.0%3aoob&response_type=code&scope=email%20https%3a%2f%2fwww.googleapis.com%2fauth%2fdocs.test%20https%3a%2f%2fwww.googleapis.com%2fauth%2fdrive%20https%3a%2f%2fwww.googleapis.com%2fauth%2fdrive.photos.readonly%20https%3a%2f%2fwww.googleapis.com%2fauth%2fpeopleapi.readonly\n",
            "\n",
            "Enter your authorization code:\n",
            "··········\n",
            "Mounted at /content/drive/\n"
          ],
          "name": "stdout"
        }
      ]
    },
    {
      "cell_type": "code",
      "metadata": {
        "id": "rrJn2AX9fbt8",
        "colab_type": "code",
        "colab": {}
      },
      "source": [
        "#Set the project path \n",
        "project_path = '/content/drive/My Drive/AIML/Datasets/'\n",
        "os.chdir(project_path)"
      ],
      "execution_count": null,
      "outputs": []
    },
    {
      "cell_type": "code",
      "metadata": {
        "id": "lly1LWlbfr78",
        "colab_type": "code",
        "colab": {}
      },
      "source": [
        "#Loading the images\n",
        "images_path = (\"/content/drive/My Drive/AIML/Datasets/stage_2_train_images\")\n",
        "#images_path = (\"/content/drive/My Drive/AIML/Datasets/filtered_train_images\")"
      ],
      "execution_count": null,
      "outputs": []
    },
    {
      "cell_type": "markdown",
      "metadata": {
        "id": "7ulpRJ0qSjXa",
        "colab_type": "text"
      },
      "source": [
        "# Pre-Processing"
      ]
    },
    {
      "cell_type": "markdown",
      "metadata": {
        "id": "eYOTtNmRSsex",
        "colab_type": "text"
      },
      "source": [
        "**Create a list of files with positive pneumonia cases**"
      ]
    },
    {
      "cell_type": "code",
      "metadata": {
        "id": "quXe545if-7I",
        "colab_type": "code",
        "colab": {}
      },
      "source": [
        "##Scan the entire list of files in the CSV and fetch the filenames with positive pneumonia cases. \n",
        "##Create their list along with the locations of the bounding boxes.\n",
        "\n",
        "# empty dictionary\n",
        "nodule_locations = {}\n",
        "# load table\n",
        "with open(os.path.join(\"/content/drive/My Drive/AIML/Datasets/stage_2_train_labels.csv\"), mode='r') as infile:\n",
        "    reader = csv.reader(infile)\n",
        "    # skip header\n",
        "    next(reader, None)\n",
        "\n",
        "    for rows in reader:\n",
        "        filename = rows[0]\n",
        "        location = rows[1:5]\n",
        "        nodule = rows[5]\n",
        "        # if row contains a nodule add label to dictionary\n",
        "        # which contains a list of nodule locations per filename\n",
        "        if nodule == '1':\n",
        "            # convert string to float to int\n",
        "            location = [int(float(i)) for i in location]\n",
        "            # save nodule location in dictionary\n",
        "            if filename in nodule_locations:\n",
        "                nodule_locations[filename].append(location)\n",
        "            else:\n",
        "                nodule_locations[filename] = [location]"
      ],
      "execution_count": null,
      "outputs": []
    },
    {
      "cell_type": "markdown",
      "metadata": {
        "id": "gC_F5UehTeof",
        "colab_type": "text"
      },
      "source": [
        "# Create the Train, Validation and Test data"
      ]
    },
    {
      "cell_type": "code",
      "metadata": {
        "id": "GDPvNOF8zGgf",
        "colab_type": "code",
        "colab": {
          "base_uri": "https://localhost:8080/",
          "height": 51
        },
        "outputId": "b331a4e5-e238-436c-be05-368ea1e8c2d1"
      },
      "source": [
        "folder = \"/content/drive/My Drive/AIML/Datasets/stage_2_train_images\"\n",
        "filenames = os.listdir(folder)\n",
        "random.shuffle(filenames)\n",
        "# split into train and validation filenames\n",
        "n_valid_samples = 2000\n",
        "test_samples = 1000\n",
        "train_filenames = filenames[n_valid_samples+test_samples:]\n",
        "valid_filenames = filenames[test_samples:n_valid_samples+test_samples]\n",
        "test_filenames = filenames[:test_samples]\n",
        "print('n train samples', len(train_filenames))\n",
        "print('n valid samples', len(valid_filenames))\n",
        "n_train_samples = len(filenames) - n_valid_samples - test_samples"
      ],
      "execution_count": null,
      "outputs": [
        {
          "output_type": "stream",
          "text": [
            "n train samples 23733\n",
            "n valid samples 2000\n"
          ],
          "name": "stdout"
        }
      ]
    },
    {
      "cell_type": "markdown",
      "metadata": {
        "id": "b_-bnA9vUciJ",
        "colab_type": "text"
      },
      "source": [
        "# Define Generator"
      ]
    },
    {
      "cell_type": "code",
      "metadata": {
        "id": "PItWrTYygPhZ",
        "colab_type": "code",
        "colab": {}
      },
      "source": [
        "class generator(keras.utils.Sequence):\n",
        "    \n",
        "    def __init__(self, folder, filenames, nodule_locations=None, batch_size=32, image_size=128, shuffle=True, predict=False):\n",
        "        self.folder = folder\n",
        "        self.filenames = filenames\n",
        "        self.nodule_locations = nodule_locations\n",
        "        self.batch_size = batch_size\n",
        "        self.image_size = image_size\n",
        "        self.shuffle = shuffle\n",
        "        self.predict = predict\n",
        "        self.on_epoch_end()\n",
        "        \n",
        "    def __load__(self, filename):\n",
        "        # load dicom file as numpy array\n",
        "        img = pydicom.dcmread(os.path.join(self.folder, filename)).pixel_array\n",
        "        # create empty mask\n",
        "        #msk = np.zeros(img.shape)\n",
        "        # get filename without extension\n",
        "        filename = filename.split('.')[0]\n",
        "        # if image contains nodules\n",
        "        if filename in nodule_locations:\n",
        "            # loop through nodules\n",
        "            pneumonia=1\n",
        "        else:\n",
        "            pneumonia=0\n",
        "                \n",
        "        # resize both image and mask\n",
        "        img = resize(img, (self.image_size, self.image_size), mode='reflect')\n",
        "        #msk = resize(msk, (self.image_size, self.image_size), mode='reflect') > 0.5\n",
        "        # add trailing channel dimension\n",
        "        img = np.expand_dims(img, -1)\n",
        "        #msk = np.expand_dims(msk, -1)\n",
        "        return img,pneumonia # ,msk\n",
        "    \n",
        "    def __loadpredict__(self, filename):\n",
        "        # load dicom file as numpy array\n",
        "        img = pydicom.dcmread(os.path.join(self.folder, filename)).pixel_array\n",
        "        # resize image\n",
        "        img = resize(img, (self.image_size, self.image_size), mode='reflect')\n",
        "        # add trailing channel dimension\n",
        "        img = np.expand_dims(img, -1)\n",
        "        return img\n",
        "        \n",
        "    def __getitem__(self, index):\n",
        "        # select batch\n",
        "        filenames = self.filenames[index*self.batch_size:(index+1)*self.batch_size]\n",
        "        # predict mode: return images and filenames\n",
        "        if self.predict:\n",
        "            # load files\n",
        "            imgs = [self.__loadpredict__(filename) for filename in filenames]\n",
        "            # create numpy batch\n",
        "            imgs = np.array(imgs)\n",
        "            return imgs, filenames\n",
        "        # train mode: return images and masks\n",
        "        else:\n",
        "            # load files\n",
        "            items = [self.__load__(filename) for filename in filenames]\n",
        "            # unzip images and masks\n",
        "            imgs, pneumonia = zip(*items)\n",
        "            \n",
        "            # create numpy batch\n",
        "            imgs = np.array(imgs)\n",
        "            #imgs= [skimage.transform.resize(imgs, (128,128,1))]   \n",
        "            pneumonia = np.array(pneumonia)\n",
        "            #pneumonia=pneumonia.reshape(16,1,1,1)\n",
        "            return imgs,pneumonia #, msks\n",
        "        \n",
        "    def on_epoch_end(self):\n",
        "        if self.shuffle:\n",
        "            random.shuffle(self.filenames)\n",
        "        \n",
        "    def __len__(self):\n",
        "        if self.predict:\n",
        "            # return everything\n",
        "            return int(np.ceil(len(self.filenames) / self.batch_size))\n",
        "        else:\n",
        "            # return full batches only\n",
        "            return int(len(self.filenames) / self.batch_size)"
      ],
      "execution_count": null,
      "outputs": []
    },
    {
      "cell_type": "markdown",
      "metadata": {
        "id": "MPhUWGibI0uc",
        "colab_type": "text"
      },
      "source": [
        "**Create Train and Validation Generators**"
      ]
    },
    {
      "cell_type": "code",
      "metadata": {
        "id": "u9j3KVVhgXsg",
        "colab_type": "code",
        "colab": {}
      },
      "source": [
        "# create train and validation generators\n",
        "folder = \"/content/drive/My Drive/AIML/Datasets/stage_2_train_images\"\n",
        "train_gen = generator(folder, train_filenames, nodule_locations, batch_size=16, image_size=128, shuffle=True, predict=False)\n",
        "valid_gen = generator(folder, valid_filenames, nodule_locations, batch_size=16, image_size=128, shuffle=False, predict=False)"
      ],
      "execution_count": null,
      "outputs": []
    },
    {
      "cell_type": "markdown",
      "metadata": {
        "id": "YiIpINEMUkUe",
        "colab_type": "text"
      },
      "source": [
        "# Build the Model"
      ]
    },
    {
      "cell_type": "code",
      "metadata": {
        "id": "SFoE0CKH-Qb0",
        "colab_type": "code",
        "colab": {}
      },
      "source": [
        "def identity_block(inputs,kernel_size,filters):    \n",
        "    filters1, filters2, filters3 = filters\n",
        "    \n",
        "    x = keras.layers.Conv2D(filters1, (1, 1)) (inputs)\n",
        "    x = keras.layers.BatchNormalization()(x)\n",
        "    x = keras.layers.ReLU()(x)\n",
        "\n",
        "    x = keras.layers.Conv2D(filters2, kernel_size,\n",
        "               padding='same')(x)\n",
        "    x = keras.layers.BatchNormalization()(x)\n",
        "    x = keras.layers.ReLU()(x)\n",
        "\n",
        "    x =keras.layers.Conv2D(filters3, (1, 1))(x)\n",
        "    x = keras.layers.BatchNormalization()(x)\n",
        "\n",
        "    x = keras.layers.add([x, inputs])\n",
        "    x = keras.layers.ReLU()(x)\n",
        "    return x"
      ],
      "execution_count": null,
      "outputs": []
    },
    {
      "cell_type": "code",
      "metadata": {
        "id": "TTOFoarmgy-f",
        "colab_type": "code",
        "colab": {}
      },
      "source": [
        "def webnet(input_size):\n",
        "    inputs= keras.Input(shape=(input_size, input_size, 1))\n",
        "    conv1 = keras.layers.Conv2D(64, (3, 3), activation='relu',padding='same')(inputs)\n",
        "    #conv1 = Dropout(0.5)(conv1)\n",
        "    conv1 = keras.layers.BatchNormalization()(conv1)\n",
        "    conv1 = keras.layers.Conv2D(64, (3, 3), activation='relu', padding='same')(conv1)\n",
        "    #conv1 = Dropout(0.5)(conv1)\n",
        "    conv1 = keras.layers.BatchNormalization()(conv1)\n",
        "    pool1 = keras.layers.MaxPooling2D(pool_size=(2, 2))(conv1)\n",
        "\n",
        "    \n",
        "    conv2=identity_block(pool1,3,[64,64,64])\n",
        "    #conv2 = Dropout(0.5)(conv2)\n",
        "    conv2 = identity_block(conv2,3,[64,64,64])\n",
        "    pool2 = keras.layers.MaxPooling2D(pool_size=(2, 2))(conv2)\n",
        "\n",
        "    conv3 = identity_block(pool2,3,[32,32,64])\n",
        "    #conv3 = Dropout(0.5)(conv3)\n",
        "    conv3 = identity_block(conv3,3,[32,32,64])\n",
        "    pool3 = keras.layers.MaxPooling2D(pool_size=(2, 2))(conv3)\n",
        "\n",
        "    conv4 = identity_block(pool3,3,[32,32,64])\n",
        "    #conv4 = Dropout(0.5)(conv4)\n",
        "    conv4 = identity_block(conv4,3,[32,32,64])\n",
        "    pool4 = keras.layers.MaxPooling2D(pool_size=(2, 2))(conv4)\n",
        "\n",
        "    conv5 = identity_block(pool4,3,[32,32,64])\n",
        "    #conv5 = Dropout(0.5)(conv5)\n",
        "    conv5 = identity_block(conv5,3,[32,32,64])\n",
        "    conv5 = identity_block(conv5,3,[32,32,64])\n",
        "\n",
        "    up6 = keras.layers.Concatenate(axis=-1)([keras.layers.UpSampling2D(size=(2, 2))(conv5), conv4])\n",
        "    conv6 = keras.layers.Conv2D(64, (3, 3), activation='relu',padding='same')(up6)\n",
        "    conv6 = identity_block(conv6,3,[32,32,64])\n",
        "    #conv6 = Dropout(0.5)(conv6)\n",
        "    conv6 = identity_block(conv6,3,[32,32,64])\n",
        "\n",
        "    up7 = keras.layers.Concatenate(axis=-1)([keras.layers.UpSampling2D(size=(2, 2))(conv6), conv3])\n",
        "    conv7 = keras.layers.Conv2D(64, (3, 3), activation='relu',padding='same')(up7)\n",
        "    conv7 = identity_block(conv7,3,[32,32,64])\n",
        "    #conv7 = Dropout(0.5)(conv7)\n",
        "    conv7 = identity_block(conv7,3,[32,32,64])\n",
        "    pool7 = keras.layers.MaxPooling2D(pool_size=(2, 2))(conv7)\n",
        "\n",
        "    concat8 = keras.layers.Concatenate(axis=-1)([pool7, conv6])\n",
        "    conv8 = keras.layers.Conv2D(64, (3, 3), activation='relu',padding='same')(concat8)\n",
        "    conv8 = identity_block(conv8,3,[32,32,64])\n",
        "    #conv8 = Dropout(0.5)(conv8)\n",
        "    conv8 = identity_block(conv8,3,[32,32,64])\n",
        "    pool8 = keras.layers.MaxPooling2D(pool_size=(2, 2))(conv8)\n",
        "\n",
        "    concat9 =keras.layers.Concatenate()([pool8, conv5])\n",
        "    conv9 = keras.layers.Conv2D(64, (3, 3), activation='relu',padding='same')(concat9)\n",
        "    conv9 = identity_block(conv9,3,[32,32,64])\n",
        "    #conv9 = Dropout(0.5)(conv9)\n",
        "    conv9 = identity_block(conv9,3,[32,32,64])\n",
        "    #conv9 = Dropout(0.5)(conv9)\n",
        "       \n",
        "    up10 = keras.layers.Concatenate(axis=-1)([keras.layers.UpSampling2D(size=(2, 2))(conv9), conv8])\n",
        "    conv10 = keras.layers.Conv2D(64, (3, 3), activation='relu',padding='same')(up10)\n",
        "    conv10 = identity_block(conv10,3,[32,32,64])\n",
        "    #conv10 = Dropout(0.5)(conv6)\n",
        "    conv10 = identity_block(conv10,3,[32,32,64])\n",
        "    \n",
        "    up11 = keras.layers.Concatenate(axis=-1)([keras.layers.UpSampling2D(size=(2, 2))(conv10), conv7])\n",
        "    conv11 = keras.layers.Conv2D(64, (3, 3), activation='relu',padding='same')(up11)\n",
        "    conv11 =identity_block(conv11,3,[32,32,64])\n",
        "    #conv11 = Dropout(0.5)(conv11)\n",
        "    conv11 = identity_block(conv11,3,[32,32,64])\n",
        "    pool11 = keras.layers.MaxPooling2D(pool_size=(2, 2))(conv11)\n",
        "    \n",
        "    concat12 = keras.layers.Concatenate()([pool11, conv10])\n",
        "    conv12 = keras.layers.Conv2D(64, (3, 3), activation='relu',padding='same')(concat12)\n",
        "    conv12 = identity_block(conv12,3,[32,32,64])\n",
        "    #conv12 = Dropout(0.5)(conv12)\n",
        "    conv12 = identity_block(conv12,3,[32,32,64])\n",
        "    pool12 = keras.layers.MaxPooling2D(pool_size=(2, 2))(conv12)\n",
        "    \n",
        "    concat13 = keras.layers.Concatenate(axis=-1)([pool12, conv9])\n",
        "    conv13 = keras.layers.Conv2D(64, (3, 3), activation='relu',padding='same')(concat13)\n",
        "    conv13 = identity_block(conv13,3,[32,32,64])\n",
        "    #conv13 = Dropout(0.5)(conv13)\n",
        "    conv13 = identity_block(conv13,3,[32,32,64])\n",
        "     \n",
        "    up14 = keras.layers.Concatenate(axis=-1)([keras.layers.UpSampling2D(size=(2, 2))(conv13), conv12])\n",
        "    conv14 = keras.layers.Conv2D(64, (3, 3), activation='relu',padding='same')(up14)\n",
        "    conv14 = identity_block(conv14,3,[32,32,64])\n",
        "    conv14 = identity_block(conv14,3,[32,32,64])\n",
        "    \n",
        "    up15 = keras.layers.Concatenate(axis=-1)([keras.layers.UpSampling2D(size=(2, 2))(conv14), conv11])\n",
        "    conv15 = keras.layers.Conv2D(64, (3, 3), activation='relu',padding='same')(up15)\n",
        "    conv15 = identity_block(conv15,3,[32,32,64])\n",
        "    #conv15 = Dropout(0.5)(conv15)\n",
        "    conv15 = identity_block(conv15,3,[32,32,64])\n",
        "    \n",
        "    up16 = keras.layers.Concatenate(axis=-1)([keras.layers.UpSampling2D(size=(2, 2))(conv15), conv2])\n",
        "    conv16 = keras.layers.Conv2D(64, (3, 3), activation='relu',padding='same')(up16)\n",
        "    conv16 = identity_block(conv16,3,[32,32,64])\n",
        "    #conv16 = Dropout(0.5)(conv16)\n",
        "    conv16 = identity_block(conv16,3,[32,32,64])\n",
        "    \n",
        "    up17 = keras.layers.Concatenate(axis=-1)([keras.layers.UpSampling2D(size=(2, 2))(conv16), conv1])\n",
        "    conv17 = keras.layers.Conv2D(64, (3, 3), activation='relu',padding='same')(up17)\n",
        "    conv17 = identity_block(conv17,3,[32,32,64])\n",
        "    #conv17 = Dropout(0.5)(conv17)\n",
        "    #conv17 = AveragePooling2D((7, 7))(conv17)\n",
        "    conv17 = keras.layers.Conv2D(1, (1, 1), activation='sigmoid', padding='same')(conv17)\n",
        "    flat1=keras.layers.Flatten()(conv17)\n",
        "    dense1= keras.layers.Dense(1, activation='sigmoid')(flat1)\n",
        "    model = keras.Model(inputs=inputs, outputs=dense1)\n",
        "\n",
        "    return model"
      ],
      "execution_count": null,
      "outputs": []
    },
    {
      "cell_type": "code",
      "metadata": {
        "id": "qEOnWVtUq8jc",
        "colab_type": "code",
        "colab": {}
      },
      "source": [
        "def iou_loss(y_true, y_pred):\n",
        "    y_true = tf.reshape(y_true, [-1])\n",
        "    y_pred = tf.reshape(y_pred, [-1])\n",
        "    intersection = tf.reduce_sum(y_true * y_pred)\n",
        "    score = (intersection + 1.) / (tf.reduce_sum(y_true) + tf.reduce_sum(y_pred) - intersection + 1.)\n",
        "    return 1 - score"
      ],
      "execution_count": null,
      "outputs": []
    },
    {
      "cell_type": "code",
      "metadata": {
        "id": "pDP0_g-_eYfP",
        "colab_type": "code",
        "colab": {}
      },
      "source": [
        "# combine bce loss and iou loss\n",
        "def iou_bce_loss(y_true, y_pred):\n",
        "    return 0.5 * keras.losses.binary_crossentropy(y_true, y_pred) + 0.5 * iou_loss(y_true, y_pred)"
      ],
      "execution_count": null,
      "outputs": []
    },
    {
      "cell_type": "code",
      "metadata": {
        "id": "s-nVEBs4vCUs",
        "colab_type": "code",
        "colab": {}
      },
      "source": [
        "# mean iou as a metric\n",
        "def mean_iou_webnet(y_true, y_pred):\n",
        "    y_pred = tf.round(y_pred)\n",
        "    intersect = tf.reduce_sum(y_true * y_pred, axis=[1])\n",
        "    union = tf.reduce_sum(y_true, axis=[1]) + tf.reduce_sum(y_pred, axis=[1])\n",
        "    smooth = tf.ones(tf.shape(intersect))\n",
        "    return tf.reduce_mean((intersect + smooth) / (union - intersect + smooth))\n"
      ],
      "execution_count": null,
      "outputs": []
    },
    {
      "cell_type": "markdown",
      "metadata": {
        "id": "uDW78-ENUw8T",
        "colab_type": "text"
      },
      "source": [
        "# Compile the Model"
      ]
    },
    {
      "cell_type": "code",
      "metadata": {
        "id": "cbqb3LG8k7fR",
        "colab_type": "code",
        "colab": {}
      },
      "source": [
        "model_webnet = webnet(input_size=128)\n",
        "model_webnet.load_weights(\"/content/drive/My Drive/AIML/model.h5\")\n",
        "model_webnet.compile(optimizer='sgd',\n",
        "              loss='binary_crossentropy',\n",
        "              metrics=['accuracy',mean_iou_webnet])"
      ],
      "execution_count": null,
      "outputs": []
    },
    {
      "cell_type": "code",
      "metadata": {
        "id": "xUIRfbCphEZ7",
        "colab_type": "code",
        "colab": {
          "base_uri": "https://localhost:8080/",
          "height": 1000
        },
        "outputId": "7f3f6801-3080-47f8-f7cd-beef7bcde644"
      },
      "source": [
        "model_webnet.summary()"
      ],
      "execution_count": null,
      "outputs": [
        {
          "output_type": "stream",
          "text": [
            "Model: \"model\"\n",
            "__________________________________________________________________________________________________\n",
            "Layer (type)                    Output Shape         Param #     Connected to                     \n",
            "==================================================================================================\n",
            "input_1 (InputLayer)            [(None, 128, 128, 1) 0                                            \n",
            "__________________________________________________________________________________________________\n",
            "conv2d (Conv2D)                 (None, 128, 128, 64) 640         input_1[0][0]                    \n",
            "__________________________________________________________________________________________________\n",
            "batch_normalization (BatchNorma (None, 128, 128, 64) 256         conv2d[0][0]                     \n",
            "__________________________________________________________________________________________________\n",
            "conv2d_1 (Conv2D)               (None, 128, 128, 64) 36928       batch_normalization[0][0]        \n",
            "__________________________________________________________________________________________________\n",
            "batch_normalization_1 (BatchNor (None, 128, 128, 64) 256         conv2d_1[0][0]                   \n",
            "__________________________________________________________________________________________________\n",
            "max_pooling2d (MaxPooling2D)    (None, 64, 64, 64)   0           batch_normalization_1[0][0]      \n",
            "__________________________________________________________________________________________________\n",
            "conv2d_2 (Conv2D)               (None, 64, 64, 64)   4160        max_pooling2d[0][0]              \n",
            "__________________________________________________________________________________________________\n",
            "batch_normalization_2 (BatchNor (None, 64, 64, 64)   256         conv2d_2[0][0]                   \n",
            "__________________________________________________________________________________________________\n",
            "re_lu (ReLU)                    (None, 64, 64, 64)   0           batch_normalization_2[0][0]      \n",
            "__________________________________________________________________________________________________\n",
            "conv2d_3 (Conv2D)               (None, 64, 64, 64)   36928       re_lu[0][0]                      \n",
            "__________________________________________________________________________________________________\n",
            "batch_normalization_3 (BatchNor (None, 64, 64, 64)   256         conv2d_3[0][0]                   \n",
            "__________________________________________________________________________________________________\n",
            "re_lu_1 (ReLU)                  (None, 64, 64, 64)   0           batch_normalization_3[0][0]      \n",
            "__________________________________________________________________________________________________\n",
            "conv2d_4 (Conv2D)               (None, 64, 64, 64)   4160        re_lu_1[0][0]                    \n",
            "__________________________________________________________________________________________________\n",
            "batch_normalization_4 (BatchNor (None, 64, 64, 64)   256         conv2d_4[0][0]                   \n",
            "__________________________________________________________________________________________________\n",
            "add (Add)                       (None, 64, 64, 64)   0           batch_normalization_4[0][0]      \n",
            "                                                                 max_pooling2d[0][0]              \n",
            "__________________________________________________________________________________________________\n",
            "re_lu_2 (ReLU)                  (None, 64, 64, 64)   0           add[0][0]                        \n",
            "__________________________________________________________________________________________________\n",
            "conv2d_5 (Conv2D)               (None, 64, 64, 64)   4160        re_lu_2[0][0]                    \n",
            "__________________________________________________________________________________________________\n",
            "batch_normalization_5 (BatchNor (None, 64, 64, 64)   256         conv2d_5[0][0]                   \n",
            "__________________________________________________________________________________________________\n",
            "re_lu_3 (ReLU)                  (None, 64, 64, 64)   0           batch_normalization_5[0][0]      \n",
            "__________________________________________________________________________________________________\n",
            "conv2d_6 (Conv2D)               (None, 64, 64, 64)   36928       re_lu_3[0][0]                    \n",
            "__________________________________________________________________________________________________\n",
            "batch_normalization_6 (BatchNor (None, 64, 64, 64)   256         conv2d_6[0][0]                   \n",
            "__________________________________________________________________________________________________\n",
            "re_lu_4 (ReLU)                  (None, 64, 64, 64)   0           batch_normalization_6[0][0]      \n",
            "__________________________________________________________________________________________________\n",
            "conv2d_7 (Conv2D)               (None, 64, 64, 64)   4160        re_lu_4[0][0]                    \n",
            "__________________________________________________________________________________________________\n",
            "batch_normalization_7 (BatchNor (None, 64, 64, 64)   256         conv2d_7[0][0]                   \n",
            "__________________________________________________________________________________________________\n",
            "add_1 (Add)                     (None, 64, 64, 64)   0           batch_normalization_7[0][0]      \n",
            "                                                                 re_lu_2[0][0]                    \n",
            "__________________________________________________________________________________________________\n",
            "re_lu_5 (ReLU)                  (None, 64, 64, 64)   0           add_1[0][0]                      \n",
            "__________________________________________________________________________________________________\n",
            "max_pooling2d_1 (MaxPooling2D)  (None, 32, 32, 64)   0           re_lu_5[0][0]                    \n",
            "__________________________________________________________________________________________________\n",
            "conv2d_8 (Conv2D)               (None, 32, 32, 32)   2080        max_pooling2d_1[0][0]            \n",
            "__________________________________________________________________________________________________\n",
            "batch_normalization_8 (BatchNor (None, 32, 32, 32)   128         conv2d_8[0][0]                   \n",
            "__________________________________________________________________________________________________\n",
            "re_lu_6 (ReLU)                  (None, 32, 32, 32)   0           batch_normalization_8[0][0]      \n",
            "__________________________________________________________________________________________________\n",
            "conv2d_9 (Conv2D)               (None, 32, 32, 32)   9248        re_lu_6[0][0]                    \n",
            "__________________________________________________________________________________________________\n",
            "batch_normalization_9 (BatchNor (None, 32, 32, 32)   128         conv2d_9[0][0]                   \n",
            "__________________________________________________________________________________________________\n",
            "re_lu_7 (ReLU)                  (None, 32, 32, 32)   0           batch_normalization_9[0][0]      \n",
            "__________________________________________________________________________________________________\n",
            "conv2d_10 (Conv2D)              (None, 32, 32, 64)   2112        re_lu_7[0][0]                    \n",
            "__________________________________________________________________________________________________\n",
            "batch_normalization_10 (BatchNo (None, 32, 32, 64)   256         conv2d_10[0][0]                  \n",
            "__________________________________________________________________________________________________\n",
            "add_2 (Add)                     (None, 32, 32, 64)   0           batch_normalization_10[0][0]     \n",
            "                                                                 max_pooling2d_1[0][0]            \n",
            "__________________________________________________________________________________________________\n",
            "re_lu_8 (ReLU)                  (None, 32, 32, 64)   0           add_2[0][0]                      \n",
            "__________________________________________________________________________________________________\n",
            "conv2d_11 (Conv2D)              (None, 32, 32, 32)   2080        re_lu_8[0][0]                    \n",
            "__________________________________________________________________________________________________\n",
            "batch_normalization_11 (BatchNo (None, 32, 32, 32)   128         conv2d_11[0][0]                  \n",
            "__________________________________________________________________________________________________\n",
            "re_lu_9 (ReLU)                  (None, 32, 32, 32)   0           batch_normalization_11[0][0]     \n",
            "__________________________________________________________________________________________________\n",
            "conv2d_12 (Conv2D)              (None, 32, 32, 32)   9248        re_lu_9[0][0]                    \n",
            "__________________________________________________________________________________________________\n",
            "batch_normalization_12 (BatchNo (None, 32, 32, 32)   128         conv2d_12[0][0]                  \n",
            "__________________________________________________________________________________________________\n",
            "re_lu_10 (ReLU)                 (None, 32, 32, 32)   0           batch_normalization_12[0][0]     \n",
            "__________________________________________________________________________________________________\n",
            "conv2d_13 (Conv2D)              (None, 32, 32, 64)   2112        re_lu_10[0][0]                   \n",
            "__________________________________________________________________________________________________\n",
            "batch_normalization_13 (BatchNo (None, 32, 32, 64)   256         conv2d_13[0][0]                  \n",
            "__________________________________________________________________________________________________\n",
            "add_3 (Add)                     (None, 32, 32, 64)   0           batch_normalization_13[0][0]     \n",
            "                                                                 re_lu_8[0][0]                    \n",
            "__________________________________________________________________________________________________\n",
            "re_lu_11 (ReLU)                 (None, 32, 32, 64)   0           add_3[0][0]                      \n",
            "__________________________________________________________________________________________________\n",
            "max_pooling2d_2 (MaxPooling2D)  (None, 16, 16, 64)   0           re_lu_11[0][0]                   \n",
            "__________________________________________________________________________________________________\n",
            "conv2d_14 (Conv2D)              (None, 16, 16, 32)   2080        max_pooling2d_2[0][0]            \n",
            "__________________________________________________________________________________________________\n",
            "batch_normalization_14 (BatchNo (None, 16, 16, 32)   128         conv2d_14[0][0]                  \n",
            "__________________________________________________________________________________________________\n",
            "re_lu_12 (ReLU)                 (None, 16, 16, 32)   0           batch_normalization_14[0][0]     \n",
            "__________________________________________________________________________________________________\n",
            "conv2d_15 (Conv2D)              (None, 16, 16, 32)   9248        re_lu_12[0][0]                   \n",
            "__________________________________________________________________________________________________\n",
            "batch_normalization_15 (BatchNo (None, 16, 16, 32)   128         conv2d_15[0][0]                  \n",
            "__________________________________________________________________________________________________\n",
            "re_lu_13 (ReLU)                 (None, 16, 16, 32)   0           batch_normalization_15[0][0]     \n",
            "__________________________________________________________________________________________________\n",
            "conv2d_16 (Conv2D)              (None, 16, 16, 64)   2112        re_lu_13[0][0]                   \n",
            "__________________________________________________________________________________________________\n",
            "batch_normalization_16 (BatchNo (None, 16, 16, 64)   256         conv2d_16[0][0]                  \n",
            "__________________________________________________________________________________________________\n",
            "add_4 (Add)                     (None, 16, 16, 64)   0           batch_normalization_16[0][0]     \n",
            "                                                                 max_pooling2d_2[0][0]            \n",
            "__________________________________________________________________________________________________\n",
            "re_lu_14 (ReLU)                 (None, 16, 16, 64)   0           add_4[0][0]                      \n",
            "__________________________________________________________________________________________________\n",
            "conv2d_17 (Conv2D)              (None, 16, 16, 32)   2080        re_lu_14[0][0]                   \n",
            "__________________________________________________________________________________________________\n",
            "batch_normalization_17 (BatchNo (None, 16, 16, 32)   128         conv2d_17[0][0]                  \n",
            "__________________________________________________________________________________________________\n",
            "re_lu_15 (ReLU)                 (None, 16, 16, 32)   0           batch_normalization_17[0][0]     \n",
            "__________________________________________________________________________________________________\n",
            "conv2d_18 (Conv2D)              (None, 16, 16, 32)   9248        re_lu_15[0][0]                   \n",
            "__________________________________________________________________________________________________\n",
            "batch_normalization_18 (BatchNo (None, 16, 16, 32)   128         conv2d_18[0][0]                  \n",
            "__________________________________________________________________________________________________\n",
            "re_lu_16 (ReLU)                 (None, 16, 16, 32)   0           batch_normalization_18[0][0]     \n",
            "__________________________________________________________________________________________________\n",
            "conv2d_19 (Conv2D)              (None, 16, 16, 64)   2112        re_lu_16[0][0]                   \n",
            "__________________________________________________________________________________________________\n",
            "batch_normalization_19 (BatchNo (None, 16, 16, 64)   256         conv2d_19[0][0]                  \n",
            "__________________________________________________________________________________________________\n",
            "add_5 (Add)                     (None, 16, 16, 64)   0           batch_normalization_19[0][0]     \n",
            "                                                                 re_lu_14[0][0]                   \n",
            "__________________________________________________________________________________________________\n",
            "re_lu_17 (ReLU)                 (None, 16, 16, 64)   0           add_5[0][0]                      \n",
            "__________________________________________________________________________________________________\n",
            "max_pooling2d_3 (MaxPooling2D)  (None, 8, 8, 64)     0           re_lu_17[0][0]                   \n",
            "__________________________________________________________________________________________________\n",
            "conv2d_20 (Conv2D)              (None, 8, 8, 32)     2080        max_pooling2d_3[0][0]            \n",
            "__________________________________________________________________________________________________\n",
            "batch_normalization_20 (BatchNo (None, 8, 8, 32)     128         conv2d_20[0][0]                  \n",
            "__________________________________________________________________________________________________\n",
            "re_lu_18 (ReLU)                 (None, 8, 8, 32)     0           batch_normalization_20[0][0]     \n",
            "__________________________________________________________________________________________________\n",
            "conv2d_21 (Conv2D)              (None, 8, 8, 32)     9248        re_lu_18[0][0]                   \n",
            "__________________________________________________________________________________________________\n",
            "batch_normalization_21 (BatchNo (None, 8, 8, 32)     128         conv2d_21[0][0]                  \n",
            "__________________________________________________________________________________________________\n",
            "re_lu_19 (ReLU)                 (None, 8, 8, 32)     0           batch_normalization_21[0][0]     \n",
            "__________________________________________________________________________________________________\n",
            "conv2d_22 (Conv2D)              (None, 8, 8, 64)     2112        re_lu_19[0][0]                   \n",
            "__________________________________________________________________________________________________\n",
            "batch_normalization_22 (BatchNo (None, 8, 8, 64)     256         conv2d_22[0][0]                  \n",
            "__________________________________________________________________________________________________\n",
            "add_6 (Add)                     (None, 8, 8, 64)     0           batch_normalization_22[0][0]     \n",
            "                                                                 max_pooling2d_3[0][0]            \n",
            "__________________________________________________________________________________________________\n",
            "re_lu_20 (ReLU)                 (None, 8, 8, 64)     0           add_6[0][0]                      \n",
            "__________________________________________________________________________________________________\n",
            "conv2d_23 (Conv2D)              (None, 8, 8, 32)     2080        re_lu_20[0][0]                   \n",
            "__________________________________________________________________________________________________\n",
            "batch_normalization_23 (BatchNo (None, 8, 8, 32)     128         conv2d_23[0][0]                  \n",
            "__________________________________________________________________________________________________\n",
            "re_lu_21 (ReLU)                 (None, 8, 8, 32)     0           batch_normalization_23[0][0]     \n",
            "__________________________________________________________________________________________________\n",
            "conv2d_24 (Conv2D)              (None, 8, 8, 32)     9248        re_lu_21[0][0]                   \n",
            "__________________________________________________________________________________________________\n",
            "batch_normalization_24 (BatchNo (None, 8, 8, 32)     128         conv2d_24[0][0]                  \n",
            "__________________________________________________________________________________________________\n",
            "re_lu_22 (ReLU)                 (None, 8, 8, 32)     0           batch_normalization_24[0][0]     \n",
            "__________________________________________________________________________________________________\n",
            "conv2d_25 (Conv2D)              (None, 8, 8, 64)     2112        re_lu_22[0][0]                   \n",
            "__________________________________________________________________________________________________\n",
            "batch_normalization_25 (BatchNo (None, 8, 8, 64)     256         conv2d_25[0][0]                  \n",
            "__________________________________________________________________________________________________\n",
            "add_7 (Add)                     (None, 8, 8, 64)     0           batch_normalization_25[0][0]     \n",
            "                                                                 re_lu_20[0][0]                   \n",
            "__________________________________________________________________________________________________\n",
            "re_lu_23 (ReLU)                 (None, 8, 8, 64)     0           add_7[0][0]                      \n",
            "__________________________________________________________________________________________________\n",
            "conv2d_26 (Conv2D)              (None, 8, 8, 32)     2080        re_lu_23[0][0]                   \n",
            "__________________________________________________________________________________________________\n",
            "batch_normalization_26 (BatchNo (None, 8, 8, 32)     128         conv2d_26[0][0]                  \n",
            "__________________________________________________________________________________________________\n",
            "re_lu_24 (ReLU)                 (None, 8, 8, 32)     0           batch_normalization_26[0][0]     \n",
            "__________________________________________________________________________________________________\n",
            "conv2d_27 (Conv2D)              (None, 8, 8, 32)     9248        re_lu_24[0][0]                   \n",
            "__________________________________________________________________________________________________\n",
            "batch_normalization_27 (BatchNo (None, 8, 8, 32)     128         conv2d_27[0][0]                  \n",
            "__________________________________________________________________________________________________\n",
            "re_lu_25 (ReLU)                 (None, 8, 8, 32)     0           batch_normalization_27[0][0]     \n",
            "__________________________________________________________________________________________________\n",
            "conv2d_28 (Conv2D)              (None, 8, 8, 64)     2112        re_lu_25[0][0]                   \n",
            "__________________________________________________________________________________________________\n",
            "batch_normalization_28 (BatchNo (None, 8, 8, 64)     256         conv2d_28[0][0]                  \n",
            "__________________________________________________________________________________________________\n",
            "add_8 (Add)                     (None, 8, 8, 64)     0           batch_normalization_28[0][0]     \n",
            "                                                                 re_lu_23[0][0]                   \n",
            "__________________________________________________________________________________________________\n",
            "re_lu_26 (ReLU)                 (None, 8, 8, 64)     0           add_8[0][0]                      \n",
            "__________________________________________________________________________________________________\n",
            "up_sampling2d (UpSampling2D)    (None, 16, 16, 64)   0           re_lu_26[0][0]                   \n",
            "__________________________________________________________________________________________________\n",
            "concatenate (Concatenate)       (None, 16, 16, 128)  0           up_sampling2d[0][0]              \n",
            "                                                                 re_lu_17[0][0]                   \n",
            "__________________________________________________________________________________________________\n",
            "conv2d_29 (Conv2D)              (None, 16, 16, 64)   73792       concatenate[0][0]                \n",
            "__________________________________________________________________________________________________\n",
            "conv2d_30 (Conv2D)              (None, 16, 16, 32)   2080        conv2d_29[0][0]                  \n",
            "__________________________________________________________________________________________________\n",
            "batch_normalization_29 (BatchNo (None, 16, 16, 32)   128         conv2d_30[0][0]                  \n",
            "__________________________________________________________________________________________________\n",
            "re_lu_27 (ReLU)                 (None, 16, 16, 32)   0           batch_normalization_29[0][0]     \n",
            "__________________________________________________________________________________________________\n",
            "conv2d_31 (Conv2D)              (None, 16, 16, 32)   9248        re_lu_27[0][0]                   \n",
            "__________________________________________________________________________________________________\n",
            "batch_normalization_30 (BatchNo (None, 16, 16, 32)   128         conv2d_31[0][0]                  \n",
            "__________________________________________________________________________________________________\n",
            "re_lu_28 (ReLU)                 (None, 16, 16, 32)   0           batch_normalization_30[0][0]     \n",
            "__________________________________________________________________________________________________\n",
            "conv2d_32 (Conv2D)              (None, 16, 16, 64)   2112        re_lu_28[0][0]                   \n",
            "__________________________________________________________________________________________________\n",
            "batch_normalization_31 (BatchNo (None, 16, 16, 64)   256         conv2d_32[0][0]                  \n",
            "__________________________________________________________________________________________________\n",
            "add_9 (Add)                     (None, 16, 16, 64)   0           batch_normalization_31[0][0]     \n",
            "                                                                 conv2d_29[0][0]                  \n",
            "__________________________________________________________________________________________________\n",
            "re_lu_29 (ReLU)                 (None, 16, 16, 64)   0           add_9[0][0]                      \n",
            "__________________________________________________________________________________________________\n",
            "conv2d_33 (Conv2D)              (None, 16, 16, 32)   2080        re_lu_29[0][0]                   \n",
            "__________________________________________________________________________________________________\n",
            "batch_normalization_32 (BatchNo (None, 16, 16, 32)   128         conv2d_33[0][0]                  \n",
            "__________________________________________________________________________________________________\n",
            "re_lu_30 (ReLU)                 (None, 16, 16, 32)   0           batch_normalization_32[0][0]     \n",
            "__________________________________________________________________________________________________\n",
            "conv2d_34 (Conv2D)              (None, 16, 16, 32)   9248        re_lu_30[0][0]                   \n",
            "__________________________________________________________________________________________________\n",
            "batch_normalization_33 (BatchNo (None, 16, 16, 32)   128         conv2d_34[0][0]                  \n",
            "__________________________________________________________________________________________________\n",
            "re_lu_31 (ReLU)                 (None, 16, 16, 32)   0           batch_normalization_33[0][0]     \n",
            "__________________________________________________________________________________________________\n",
            "conv2d_35 (Conv2D)              (None, 16, 16, 64)   2112        re_lu_31[0][0]                   \n",
            "__________________________________________________________________________________________________\n",
            "batch_normalization_34 (BatchNo (None, 16, 16, 64)   256         conv2d_35[0][0]                  \n",
            "__________________________________________________________________________________________________\n",
            "add_10 (Add)                    (None, 16, 16, 64)   0           batch_normalization_34[0][0]     \n",
            "                                                                 re_lu_29[0][0]                   \n",
            "__________________________________________________________________________________________________\n",
            "re_lu_32 (ReLU)                 (None, 16, 16, 64)   0           add_10[0][0]                     \n",
            "__________________________________________________________________________________________________\n",
            "up_sampling2d_1 (UpSampling2D)  (None, 32, 32, 64)   0           re_lu_32[0][0]                   \n",
            "__________________________________________________________________________________________________\n",
            "concatenate_1 (Concatenate)     (None, 32, 32, 128)  0           up_sampling2d_1[0][0]            \n",
            "                                                                 re_lu_11[0][0]                   \n",
            "__________________________________________________________________________________________________\n",
            "conv2d_36 (Conv2D)              (None, 32, 32, 64)   73792       concatenate_1[0][0]              \n",
            "__________________________________________________________________________________________________\n",
            "conv2d_37 (Conv2D)              (None, 32, 32, 32)   2080        conv2d_36[0][0]                  \n",
            "__________________________________________________________________________________________________\n",
            "batch_normalization_35 (BatchNo (None, 32, 32, 32)   128         conv2d_37[0][0]                  \n",
            "__________________________________________________________________________________________________\n",
            "re_lu_33 (ReLU)                 (None, 32, 32, 32)   0           batch_normalization_35[0][0]     \n",
            "__________________________________________________________________________________________________\n",
            "conv2d_38 (Conv2D)              (None, 32, 32, 32)   9248        re_lu_33[0][0]                   \n",
            "__________________________________________________________________________________________________\n",
            "batch_normalization_36 (BatchNo (None, 32, 32, 32)   128         conv2d_38[0][0]                  \n",
            "__________________________________________________________________________________________________\n",
            "re_lu_34 (ReLU)                 (None, 32, 32, 32)   0           batch_normalization_36[0][0]     \n",
            "__________________________________________________________________________________________________\n",
            "conv2d_39 (Conv2D)              (None, 32, 32, 64)   2112        re_lu_34[0][0]                   \n",
            "__________________________________________________________________________________________________\n",
            "batch_normalization_37 (BatchNo (None, 32, 32, 64)   256         conv2d_39[0][0]                  \n",
            "__________________________________________________________________________________________________\n",
            "add_11 (Add)                    (None, 32, 32, 64)   0           batch_normalization_37[0][0]     \n",
            "                                                                 conv2d_36[0][0]                  \n",
            "__________________________________________________________________________________________________\n",
            "re_lu_35 (ReLU)                 (None, 32, 32, 64)   0           add_11[0][0]                     \n",
            "__________________________________________________________________________________________________\n",
            "conv2d_40 (Conv2D)              (None, 32, 32, 32)   2080        re_lu_35[0][0]                   \n",
            "__________________________________________________________________________________________________\n",
            "batch_normalization_38 (BatchNo (None, 32, 32, 32)   128         conv2d_40[0][0]                  \n",
            "__________________________________________________________________________________________________\n",
            "re_lu_36 (ReLU)                 (None, 32, 32, 32)   0           batch_normalization_38[0][0]     \n",
            "__________________________________________________________________________________________________\n",
            "conv2d_41 (Conv2D)              (None, 32, 32, 32)   9248        re_lu_36[0][0]                   \n",
            "__________________________________________________________________________________________________\n",
            "batch_normalization_39 (BatchNo (None, 32, 32, 32)   128         conv2d_41[0][0]                  \n",
            "__________________________________________________________________________________________________\n",
            "re_lu_37 (ReLU)                 (None, 32, 32, 32)   0           batch_normalization_39[0][0]     \n",
            "__________________________________________________________________________________________________\n",
            "conv2d_42 (Conv2D)              (None, 32, 32, 64)   2112        re_lu_37[0][0]                   \n",
            "__________________________________________________________________________________________________\n",
            "batch_normalization_40 (BatchNo (None, 32, 32, 64)   256         conv2d_42[0][0]                  \n",
            "__________________________________________________________________________________________________\n",
            "add_12 (Add)                    (None, 32, 32, 64)   0           batch_normalization_40[0][0]     \n",
            "                                                                 re_lu_35[0][0]                   \n",
            "__________________________________________________________________________________________________\n",
            "re_lu_38 (ReLU)                 (None, 32, 32, 64)   0           add_12[0][0]                     \n",
            "__________________________________________________________________________________________________\n",
            "max_pooling2d_4 (MaxPooling2D)  (None, 16, 16, 64)   0           re_lu_38[0][0]                   \n",
            "__________________________________________________________________________________________________\n",
            "concatenate_2 (Concatenate)     (None, 16, 16, 128)  0           max_pooling2d_4[0][0]            \n",
            "                                                                 re_lu_32[0][0]                   \n",
            "__________________________________________________________________________________________________\n",
            "conv2d_43 (Conv2D)              (None, 16, 16, 64)   73792       concatenate_2[0][0]              \n",
            "__________________________________________________________________________________________________\n",
            "conv2d_44 (Conv2D)              (None, 16, 16, 32)   2080        conv2d_43[0][0]                  \n",
            "__________________________________________________________________________________________________\n",
            "batch_normalization_41 (BatchNo (None, 16, 16, 32)   128         conv2d_44[0][0]                  \n",
            "__________________________________________________________________________________________________\n",
            "re_lu_39 (ReLU)                 (None, 16, 16, 32)   0           batch_normalization_41[0][0]     \n",
            "__________________________________________________________________________________________________\n",
            "conv2d_45 (Conv2D)              (None, 16, 16, 32)   9248        re_lu_39[0][0]                   \n",
            "__________________________________________________________________________________________________\n",
            "batch_normalization_42 (BatchNo (None, 16, 16, 32)   128         conv2d_45[0][0]                  \n",
            "__________________________________________________________________________________________________\n",
            "re_lu_40 (ReLU)                 (None, 16, 16, 32)   0           batch_normalization_42[0][0]     \n",
            "__________________________________________________________________________________________________\n",
            "conv2d_46 (Conv2D)              (None, 16, 16, 64)   2112        re_lu_40[0][0]                   \n",
            "__________________________________________________________________________________________________\n",
            "batch_normalization_43 (BatchNo (None, 16, 16, 64)   256         conv2d_46[0][0]                  \n",
            "__________________________________________________________________________________________________\n",
            "add_13 (Add)                    (None, 16, 16, 64)   0           batch_normalization_43[0][0]     \n",
            "                                                                 conv2d_43[0][0]                  \n",
            "__________________________________________________________________________________________________\n",
            "re_lu_41 (ReLU)                 (None, 16, 16, 64)   0           add_13[0][0]                     \n",
            "__________________________________________________________________________________________________\n",
            "conv2d_47 (Conv2D)              (None, 16, 16, 32)   2080        re_lu_41[0][0]                   \n",
            "__________________________________________________________________________________________________\n",
            "batch_normalization_44 (BatchNo (None, 16, 16, 32)   128         conv2d_47[0][0]                  \n",
            "__________________________________________________________________________________________________\n",
            "re_lu_42 (ReLU)                 (None, 16, 16, 32)   0           batch_normalization_44[0][0]     \n",
            "__________________________________________________________________________________________________\n",
            "conv2d_48 (Conv2D)              (None, 16, 16, 32)   9248        re_lu_42[0][0]                   \n",
            "__________________________________________________________________________________________________\n",
            "batch_normalization_45 (BatchNo (None, 16, 16, 32)   128         conv2d_48[0][0]                  \n",
            "__________________________________________________________________________________________________\n",
            "re_lu_43 (ReLU)                 (None, 16, 16, 32)   0           batch_normalization_45[0][0]     \n",
            "__________________________________________________________________________________________________\n",
            "conv2d_49 (Conv2D)              (None, 16, 16, 64)   2112        re_lu_43[0][0]                   \n",
            "__________________________________________________________________________________________________\n",
            "batch_normalization_46 (BatchNo (None, 16, 16, 64)   256         conv2d_49[0][0]                  \n",
            "__________________________________________________________________________________________________\n",
            "add_14 (Add)                    (None, 16, 16, 64)   0           batch_normalization_46[0][0]     \n",
            "                                                                 re_lu_41[0][0]                   \n",
            "__________________________________________________________________________________________________\n",
            "re_lu_44 (ReLU)                 (None, 16, 16, 64)   0           add_14[0][0]                     \n",
            "__________________________________________________________________________________________________\n",
            "max_pooling2d_5 (MaxPooling2D)  (None, 8, 8, 64)     0           re_lu_44[0][0]                   \n",
            "__________________________________________________________________________________________________\n",
            "concatenate_3 (Concatenate)     (None, 8, 8, 128)    0           max_pooling2d_5[0][0]            \n",
            "                                                                 re_lu_26[0][0]                   \n",
            "__________________________________________________________________________________________________\n",
            "conv2d_50 (Conv2D)              (None, 8, 8, 64)     73792       concatenate_3[0][0]              \n",
            "__________________________________________________________________________________________________\n",
            "conv2d_51 (Conv2D)              (None, 8, 8, 32)     2080        conv2d_50[0][0]                  \n",
            "__________________________________________________________________________________________________\n",
            "batch_normalization_47 (BatchNo (None, 8, 8, 32)     128         conv2d_51[0][0]                  \n",
            "__________________________________________________________________________________________________\n",
            "re_lu_45 (ReLU)                 (None, 8, 8, 32)     0           batch_normalization_47[0][0]     \n",
            "__________________________________________________________________________________________________\n",
            "conv2d_52 (Conv2D)              (None, 8, 8, 32)     9248        re_lu_45[0][0]                   \n",
            "__________________________________________________________________________________________________\n",
            "batch_normalization_48 (BatchNo (None, 8, 8, 32)     128         conv2d_52[0][0]                  \n",
            "__________________________________________________________________________________________________\n",
            "re_lu_46 (ReLU)                 (None, 8, 8, 32)     0           batch_normalization_48[0][0]     \n",
            "__________________________________________________________________________________________________\n",
            "conv2d_53 (Conv2D)              (None, 8, 8, 64)     2112        re_lu_46[0][0]                   \n",
            "__________________________________________________________________________________________________\n",
            "batch_normalization_49 (BatchNo (None, 8, 8, 64)     256         conv2d_53[0][0]                  \n",
            "__________________________________________________________________________________________________\n",
            "add_15 (Add)                    (None, 8, 8, 64)     0           batch_normalization_49[0][0]     \n",
            "                                                                 conv2d_50[0][0]                  \n",
            "__________________________________________________________________________________________________\n",
            "re_lu_47 (ReLU)                 (None, 8, 8, 64)     0           add_15[0][0]                     \n",
            "__________________________________________________________________________________________________\n",
            "conv2d_54 (Conv2D)              (None, 8, 8, 32)     2080        re_lu_47[0][0]                   \n",
            "__________________________________________________________________________________________________\n",
            "batch_normalization_50 (BatchNo (None, 8, 8, 32)     128         conv2d_54[0][0]                  \n",
            "__________________________________________________________________________________________________\n",
            "re_lu_48 (ReLU)                 (None, 8, 8, 32)     0           batch_normalization_50[0][0]     \n",
            "__________________________________________________________________________________________________\n",
            "conv2d_55 (Conv2D)              (None, 8, 8, 32)     9248        re_lu_48[0][0]                   \n",
            "__________________________________________________________________________________________________\n",
            "batch_normalization_51 (BatchNo (None, 8, 8, 32)     128         conv2d_55[0][0]                  \n",
            "__________________________________________________________________________________________________\n",
            "re_lu_49 (ReLU)                 (None, 8, 8, 32)     0           batch_normalization_51[0][0]     \n",
            "__________________________________________________________________________________________________\n",
            "conv2d_56 (Conv2D)              (None, 8, 8, 64)     2112        re_lu_49[0][0]                   \n",
            "__________________________________________________________________________________________________\n",
            "batch_normalization_52 (BatchNo (None, 8, 8, 64)     256         conv2d_56[0][0]                  \n",
            "__________________________________________________________________________________________________\n",
            "add_16 (Add)                    (None, 8, 8, 64)     0           batch_normalization_52[0][0]     \n",
            "                                                                 re_lu_47[0][0]                   \n",
            "__________________________________________________________________________________________________\n",
            "re_lu_50 (ReLU)                 (None, 8, 8, 64)     0           add_16[0][0]                     \n",
            "__________________________________________________________________________________________________\n",
            "up_sampling2d_2 (UpSampling2D)  (None, 16, 16, 64)   0           re_lu_50[0][0]                   \n",
            "__________________________________________________________________________________________________\n",
            "concatenate_4 (Concatenate)     (None, 16, 16, 128)  0           up_sampling2d_2[0][0]            \n",
            "                                                                 re_lu_44[0][0]                   \n",
            "__________________________________________________________________________________________________\n",
            "conv2d_57 (Conv2D)              (None, 16, 16, 64)   73792       concatenate_4[0][0]              \n",
            "__________________________________________________________________________________________________\n",
            "conv2d_58 (Conv2D)              (None, 16, 16, 32)   2080        conv2d_57[0][0]                  \n",
            "__________________________________________________________________________________________________\n",
            "batch_normalization_53 (BatchNo (None, 16, 16, 32)   128         conv2d_58[0][0]                  \n",
            "__________________________________________________________________________________________________\n",
            "re_lu_51 (ReLU)                 (None, 16, 16, 32)   0           batch_normalization_53[0][0]     \n",
            "__________________________________________________________________________________________________\n",
            "conv2d_59 (Conv2D)              (None, 16, 16, 32)   9248        re_lu_51[0][0]                   \n",
            "__________________________________________________________________________________________________\n",
            "batch_normalization_54 (BatchNo (None, 16, 16, 32)   128         conv2d_59[0][0]                  \n",
            "__________________________________________________________________________________________________\n",
            "re_lu_52 (ReLU)                 (None, 16, 16, 32)   0           batch_normalization_54[0][0]     \n",
            "__________________________________________________________________________________________________\n",
            "conv2d_60 (Conv2D)              (None, 16, 16, 64)   2112        re_lu_52[0][0]                   \n",
            "__________________________________________________________________________________________________\n",
            "batch_normalization_55 (BatchNo (None, 16, 16, 64)   256         conv2d_60[0][0]                  \n",
            "__________________________________________________________________________________________________\n",
            "add_17 (Add)                    (None, 16, 16, 64)   0           batch_normalization_55[0][0]     \n",
            "                                                                 conv2d_57[0][0]                  \n",
            "__________________________________________________________________________________________________\n",
            "re_lu_53 (ReLU)                 (None, 16, 16, 64)   0           add_17[0][0]                     \n",
            "__________________________________________________________________________________________________\n",
            "conv2d_61 (Conv2D)              (None, 16, 16, 32)   2080        re_lu_53[0][0]                   \n",
            "__________________________________________________________________________________________________\n",
            "batch_normalization_56 (BatchNo (None, 16, 16, 32)   128         conv2d_61[0][0]                  \n",
            "__________________________________________________________________________________________________\n",
            "re_lu_54 (ReLU)                 (None, 16, 16, 32)   0           batch_normalization_56[0][0]     \n",
            "__________________________________________________________________________________________________\n",
            "conv2d_62 (Conv2D)              (None, 16, 16, 32)   9248        re_lu_54[0][0]                   \n",
            "__________________________________________________________________________________________________\n",
            "batch_normalization_57 (BatchNo (None, 16, 16, 32)   128         conv2d_62[0][0]                  \n",
            "__________________________________________________________________________________________________\n",
            "re_lu_55 (ReLU)                 (None, 16, 16, 32)   0           batch_normalization_57[0][0]     \n",
            "__________________________________________________________________________________________________\n",
            "conv2d_63 (Conv2D)              (None, 16, 16, 64)   2112        re_lu_55[0][0]                   \n",
            "__________________________________________________________________________________________________\n",
            "batch_normalization_58 (BatchNo (None, 16, 16, 64)   256         conv2d_63[0][0]                  \n",
            "__________________________________________________________________________________________________\n",
            "add_18 (Add)                    (None, 16, 16, 64)   0           batch_normalization_58[0][0]     \n",
            "                                                                 re_lu_53[0][0]                   \n",
            "__________________________________________________________________________________________________\n",
            "re_lu_56 (ReLU)                 (None, 16, 16, 64)   0           add_18[0][0]                     \n",
            "__________________________________________________________________________________________________\n",
            "up_sampling2d_3 (UpSampling2D)  (None, 32, 32, 64)   0           re_lu_56[0][0]                   \n",
            "__________________________________________________________________________________________________\n",
            "concatenate_5 (Concatenate)     (None, 32, 32, 128)  0           up_sampling2d_3[0][0]            \n",
            "                                                                 re_lu_38[0][0]                   \n",
            "__________________________________________________________________________________________________\n",
            "conv2d_64 (Conv2D)              (None, 32, 32, 64)   73792       concatenate_5[0][0]              \n",
            "__________________________________________________________________________________________________\n",
            "conv2d_65 (Conv2D)              (None, 32, 32, 32)   2080        conv2d_64[0][0]                  \n",
            "__________________________________________________________________________________________________\n",
            "batch_normalization_59 (BatchNo (None, 32, 32, 32)   128         conv2d_65[0][0]                  \n",
            "__________________________________________________________________________________________________\n",
            "re_lu_57 (ReLU)                 (None, 32, 32, 32)   0           batch_normalization_59[0][0]     \n",
            "__________________________________________________________________________________________________\n",
            "conv2d_66 (Conv2D)              (None, 32, 32, 32)   9248        re_lu_57[0][0]                   \n",
            "__________________________________________________________________________________________________\n",
            "batch_normalization_60 (BatchNo (None, 32, 32, 32)   128         conv2d_66[0][0]                  \n",
            "__________________________________________________________________________________________________\n",
            "re_lu_58 (ReLU)                 (None, 32, 32, 32)   0           batch_normalization_60[0][0]     \n",
            "__________________________________________________________________________________________________\n",
            "conv2d_67 (Conv2D)              (None, 32, 32, 64)   2112        re_lu_58[0][0]                   \n",
            "__________________________________________________________________________________________________\n",
            "batch_normalization_61 (BatchNo (None, 32, 32, 64)   256         conv2d_67[0][0]                  \n",
            "__________________________________________________________________________________________________\n",
            "add_19 (Add)                    (None, 32, 32, 64)   0           batch_normalization_61[0][0]     \n",
            "                                                                 conv2d_64[0][0]                  \n",
            "__________________________________________________________________________________________________\n",
            "re_lu_59 (ReLU)                 (None, 32, 32, 64)   0           add_19[0][0]                     \n",
            "__________________________________________________________________________________________________\n",
            "conv2d_68 (Conv2D)              (None, 32, 32, 32)   2080        re_lu_59[0][0]                   \n",
            "__________________________________________________________________________________________________\n",
            "batch_normalization_62 (BatchNo (None, 32, 32, 32)   128         conv2d_68[0][0]                  \n",
            "__________________________________________________________________________________________________\n",
            "re_lu_60 (ReLU)                 (None, 32, 32, 32)   0           batch_normalization_62[0][0]     \n",
            "__________________________________________________________________________________________________\n",
            "conv2d_69 (Conv2D)              (None, 32, 32, 32)   9248        re_lu_60[0][0]                   \n",
            "__________________________________________________________________________________________________\n",
            "batch_normalization_63 (BatchNo (None, 32, 32, 32)   128         conv2d_69[0][0]                  \n",
            "__________________________________________________________________________________________________\n",
            "re_lu_61 (ReLU)                 (None, 32, 32, 32)   0           batch_normalization_63[0][0]     \n",
            "__________________________________________________________________________________________________\n",
            "conv2d_70 (Conv2D)              (None, 32, 32, 64)   2112        re_lu_61[0][0]                   \n",
            "__________________________________________________________________________________________________\n",
            "batch_normalization_64 (BatchNo (None, 32, 32, 64)   256         conv2d_70[0][0]                  \n",
            "__________________________________________________________________________________________________\n",
            "add_20 (Add)                    (None, 32, 32, 64)   0           batch_normalization_64[0][0]     \n",
            "                                                                 re_lu_59[0][0]                   \n",
            "__________________________________________________________________________________________________\n",
            "re_lu_62 (ReLU)                 (None, 32, 32, 64)   0           add_20[0][0]                     \n",
            "__________________________________________________________________________________________________\n",
            "max_pooling2d_6 (MaxPooling2D)  (None, 16, 16, 64)   0           re_lu_62[0][0]                   \n",
            "__________________________________________________________________________________________________\n",
            "concatenate_6 (Concatenate)     (None, 16, 16, 128)  0           max_pooling2d_6[0][0]            \n",
            "                                                                 re_lu_56[0][0]                   \n",
            "__________________________________________________________________________________________________\n",
            "conv2d_71 (Conv2D)              (None, 16, 16, 64)   73792       concatenate_6[0][0]              \n",
            "__________________________________________________________________________________________________\n",
            "conv2d_72 (Conv2D)              (None, 16, 16, 32)   2080        conv2d_71[0][0]                  \n",
            "__________________________________________________________________________________________________\n",
            "batch_normalization_65 (BatchNo (None, 16, 16, 32)   128         conv2d_72[0][0]                  \n",
            "__________________________________________________________________________________________________\n",
            "re_lu_63 (ReLU)                 (None, 16, 16, 32)   0           batch_normalization_65[0][0]     \n",
            "__________________________________________________________________________________________________\n",
            "conv2d_73 (Conv2D)              (None, 16, 16, 32)   9248        re_lu_63[0][0]                   \n",
            "__________________________________________________________________________________________________\n",
            "batch_normalization_66 (BatchNo (None, 16, 16, 32)   128         conv2d_73[0][0]                  \n",
            "__________________________________________________________________________________________________\n",
            "re_lu_64 (ReLU)                 (None, 16, 16, 32)   0           batch_normalization_66[0][0]     \n",
            "__________________________________________________________________________________________________\n",
            "conv2d_74 (Conv2D)              (None, 16, 16, 64)   2112        re_lu_64[0][0]                   \n",
            "__________________________________________________________________________________________________\n",
            "batch_normalization_67 (BatchNo (None, 16, 16, 64)   256         conv2d_74[0][0]                  \n",
            "__________________________________________________________________________________________________\n",
            "add_21 (Add)                    (None, 16, 16, 64)   0           batch_normalization_67[0][0]     \n",
            "                                                                 conv2d_71[0][0]                  \n",
            "__________________________________________________________________________________________________\n",
            "re_lu_65 (ReLU)                 (None, 16, 16, 64)   0           add_21[0][0]                     \n",
            "__________________________________________________________________________________________________\n",
            "conv2d_75 (Conv2D)              (None, 16, 16, 32)   2080        re_lu_65[0][0]                   \n",
            "__________________________________________________________________________________________________\n",
            "batch_normalization_68 (BatchNo (None, 16, 16, 32)   128         conv2d_75[0][0]                  \n",
            "__________________________________________________________________________________________________\n",
            "re_lu_66 (ReLU)                 (None, 16, 16, 32)   0           batch_normalization_68[0][0]     \n",
            "__________________________________________________________________________________________________\n",
            "conv2d_76 (Conv2D)              (None, 16, 16, 32)   9248        re_lu_66[0][0]                   \n",
            "__________________________________________________________________________________________________\n",
            "batch_normalization_69 (BatchNo (None, 16, 16, 32)   128         conv2d_76[0][0]                  \n",
            "__________________________________________________________________________________________________\n",
            "re_lu_67 (ReLU)                 (None, 16, 16, 32)   0           batch_normalization_69[0][0]     \n",
            "__________________________________________________________________________________________________\n",
            "conv2d_77 (Conv2D)              (None, 16, 16, 64)   2112        re_lu_67[0][0]                   \n",
            "__________________________________________________________________________________________________\n",
            "batch_normalization_70 (BatchNo (None, 16, 16, 64)   256         conv2d_77[0][0]                  \n",
            "__________________________________________________________________________________________________\n",
            "add_22 (Add)                    (None, 16, 16, 64)   0           batch_normalization_70[0][0]     \n",
            "                                                                 re_lu_65[0][0]                   \n",
            "__________________________________________________________________________________________________\n",
            "re_lu_68 (ReLU)                 (None, 16, 16, 64)   0           add_22[0][0]                     \n",
            "__________________________________________________________________________________________________\n",
            "max_pooling2d_7 (MaxPooling2D)  (None, 8, 8, 64)     0           re_lu_68[0][0]                   \n",
            "__________________________________________________________________________________________________\n",
            "concatenate_7 (Concatenate)     (None, 8, 8, 128)    0           max_pooling2d_7[0][0]            \n",
            "                                                                 re_lu_50[0][0]                   \n",
            "__________________________________________________________________________________________________\n",
            "conv2d_78 (Conv2D)              (None, 8, 8, 64)     73792       concatenate_7[0][0]              \n",
            "__________________________________________________________________________________________________\n",
            "conv2d_79 (Conv2D)              (None, 8, 8, 32)     2080        conv2d_78[0][0]                  \n",
            "__________________________________________________________________________________________________\n",
            "batch_normalization_71 (BatchNo (None, 8, 8, 32)     128         conv2d_79[0][0]                  \n",
            "__________________________________________________________________________________________________\n",
            "re_lu_69 (ReLU)                 (None, 8, 8, 32)     0           batch_normalization_71[0][0]     \n",
            "__________________________________________________________________________________________________\n",
            "conv2d_80 (Conv2D)              (None, 8, 8, 32)     9248        re_lu_69[0][0]                   \n",
            "__________________________________________________________________________________________________\n",
            "batch_normalization_72 (BatchNo (None, 8, 8, 32)     128         conv2d_80[0][0]                  \n",
            "__________________________________________________________________________________________________\n",
            "re_lu_70 (ReLU)                 (None, 8, 8, 32)     0           batch_normalization_72[0][0]     \n",
            "__________________________________________________________________________________________________\n",
            "conv2d_81 (Conv2D)              (None, 8, 8, 64)     2112        re_lu_70[0][0]                   \n",
            "__________________________________________________________________________________________________\n",
            "batch_normalization_73 (BatchNo (None, 8, 8, 64)     256         conv2d_81[0][0]                  \n",
            "__________________________________________________________________________________________________\n",
            "add_23 (Add)                    (None, 8, 8, 64)     0           batch_normalization_73[0][0]     \n",
            "                                                                 conv2d_78[0][0]                  \n",
            "__________________________________________________________________________________________________\n",
            "re_lu_71 (ReLU)                 (None, 8, 8, 64)     0           add_23[0][0]                     \n",
            "__________________________________________________________________________________________________\n",
            "conv2d_82 (Conv2D)              (None, 8, 8, 32)     2080        re_lu_71[0][0]                   \n",
            "__________________________________________________________________________________________________\n",
            "batch_normalization_74 (BatchNo (None, 8, 8, 32)     128         conv2d_82[0][0]                  \n",
            "__________________________________________________________________________________________________\n",
            "re_lu_72 (ReLU)                 (None, 8, 8, 32)     0           batch_normalization_74[0][0]     \n",
            "__________________________________________________________________________________________________\n",
            "conv2d_83 (Conv2D)              (None, 8, 8, 32)     9248        re_lu_72[0][0]                   \n",
            "__________________________________________________________________________________________________\n",
            "batch_normalization_75 (BatchNo (None, 8, 8, 32)     128         conv2d_83[0][0]                  \n",
            "__________________________________________________________________________________________________\n",
            "re_lu_73 (ReLU)                 (None, 8, 8, 32)     0           batch_normalization_75[0][0]     \n",
            "__________________________________________________________________________________________________\n",
            "conv2d_84 (Conv2D)              (None, 8, 8, 64)     2112        re_lu_73[0][0]                   \n",
            "__________________________________________________________________________________________________\n",
            "batch_normalization_76 (BatchNo (None, 8, 8, 64)     256         conv2d_84[0][0]                  \n",
            "__________________________________________________________________________________________________\n",
            "add_24 (Add)                    (None, 8, 8, 64)     0           batch_normalization_76[0][0]     \n",
            "                                                                 re_lu_71[0][0]                   \n",
            "__________________________________________________________________________________________________\n",
            "re_lu_74 (ReLU)                 (None, 8, 8, 64)     0           add_24[0][0]                     \n",
            "__________________________________________________________________________________________________\n",
            "up_sampling2d_4 (UpSampling2D)  (None, 16, 16, 64)   0           re_lu_74[0][0]                   \n",
            "__________________________________________________________________________________________________\n",
            "concatenate_8 (Concatenate)     (None, 16, 16, 128)  0           up_sampling2d_4[0][0]            \n",
            "                                                                 re_lu_68[0][0]                   \n",
            "__________________________________________________________________________________________________\n",
            "conv2d_85 (Conv2D)              (None, 16, 16, 64)   73792       concatenate_8[0][0]              \n",
            "__________________________________________________________________________________________________\n",
            "conv2d_86 (Conv2D)              (None, 16, 16, 32)   2080        conv2d_85[0][0]                  \n",
            "__________________________________________________________________________________________________\n",
            "batch_normalization_77 (BatchNo (None, 16, 16, 32)   128         conv2d_86[0][0]                  \n",
            "__________________________________________________________________________________________________\n",
            "re_lu_75 (ReLU)                 (None, 16, 16, 32)   0           batch_normalization_77[0][0]     \n",
            "__________________________________________________________________________________________________\n",
            "conv2d_87 (Conv2D)              (None, 16, 16, 32)   9248        re_lu_75[0][0]                   \n",
            "__________________________________________________________________________________________________\n",
            "batch_normalization_78 (BatchNo (None, 16, 16, 32)   128         conv2d_87[0][0]                  \n",
            "__________________________________________________________________________________________________\n",
            "re_lu_76 (ReLU)                 (None, 16, 16, 32)   0           batch_normalization_78[0][0]     \n",
            "__________________________________________________________________________________________________\n",
            "conv2d_88 (Conv2D)              (None, 16, 16, 64)   2112        re_lu_76[0][0]                   \n",
            "__________________________________________________________________________________________________\n",
            "batch_normalization_79 (BatchNo (None, 16, 16, 64)   256         conv2d_88[0][0]                  \n",
            "__________________________________________________________________________________________________\n",
            "add_25 (Add)                    (None, 16, 16, 64)   0           batch_normalization_79[0][0]     \n",
            "                                                                 conv2d_85[0][0]                  \n",
            "__________________________________________________________________________________________________\n",
            "re_lu_77 (ReLU)                 (None, 16, 16, 64)   0           add_25[0][0]                     \n",
            "__________________________________________________________________________________________________\n",
            "conv2d_89 (Conv2D)              (None, 16, 16, 32)   2080        re_lu_77[0][0]                   \n",
            "__________________________________________________________________________________________________\n",
            "batch_normalization_80 (BatchNo (None, 16, 16, 32)   128         conv2d_89[0][0]                  \n",
            "__________________________________________________________________________________________________\n",
            "re_lu_78 (ReLU)                 (None, 16, 16, 32)   0           batch_normalization_80[0][0]     \n",
            "__________________________________________________________________________________________________\n",
            "conv2d_90 (Conv2D)              (None, 16, 16, 32)   9248        re_lu_78[0][0]                   \n",
            "__________________________________________________________________________________________________\n",
            "batch_normalization_81 (BatchNo (None, 16, 16, 32)   128         conv2d_90[0][0]                  \n",
            "__________________________________________________________________________________________________\n",
            "re_lu_79 (ReLU)                 (None, 16, 16, 32)   0           batch_normalization_81[0][0]     \n",
            "__________________________________________________________________________________________________\n",
            "conv2d_91 (Conv2D)              (None, 16, 16, 64)   2112        re_lu_79[0][0]                   \n",
            "__________________________________________________________________________________________________\n",
            "batch_normalization_82 (BatchNo (None, 16, 16, 64)   256         conv2d_91[0][0]                  \n",
            "__________________________________________________________________________________________________\n",
            "add_26 (Add)                    (None, 16, 16, 64)   0           batch_normalization_82[0][0]     \n",
            "                                                                 re_lu_77[0][0]                   \n",
            "__________________________________________________________________________________________________\n",
            "re_lu_80 (ReLU)                 (None, 16, 16, 64)   0           add_26[0][0]                     \n",
            "__________________________________________________________________________________________________\n",
            "up_sampling2d_5 (UpSampling2D)  (None, 32, 32, 64)   0           re_lu_80[0][0]                   \n",
            "__________________________________________________________________________________________________\n",
            "concatenate_9 (Concatenate)     (None, 32, 32, 128)  0           up_sampling2d_5[0][0]            \n",
            "                                                                 re_lu_62[0][0]                   \n",
            "__________________________________________________________________________________________________\n",
            "conv2d_92 (Conv2D)              (None, 32, 32, 64)   73792       concatenate_9[0][0]              \n",
            "__________________________________________________________________________________________________\n",
            "conv2d_93 (Conv2D)              (None, 32, 32, 32)   2080        conv2d_92[0][0]                  \n",
            "__________________________________________________________________________________________________\n",
            "batch_normalization_83 (BatchNo (None, 32, 32, 32)   128         conv2d_93[0][0]                  \n",
            "__________________________________________________________________________________________________\n",
            "re_lu_81 (ReLU)                 (None, 32, 32, 32)   0           batch_normalization_83[0][0]     \n",
            "__________________________________________________________________________________________________\n",
            "conv2d_94 (Conv2D)              (None, 32, 32, 32)   9248        re_lu_81[0][0]                   \n",
            "__________________________________________________________________________________________________\n",
            "batch_normalization_84 (BatchNo (None, 32, 32, 32)   128         conv2d_94[0][0]                  \n",
            "__________________________________________________________________________________________________\n",
            "re_lu_82 (ReLU)                 (None, 32, 32, 32)   0           batch_normalization_84[0][0]     \n",
            "__________________________________________________________________________________________________\n",
            "conv2d_95 (Conv2D)              (None, 32, 32, 64)   2112        re_lu_82[0][0]                   \n",
            "__________________________________________________________________________________________________\n",
            "batch_normalization_85 (BatchNo (None, 32, 32, 64)   256         conv2d_95[0][0]                  \n",
            "__________________________________________________________________________________________________\n",
            "add_27 (Add)                    (None, 32, 32, 64)   0           batch_normalization_85[0][0]     \n",
            "                                                                 conv2d_92[0][0]                  \n",
            "__________________________________________________________________________________________________\n",
            "re_lu_83 (ReLU)                 (None, 32, 32, 64)   0           add_27[0][0]                     \n",
            "__________________________________________________________________________________________________\n",
            "conv2d_96 (Conv2D)              (None, 32, 32, 32)   2080        re_lu_83[0][0]                   \n",
            "__________________________________________________________________________________________________\n",
            "batch_normalization_86 (BatchNo (None, 32, 32, 32)   128         conv2d_96[0][0]                  \n",
            "__________________________________________________________________________________________________\n",
            "re_lu_84 (ReLU)                 (None, 32, 32, 32)   0           batch_normalization_86[0][0]     \n",
            "__________________________________________________________________________________________________\n",
            "conv2d_97 (Conv2D)              (None, 32, 32, 32)   9248        re_lu_84[0][0]                   \n",
            "__________________________________________________________________________________________________\n",
            "batch_normalization_87 (BatchNo (None, 32, 32, 32)   128         conv2d_97[0][0]                  \n",
            "__________________________________________________________________________________________________\n",
            "re_lu_85 (ReLU)                 (None, 32, 32, 32)   0           batch_normalization_87[0][0]     \n",
            "__________________________________________________________________________________________________\n",
            "conv2d_98 (Conv2D)              (None, 32, 32, 64)   2112        re_lu_85[0][0]                   \n",
            "__________________________________________________________________________________________________\n",
            "batch_normalization_88 (BatchNo (None, 32, 32, 64)   256         conv2d_98[0][0]                  \n",
            "__________________________________________________________________________________________________\n",
            "add_28 (Add)                    (None, 32, 32, 64)   0           batch_normalization_88[0][0]     \n",
            "                                                                 re_lu_83[0][0]                   \n",
            "__________________________________________________________________________________________________\n",
            "re_lu_86 (ReLU)                 (None, 32, 32, 64)   0           add_28[0][0]                     \n",
            "__________________________________________________________________________________________________\n",
            "up_sampling2d_6 (UpSampling2D)  (None, 64, 64, 64)   0           re_lu_86[0][0]                   \n",
            "__________________________________________________________________________________________________\n",
            "concatenate_10 (Concatenate)    (None, 64, 64, 128)  0           up_sampling2d_6[0][0]            \n",
            "                                                                 re_lu_5[0][0]                    \n",
            "__________________________________________________________________________________________________\n",
            "conv2d_99 (Conv2D)              (None, 64, 64, 64)   73792       concatenate_10[0][0]             \n",
            "__________________________________________________________________________________________________\n",
            "conv2d_100 (Conv2D)             (None, 64, 64, 32)   2080        conv2d_99[0][0]                  \n",
            "__________________________________________________________________________________________________\n",
            "batch_normalization_89 (BatchNo (None, 64, 64, 32)   128         conv2d_100[0][0]                 \n",
            "__________________________________________________________________________________________________\n",
            "re_lu_87 (ReLU)                 (None, 64, 64, 32)   0           batch_normalization_89[0][0]     \n",
            "__________________________________________________________________________________________________\n",
            "conv2d_101 (Conv2D)             (None, 64, 64, 32)   9248        re_lu_87[0][0]                   \n",
            "__________________________________________________________________________________________________\n",
            "batch_normalization_90 (BatchNo (None, 64, 64, 32)   128         conv2d_101[0][0]                 \n",
            "__________________________________________________________________________________________________\n",
            "re_lu_88 (ReLU)                 (None, 64, 64, 32)   0           batch_normalization_90[0][0]     \n",
            "__________________________________________________________________________________________________\n",
            "conv2d_102 (Conv2D)             (None, 64, 64, 64)   2112        re_lu_88[0][0]                   \n",
            "__________________________________________________________________________________________________\n",
            "batch_normalization_91 (BatchNo (None, 64, 64, 64)   256         conv2d_102[0][0]                 \n",
            "__________________________________________________________________________________________________\n",
            "add_29 (Add)                    (None, 64, 64, 64)   0           batch_normalization_91[0][0]     \n",
            "                                                                 conv2d_99[0][0]                  \n",
            "__________________________________________________________________________________________________\n",
            "re_lu_89 (ReLU)                 (None, 64, 64, 64)   0           add_29[0][0]                     \n",
            "__________________________________________________________________________________________________\n",
            "conv2d_103 (Conv2D)             (None, 64, 64, 32)   2080        re_lu_89[0][0]                   \n",
            "__________________________________________________________________________________________________\n",
            "batch_normalization_92 (BatchNo (None, 64, 64, 32)   128         conv2d_103[0][0]                 \n",
            "__________________________________________________________________________________________________\n",
            "re_lu_90 (ReLU)                 (None, 64, 64, 32)   0           batch_normalization_92[0][0]     \n",
            "__________________________________________________________________________________________________\n",
            "conv2d_104 (Conv2D)             (None, 64, 64, 32)   9248        re_lu_90[0][0]                   \n",
            "__________________________________________________________________________________________________\n",
            "batch_normalization_93 (BatchNo (None, 64, 64, 32)   128         conv2d_104[0][0]                 \n",
            "__________________________________________________________________________________________________\n",
            "re_lu_91 (ReLU)                 (None, 64, 64, 32)   0           batch_normalization_93[0][0]     \n",
            "__________________________________________________________________________________________________\n",
            "conv2d_105 (Conv2D)             (None, 64, 64, 64)   2112        re_lu_91[0][0]                   \n",
            "__________________________________________________________________________________________________\n",
            "batch_normalization_94 (BatchNo (None, 64, 64, 64)   256         conv2d_105[0][0]                 \n",
            "__________________________________________________________________________________________________\n",
            "add_30 (Add)                    (None, 64, 64, 64)   0           batch_normalization_94[0][0]     \n",
            "                                                                 re_lu_89[0][0]                   \n",
            "__________________________________________________________________________________________________\n",
            "re_lu_92 (ReLU)                 (None, 64, 64, 64)   0           add_30[0][0]                     \n",
            "__________________________________________________________________________________________________\n",
            "up_sampling2d_7 (UpSampling2D)  (None, 128, 128, 64) 0           re_lu_92[0][0]                   \n",
            "__________________________________________________________________________________________________\n",
            "concatenate_11 (Concatenate)    (None, 128, 128, 128 0           up_sampling2d_7[0][0]            \n",
            "                                                                 batch_normalization_1[0][0]      \n",
            "__________________________________________________________________________________________________\n",
            "conv2d_106 (Conv2D)             (None, 128, 128, 64) 73792       concatenate_11[0][0]             \n",
            "__________________________________________________________________________________________________\n",
            "conv2d_107 (Conv2D)             (None, 128, 128, 32) 2080        conv2d_106[0][0]                 \n",
            "__________________________________________________________________________________________________\n",
            "batch_normalization_95 (BatchNo (None, 128, 128, 32) 128         conv2d_107[0][0]                 \n",
            "__________________________________________________________________________________________________\n",
            "re_lu_93 (ReLU)                 (None, 128, 128, 32) 0           batch_normalization_95[0][0]     \n",
            "__________________________________________________________________________________________________\n",
            "conv2d_108 (Conv2D)             (None, 128, 128, 32) 9248        re_lu_93[0][0]                   \n",
            "__________________________________________________________________________________________________\n",
            "batch_normalization_96 (BatchNo (None, 128, 128, 32) 128         conv2d_108[0][0]                 \n",
            "__________________________________________________________________________________________________\n",
            "re_lu_94 (ReLU)                 (None, 128, 128, 32) 0           batch_normalization_96[0][0]     \n",
            "__________________________________________________________________________________________________\n",
            "conv2d_109 (Conv2D)             (None, 128, 128, 64) 2112        re_lu_94[0][0]                   \n",
            "__________________________________________________________________________________________________\n",
            "batch_normalization_97 (BatchNo (None, 128, 128, 64) 256         conv2d_109[0][0]                 \n",
            "__________________________________________________________________________________________________\n",
            "add_31 (Add)                    (None, 128, 128, 64) 0           batch_normalization_97[0][0]     \n",
            "                                                                 conv2d_106[0][0]                 \n",
            "__________________________________________________________________________________________________\n",
            "re_lu_95 (ReLU)                 (None, 128, 128, 64) 0           add_31[0][0]                     \n",
            "__________________________________________________________________________________________________\n",
            "conv2d_110 (Conv2D)             (None, 128, 128, 1)  65          re_lu_95[0][0]                   \n",
            "__________________________________________________________________________________________________\n",
            "flatten (Flatten)               (None, 16384)        0           conv2d_110[0][0]                 \n",
            "__________________________________________________________________________________________________\n",
            "dense (Dense)                   (None, 1)            16385       flatten[0][0]                    \n",
            "==================================================================================================\n",
            "Total params: 1,450,626\n",
            "Trainable params: 1,441,922\n",
            "Non-trainable params: 8,704\n",
            "__________________________________________________________________________________________________\n"
          ],
          "name": "stdout"
        }
      ]
    },
    {
      "cell_type": "code",
      "metadata": {
        "id": "AQX4jrmTXnIf",
        "colab_type": "code",
        "colab": {}
      },
      "source": [
        "#model_webnet.layers\n",
        "#368 layers"
      ],
      "execution_count": null,
      "outputs": []
    },
    {
      "cell_type": "markdown",
      "metadata": {
        "id": "gNWQ9wiVVARx",
        "colab_type": "text"
      },
      "source": [
        "**Define learning rate and early stopping**"
      ]
    },
    {
      "cell_type": "code",
      "metadata": {
        "id": "qZkBzZiElNBg",
        "colab_type": "code",
        "colab": {}
      },
      "source": [
        "def cosine_annealing(x):\n",
        "    lr = 0.001\n",
        "    epochs = 25\n",
        "    return lr*(np.cos(np.pi*x/epochs)+1.)/2\n",
        "learning_rate = tf.keras.callbacks.LearningRateScheduler(cosine_annealing)\n"
      ],
      "execution_count": null,
      "outputs": []
    },
    {
      "cell_type": "code",
      "metadata": {
        "id": "Zn-U6NMnwBbA",
        "colab_type": "code",
        "colab": {}
      },
      "source": [
        "# from tensorflow.keras.callbacks import ModelCheckpoint, EarlyStopping, ReduceLROnPlateau\n",
        "# stop = EarlyStopping(monitor=\"loss\", patience=5, mode=\"min\")\n",
        "# checkpoint = ModelCheckpoint(os.path.join('web_softmax_bce_SGD.hdf5'),\n",
        "#                                            monitor='val_loss', mode='min', save_best_only=True, \n",
        "#                                            save_weights_only=False, verbose=0)"
      ],
      "execution_count": null,
      "outputs": []
    },
    {
      "cell_type": "markdown",
      "metadata": {
        "id": "ilAF2SVHU5Ca",
        "colab_type": "text"
      },
      "source": [
        "# Running the Model"
      ]
    },
    {
      "cell_type": "code",
      "metadata": {
        "id": "ofQASVh3mE7c",
        "colab_type": "code",
        "colab": {}
      },
      "source": [
        "# model_info=model_webnet.fit_generator(\n",
        "#  train_gen,\n",
        "#     steps_per_epoch=200,\n",
        "#     epochs=10,\n",
        "#     validation_data=valid_gen,\n",
        "#     validation_steps=50,\n",
        "#      callbacks=[tf.keras.callbacks.CSVLogger(os.path.join('training_web_log.csv'), append=True),\n",
        "#                                          checkpoint,learning_rate,stop])"
      ],
      "execution_count": null,
      "outputs": []
    },
    {
      "cell_type": "markdown",
      "metadata": {
        "id": "OzUUleSKLV0R",
        "colab_type": "text"
      },
      "source": [
        "**Save the weights**"
      ]
    },
    {
      "cell_type": "code",
      "metadata": {
        "id": "2NGMebJJ-JJ0",
        "colab_type": "code",
        "colab": {}
      },
      "source": [
        "#model_webnet.save_weights(\"/content/drive/My Drive/AIML/model.h5\")"
      ],
      "execution_count": null,
      "outputs": []
    },
    {
      "cell_type": "markdown",
      "metadata": {
        "id": "h5u56FjJLblP",
        "colab_type": "text"
      },
      "source": [
        "# Predict the Output for One Sample Image"
      ]
    },
    {
      "cell_type": "markdown",
      "metadata": {
        "id": "3z92InZTLmDr",
        "colab_type": "text"
      },
      "source": [
        "**Original Image**"
      ]
    },
    {
      "cell_type": "code",
      "metadata": {
        "id": "sI2dnB6WmNwS",
        "colab_type": "code",
        "colab": {
          "base_uri": "https://localhost:8080/",
          "height": 286
        },
        "outputId": "229c22bd-895f-4192-ae92-2313c5941dd7"
      },
      "source": [
        "metadata = pydicom.read_file(images_path+'/'+test_filenames[0])\n",
        "sample_image = metadata.pixel_array\n",
        "sample_image.shape\n",
        "plt.imshow(sample_image)"
      ],
      "execution_count": null,
      "outputs": [
        {
          "output_type": "execute_result",
          "data": {
            "text/plain": [
              "<matplotlib.image.AxesImage at 0x7f29783c9d68>"
            ]
          },
          "metadata": {
            "tags": []
          },
          "execution_count": 27
        },
        {
          "output_type": "display_data",
          "data": {
            "image/png": "[encoded data removed]",
            "text/plain": [
              "<Figure size 432x288 with 1 Axes>"
            ]
          },
          "metadata": {
            "tags": [],
            "needs_background": "light"
          }
        }
      ]
    },
    {
      "cell_type": "markdown",
      "metadata": {
        "id": "fbKaUdl7L5Va",
        "colab_type": "text"
      },
      "source": [
        "**Creating the test data to provide as input for prediction**"
      ]
    },
    {
      "cell_type": "code",
      "metadata": {
        "id": "-f8sQjnLmlqj",
        "colab_type": "code",
        "colab": {
          "base_uri": "https://localhost:8080/",
          "height": 34
        },
        "outputId": "07c07643-a6d6-4b32-d62f-1c11000f2bb8"
      },
      "source": [
        "#Try predicting a single image file first\n",
        "sample_image = resize(sample_image, (128, 128), mode='reflect')\n",
        "# add trailing channel dimension\n",
        "sample_image = np.expand_dims(sample_image, -1)\n",
        "test_data = []\n",
        "test_data.append(sample_image)\n",
        "test_data = np.array(test_data)\n",
        "test_data[0].shape"
      ],
      "execution_count": null,
      "outputs": [
        {
          "output_type": "execute_result",
          "data": {
            "text/plain": [
              "(128, 128, 1)"
            ]
          },
          "metadata": {
            "tags": []
          },
          "execution_count": 28
        }
      ]
    },
    {
      "cell_type": "code",
      "metadata": {
        "id": "52WFH8q-mp-N",
        "colab_type": "code",
        "colab": {
          "base_uri": "https://localhost:8080/",
          "height": 34
        },
        "outputId": "aa7bb536-d8af-4966-d7dd-718e3ed0da39"
      },
      "source": [
        "#Predict for the sample image\n",
        "y_predict = model_webnet.predict(test_data)\n",
        "y_predict"
      ],
      "execution_count": null,
      "outputs": [
        {
          "output_type": "execute_result",
          "data": {
            "text/plain": [
              "array([[0.48251098]], dtype=float32)"
            ]
          },
          "metadata": {
            "tags": []
          },
          "execution_count": 29
        }
      ]
    },
    {
      "cell_type": "markdown",
      "metadata": {
        "id": "8R9_HhP7MGpp",
        "colab_type": "text"
      },
      "source": [
        "# Predict For Entire Test Set"
      ]
    },
    {
      "cell_type": "code",
      "metadata": {
        "id": "Y4DpGwSSn3T9",
        "colab_type": "code",
        "colab": {}
      },
      "source": [
        "##### New prediction Code - To run on entire test set\n",
        "## Create an array of test images: test_data\n",
        "## Create an array of labels for test data: test_labels\n",
        "## Use test_data to get a prediction\n",
        "## Use test_labels to calculate the accuracy, precision and recall\n",
        "\n",
        "test_labels = []\n",
        "test_data = []\n",
        "for test_file in test_filenames:\n",
        "  img = pydicom.dcmread(os.path.join(folder, test_file)).pixel_array\n",
        "  img = resize(img, (128, 128), mode='reflect')\n",
        "\n",
        "  test_file = test_file.split('.')[0]\n",
        "  if test_file in nodule_locations:\n",
        "    label = 1\n",
        "  else:\n",
        "    label = 0\n",
        "  test_labels.append(label)\n",
        "  test_data.append(img)\n",
        " \n",
        "test_labels = np.array(test_labels)\n",
        "test_data = np.array(test_data)"
      ],
      "execution_count": null,
      "outputs": []
    },
    {
      "cell_type": "code",
      "metadata": {
        "id": "B9KENkZrY_jb",
        "colab_type": "code",
        "colab": {}
      },
      "source": [
        "# Predict for entire test set\n",
        "y_predict = model_webnet.predict(test_data)"
      ],
      "execution_count": null,
      "outputs": []
    },
    {
      "cell_type": "code",
      "metadata": {
        "id": "PsuUzxrDCadS",
        "colab_type": "code",
        "colab": {
          "base_uri": "https://localhost:8080/",
          "height": 102
        },
        "outputId": "dfb95d79-a135-4ece-c17c-eda535775423"
      },
      "source": [
        "y_predict[10:15]"
      ],
      "execution_count": null,
      "outputs": [
        {
          "output_type": "execute_result",
          "data": {
            "text/plain": [
              "array([[0.09798399],\n",
              "       [0.2784703 ],\n",
              "       [0.08329991],\n",
              "       [0.43141395],\n",
              "       [0.22767322]], dtype=float32)"
            ]
          },
          "metadata": {
            "tags": []
          },
          "execution_count": 32
        }
      ]
    },
    {
      "cell_type": "markdown",
      "metadata": {
        "id": "WmOoNdQHOq6P",
        "colab_type": "text"
      },
      "source": [
        "# Model Evaluation"
      ]
    },
    {
      "cell_type": "code",
      "metadata": {
        "id": "QWJc6yH9VYIt",
        "colab_type": "code",
        "colab": {}
      },
      "source": [
        "true_positive = 0\n",
        "true_negative = 0\n",
        "false_positive = 0\n",
        "false_negative = 0\n",
        "for i in range(1000):\n",
        "    if (y_predict[i]   >= 0.42 and test_labels[i] == 1):\n",
        "        true_positive +=1\n",
        "    if (y_predict[i]  < 0.42 and test_labels[i] == 0):\n",
        "        true_negative +=1\n",
        "    if (y_predict[i]   >= 0.42 and test_labels[i] == 0):\n",
        "        false_positive += 1 \n",
        "    if (y_predict[i]  < 0.42 and test_labels[i] == 1):\n",
        "        false_negative += 1"
      ],
      "execution_count": null,
      "outputs": []
    },
    {
      "cell_type": "code",
      "metadata": {
        "id": "Am55xueFAAon",
        "colab_type": "code",
        "colab": {
          "base_uri": "https://localhost:8080/",
          "height": 34
        },
        "outputId": "36f912d2-7531-4c79-cf8d-a17dc8d6e1e2"
      },
      "source": [
        "print(true_positive, false_positive, true_negative, false_negative)"
      ],
      "execution_count": null,
      "outputs": [
        {
          "output_type": "stream",
          "text": [
            "106 102 689 103\n"
          ],
          "name": "stdout"
        }
      ]
    },
    {
      "cell_type": "markdown",
      "metadata": {
        "id": "8JvdskcRVybv",
        "colab_type": "text"
      },
      "source": [
        "**Precision & Recall**"
      ]
    },
    {
      "cell_type": "code",
      "metadata": {
        "id": "lyL3uqzP3-mG",
        "colab_type": "code",
        "colab": {}
      },
      "source": [
        "precision = true_positive / ( true_positive + false_positive)\n",
        "recall = true_positive / (true_positive + false_negative )\n",
        "accuracy = ( true_positive + true_negative)/ (true_positive + true_negative + false_positive + false_negative)"
      ],
      "execution_count": null,
      "outputs": []
    },
    {
      "cell_type": "code",
      "metadata": {
        "id": "aK_GfxTk4Fgu",
        "colab_type": "code",
        "colab": {
          "base_uri": "https://localhost:8080/",
          "height": 68
        },
        "outputId": "00c1bf06-ee33-4b12-88d3-1c8a42dacd29"
      },
      "source": [
        "print ('precision :' , precision)\n",
        "print ('recall :', recall)\n",
        "print ('accuracy :', accuracy)"
      ],
      "execution_count": null,
      "outputs": [
        {
          "output_type": "stream",
          "text": [
            "precision : 0.5096153846153846\n",
            "recall : 0.507177033492823\n",
            "accuracy : 0.795\n"
          ],
          "name": "stdout"
        }
      ]
    },
    {
      "cell_type": "markdown",
      "metadata": {
        "id": "fisxGsJAOxrh",
        "colab_type": "text"
      },
      "source": [
        "# ROC Curve"
      ]
    },
    {
      "cell_type": "code",
      "metadata": {
        "colab_type": "code",
        "id": "UtDEAozaM-Mu",
        "colab": {}
      },
      "source": [
        "# Calculating thresolds usings Precision_recall_curve\n",
        "scores = np.array([true_positive, true_negative, false_positive, false_negative])\n",
        "fpr, tpr, thresholds = metrics.roc_curve(test_labels, y_predict)\n",
        "#print(fpr, tpr)"
      ],
      "execution_count": null,
      "outputs": []
    },
    {
      "cell_type": "code",
      "metadata": {
        "id": "Tv6TeIjMMRzt",
        "colab_type": "code",
        "colab": {
          "base_uri": "https://localhost:8080/",
          "height": 51
        },
        "outputId": "b2402e83-2e95-461f-ee82-c66249a8b70e"
      },
      "source": [
        "roc_auc = metrics.auc(fpr, tpr)\n",
        "plt.figure()"
      ],
      "execution_count": null,
      "outputs": [
        {
          "output_type": "execute_result",
          "data": {
            "text/plain": [
              "<Figure size 432x288 with 0 Axes>"
            ]
          },
          "metadata": {
            "tags": []
          },
          "execution_count": 38
        },
        {
          "output_type": "display_data",
          "data": {
            "text/plain": [
              "<Figure size 432x288 with 0 Axes>"
            ]
          },
          "metadata": {
            "tags": []
          }
        }
      ]
    },
    {
      "cell_type": "code",
      "metadata": {
        "id": "e829pfTRMs6o",
        "colab_type": "code",
        "colab": {
          "base_uri": "https://localhost:8080/",
          "height": 295
        },
        "outputId": "a32dbe71-7a9b-48a1-aa2a-618ab56c2299"
      },
      "source": [
        "lw = 2\n",
        "plt.plot(fpr, tpr, color='darkorange',lw=lw, label='ROC curve (area = %0.2f)' % roc_auc)\n",
        "plt.plot([0, 1], [0, 1], color='navy', lw=lw, linestyle='--')\n",
        "plt.xlim([0.0, 1.0])\n",
        "plt.ylim([0.0, 1.05])\n",
        "plt.xlabel('False Positive Rate')\n",
        "plt.ylabel('True Positive Rate')\n",
        "plt.title('Receiver operating characteristic example')\n",
        "plt.legend(loc=\"lower right\")\n",
        "plt.show()"
      ],
      "execution_count": null,
      "outputs": [
        {
          "output_type": "display_data",
          "data": {
            "image/png": "[encoded data removed]",
            "text/plain": [
              "<Figure size 432x288 with 1 Axes>"
            ]
          },
          "metadata": {
            "tags": [],
            "needs_background": "light"
          }
        }
      ]
    }
  ]
}